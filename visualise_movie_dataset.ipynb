{
 "cells": [
  {
   "cell_type": "code",
   "execution_count": 1,
   "metadata": {},
   "outputs": [],
   "source": [
    "import numpy as np\n",
    "import pandas as pd\n",
    "import seaborn as sns"
   ]
  },
  {
   "cell_type": "code",
   "execution_count": 2,
   "metadata": {},
   "outputs": [],
   "source": [
    "df = pd.read_csv(\"./movie_dataset.csv\", header=0)"
   ]
  },
  {
   "cell_type": "code",
   "execution_count": 3,
   "metadata": {},
   "outputs": [
    {
     "data": {
      "text/plain": [
       "(506, 20)"
      ]
     },
     "execution_count": 3,
     "metadata": {},
     "output_type": "execute_result"
    }
   ],
   "source": [
    "df.shape"
   ]
  },
  {
   "cell_type": "code",
   "execution_count": 4,
   "metadata": {},
   "outputs": [
    {
     "data": {
      "text/html": [
       "<div>\n",
       "<style scoped>\n",
       "    .dataframe tbody tr th:only-of-type {\n",
       "        vertical-align: middle;\n",
       "    }\n",
       "\n",
       "    .dataframe tbody tr th {\n",
       "        vertical-align: top;\n",
       "    }\n",
       "\n",
       "    .dataframe thead th {\n",
       "        text-align: right;\n",
       "    }\n",
       "</style>\n",
       "<table border=\"1\" class=\"dataframe\">\n",
       "  <thead>\n",
       "    <tr style=\"text-align: right;\">\n",
       "      <th></th>\n",
       "      <th>Collection</th>\n",
       "      <th>Marketing expense</th>\n",
       "      <th>Production expense</th>\n",
       "      <th>Multiplex coverage</th>\n",
       "      <th>Budget</th>\n",
       "      <th>Movie_length</th>\n",
       "      <th>Lead_ Actor_Rating</th>\n",
       "      <th>Lead_Actress_rating</th>\n",
       "      <th>Director_rating</th>\n",
       "      <th>Producer_rating</th>\n",
       "      <th>Critic_rating</th>\n",
       "      <th>Trailer_views</th>\n",
       "      <th>3D_available</th>\n",
       "      <th>Time_taken</th>\n",
       "      <th>Twitter_hastags</th>\n",
       "      <th>Genre</th>\n",
       "      <th>Avg_age_actors</th>\n",
       "      <th>MPAA_film_rating</th>\n",
       "      <th>Num_multiplex</th>\n",
       "      <th>Start_Tech_Oscar</th>\n",
       "    </tr>\n",
       "  </thead>\n",
       "  <tbody>\n",
       "    <tr>\n",
       "      <th>0</th>\n",
       "      <td>48000</td>\n",
       "      <td>20.1264</td>\n",
       "      <td>59.62</td>\n",
       "      <td>0.462</td>\n",
       "      <td>36524.125</td>\n",
       "      <td>138.7</td>\n",
       "      <td>7.825</td>\n",
       "      <td>8.095</td>\n",
       "      <td>7.910</td>\n",
       "      <td>7.995</td>\n",
       "      <td>7.94</td>\n",
       "      <td>527367</td>\n",
       "      <td>YES</td>\n",
       "      <td>109.60</td>\n",
       "      <td>223.840</td>\n",
       "      <td>Thriller</td>\n",
       "      <td>23</td>\n",
       "      <td>PG</td>\n",
       "      <td>494</td>\n",
       "      <td>0</td>\n",
       "    </tr>\n",
       "    <tr>\n",
       "      <th>1</th>\n",
       "      <td>43200</td>\n",
       "      <td>20.5462</td>\n",
       "      <td>69.14</td>\n",
       "      <td>0.531</td>\n",
       "      <td>35668.655</td>\n",
       "      <td>152.4</td>\n",
       "      <td>7.505</td>\n",
       "      <td>7.650</td>\n",
       "      <td>7.440</td>\n",
       "      <td>7.470</td>\n",
       "      <td>7.44</td>\n",
       "      <td>494055</td>\n",
       "      <td>NO</td>\n",
       "      <td>146.64</td>\n",
       "      <td>243.456</td>\n",
       "      <td>Drama</td>\n",
       "      <td>42</td>\n",
       "      <td>PG</td>\n",
       "      <td>462</td>\n",
       "      <td>1</td>\n",
       "    </tr>\n",
       "    <tr>\n",
       "      <th>2</th>\n",
       "      <td>69400</td>\n",
       "      <td>20.5458</td>\n",
       "      <td>69.14</td>\n",
       "      <td>0.531</td>\n",
       "      <td>39912.675</td>\n",
       "      <td>134.6</td>\n",
       "      <td>7.485</td>\n",
       "      <td>7.570</td>\n",
       "      <td>7.495</td>\n",
       "      <td>7.515</td>\n",
       "      <td>7.44</td>\n",
       "      <td>547051</td>\n",
       "      <td>NO</td>\n",
       "      <td>147.88</td>\n",
       "      <td>2022.400</td>\n",
       "      <td>Comedy</td>\n",
       "      <td>38</td>\n",
       "      <td>PG</td>\n",
       "      <td>458</td>\n",
       "      <td>0</td>\n",
       "    </tr>\n",
       "    <tr>\n",
       "      <th>3</th>\n",
       "      <td>66800</td>\n",
       "      <td>20.6474</td>\n",
       "      <td>59.36</td>\n",
       "      <td>0.542</td>\n",
       "      <td>38873.890</td>\n",
       "      <td>119.3</td>\n",
       "      <td>6.895</td>\n",
       "      <td>7.035</td>\n",
       "      <td>6.920</td>\n",
       "      <td>7.020</td>\n",
       "      <td>8.26</td>\n",
       "      <td>516279</td>\n",
       "      <td>YES</td>\n",
       "      <td>185.36</td>\n",
       "      <td>225.344</td>\n",
       "      <td>Drama</td>\n",
       "      <td>45</td>\n",
       "      <td>PG</td>\n",
       "      <td>472</td>\n",
       "      <td>0</td>\n",
       "    </tr>\n",
       "    <tr>\n",
       "      <th>4</th>\n",
       "      <td>72400</td>\n",
       "      <td>21.3810</td>\n",
       "      <td>59.36</td>\n",
       "      <td>0.542</td>\n",
       "      <td>39701.585</td>\n",
       "      <td>127.7</td>\n",
       "      <td>6.920</td>\n",
       "      <td>7.070</td>\n",
       "      <td>6.815</td>\n",
       "      <td>7.070</td>\n",
       "      <td>8.26</td>\n",
       "      <td>531448</td>\n",
       "      <td>NO</td>\n",
       "      <td>176.48</td>\n",
       "      <td>225.792</td>\n",
       "      <td>Drama</td>\n",
       "      <td>55</td>\n",
       "      <td>PG</td>\n",
       "      <td>395</td>\n",
       "      <td>0</td>\n",
       "    </tr>\n",
       "  </tbody>\n",
       "</table>\n",
       "</div>"
      ],
      "text/plain": [
       "   Collection  Marketing expense  Production expense  Multiplex coverage  \\\n",
       "0       48000            20.1264               59.62               0.462   \n",
       "1       43200            20.5462               69.14               0.531   \n",
       "2       69400            20.5458               69.14               0.531   \n",
       "3       66800            20.6474               59.36               0.542   \n",
       "4       72400            21.3810               59.36               0.542   \n",
       "\n",
       "      Budget  Movie_length  Lead_ Actor_Rating  Lead_Actress_rating  \\\n",
       "0  36524.125         138.7               7.825                8.095   \n",
       "1  35668.655         152.4               7.505                7.650   \n",
       "2  39912.675         134.6               7.485                7.570   \n",
       "3  38873.890         119.3               6.895                7.035   \n",
       "4  39701.585         127.7               6.920                7.070   \n",
       "\n",
       "   Director_rating  Producer_rating  Critic_rating  Trailer_views  \\\n",
       "0            7.910            7.995           7.94         527367   \n",
       "1            7.440            7.470           7.44         494055   \n",
       "2            7.495            7.515           7.44         547051   \n",
       "3            6.920            7.020           8.26         516279   \n",
       "4            6.815            7.070           8.26         531448   \n",
       "\n",
       "  3D_available  Time_taken  Twitter_hastags     Genre  Avg_age_actors  \\\n",
       "0          YES      109.60          223.840  Thriller              23   \n",
       "1           NO      146.64          243.456     Drama              42   \n",
       "2           NO      147.88         2022.400    Comedy              38   \n",
       "3          YES      185.36          225.344     Drama              45   \n",
       "4           NO      176.48          225.792     Drama              55   \n",
       "\n",
       "  MPAA_film_rating  Num_multiplex  Start_Tech_Oscar  \n",
       "0               PG            494                 0  \n",
       "1               PG            462                 1  \n",
       "2               PG            458                 0  \n",
       "3               PG            472                 0  \n",
       "4               PG            395                 0  "
      ]
     },
     "execution_count": 4,
     "metadata": {},
     "output_type": "execute_result"
    }
   ],
   "source": [
    "df.head()"
   ]
  },
  {
   "cell_type": "code",
   "execution_count": 5,
   "metadata": {},
   "outputs": [
    {
     "name": "stdout",
     "output_type": "stream",
     "text": [
      "<class 'pandas.core.frame.DataFrame'>\n",
      "RangeIndex: 506 entries, 0 to 505\n",
      "Data columns (total 20 columns):\n",
      " #   Column               Non-Null Count  Dtype  \n",
      "---  ------               --------------  -----  \n",
      " 0   Collection           506 non-null    int64  \n",
      " 1   Marketing expense    506 non-null    float64\n",
      " 2   Production expense   506 non-null    float64\n",
      " 3   Multiplex coverage   506 non-null    float64\n",
      " 4   Budget               506 non-null    float64\n",
      " 5   Movie_length         506 non-null    float64\n",
      " 6   Lead_ Actor_Rating   506 non-null    float64\n",
      " 7   Lead_Actress_rating  506 non-null    float64\n",
      " 8   Director_rating      506 non-null    float64\n",
      " 9   Producer_rating      506 non-null    float64\n",
      " 10  Critic_rating        506 non-null    float64\n",
      " 11  Trailer_views        506 non-null    int64  \n",
      " 12  3D_available         506 non-null    object \n",
      " 13  Time_taken           494 non-null    float64\n",
      " 14  Twitter_hastags      506 non-null    float64\n",
      " 15  Genre                506 non-null    object \n",
      " 16  Avg_age_actors       506 non-null    int64  \n",
      " 17  MPAA_film_rating     506 non-null    object \n",
      " 18  Num_multiplex        506 non-null    int64  \n",
      " 19  Start_Tech_Oscar     506 non-null    int64  \n",
      "dtypes: float64(12), int64(5), object(3)\n",
      "memory usage: 79.2+ KB\n"
     ]
    }
   ],
   "source": [
    "df.info()"
   ]
  },
  {
   "cell_type": "code",
   "execution_count": 6,
   "metadata": {},
   "outputs": [
    {
     "data": {
      "text/html": [
       "<div>\n",
       "<style scoped>\n",
       "    .dataframe tbody tr th:only-of-type {\n",
       "        vertical-align: middle;\n",
       "    }\n",
       "\n",
       "    .dataframe tbody tr th {\n",
       "        vertical-align: top;\n",
       "    }\n",
       "\n",
       "    .dataframe thead th {\n",
       "        text-align: right;\n",
       "    }\n",
       "</style>\n",
       "<table border=\"1\" class=\"dataframe\">\n",
       "  <thead>\n",
       "    <tr style=\"text-align: right;\">\n",
       "      <th></th>\n",
       "      <th>Collection</th>\n",
       "      <th>Marketing expense</th>\n",
       "      <th>Production expense</th>\n",
       "      <th>Multiplex coverage</th>\n",
       "      <th>Budget</th>\n",
       "      <th>Movie_length</th>\n",
       "      <th>Lead_ Actor_Rating</th>\n",
       "      <th>Lead_Actress_rating</th>\n",
       "      <th>Director_rating</th>\n",
       "      <th>Producer_rating</th>\n",
       "      <th>Critic_rating</th>\n",
       "      <th>Trailer_views</th>\n",
       "      <th>Time_taken</th>\n",
       "      <th>Twitter_hastags</th>\n",
       "      <th>Avg_age_actors</th>\n",
       "      <th>Num_multiplex</th>\n",
       "      <th>Start_Tech_Oscar</th>\n",
       "    </tr>\n",
       "  </thead>\n",
       "  <tbody>\n",
       "    <tr>\n",
       "      <th>count</th>\n",
       "      <td>506.000000</td>\n",
       "      <td>506.000000</td>\n",
       "      <td>506.000000</td>\n",
       "      <td>506.000000</td>\n",
       "      <td>506.000000</td>\n",
       "      <td>506.000000</td>\n",
       "      <td>506.000000</td>\n",
       "      <td>506.000000</td>\n",
       "      <td>506.000000</td>\n",
       "      <td>506.000000</td>\n",
       "      <td>506.000000</td>\n",
       "      <td>506.000000</td>\n",
       "      <td>494.000000</td>\n",
       "      <td>506.000000</td>\n",
       "      <td>506.000000</td>\n",
       "      <td>506.000000</td>\n",
       "      <td>506.000000</td>\n",
       "    </tr>\n",
       "    <tr>\n",
       "      <th>mean</th>\n",
       "      <td>45057.707510</td>\n",
       "      <td>92.270471</td>\n",
       "      <td>77.273557</td>\n",
       "      <td>0.445305</td>\n",
       "      <td>34911.144022</td>\n",
       "      <td>142.074901</td>\n",
       "      <td>8.014002</td>\n",
       "      <td>8.185613</td>\n",
       "      <td>8.019664</td>\n",
       "      <td>8.190514</td>\n",
       "      <td>7.810870</td>\n",
       "      <td>449860.715415</td>\n",
       "      <td>157.391498</td>\n",
       "      <td>260.832095</td>\n",
       "      <td>39.181818</td>\n",
       "      <td>545.043478</td>\n",
       "      <td>0.454545</td>\n",
       "    </tr>\n",
       "    <tr>\n",
       "      <th>std</th>\n",
       "      <td>18364.351764</td>\n",
       "      <td>172.030902</td>\n",
       "      <td>13.720706</td>\n",
       "      <td>0.115878</td>\n",
       "      <td>3903.038232</td>\n",
       "      <td>28.148861</td>\n",
       "      <td>1.054266</td>\n",
       "      <td>1.054290</td>\n",
       "      <td>1.059899</td>\n",
       "      <td>1.049601</td>\n",
       "      <td>0.659699</td>\n",
       "      <td>68917.763145</td>\n",
       "      <td>31.295161</td>\n",
       "      <td>104.779133</td>\n",
       "      <td>12.513697</td>\n",
       "      <td>106.332889</td>\n",
       "      <td>0.498422</td>\n",
       "    </tr>\n",
       "    <tr>\n",
       "      <th>min</th>\n",
       "      <td>10000.000000</td>\n",
       "      <td>20.126400</td>\n",
       "      <td>55.920000</td>\n",
       "      <td>0.129000</td>\n",
       "      <td>19781.355000</td>\n",
       "      <td>76.400000</td>\n",
       "      <td>3.840000</td>\n",
       "      <td>4.035000</td>\n",
       "      <td>3.840000</td>\n",
       "      <td>4.030000</td>\n",
       "      <td>6.600000</td>\n",
       "      <td>212912.000000</td>\n",
       "      <td>0.000000</td>\n",
       "      <td>201.152000</td>\n",
       "      <td>3.000000</td>\n",
       "      <td>333.000000</td>\n",
       "      <td>0.000000</td>\n",
       "    </tr>\n",
       "    <tr>\n",
       "      <th>25%</th>\n",
       "      <td>34050.000000</td>\n",
       "      <td>21.640900</td>\n",
       "      <td>65.380000</td>\n",
       "      <td>0.376000</td>\n",
       "      <td>32693.952500</td>\n",
       "      <td>118.525000</td>\n",
       "      <td>7.316250</td>\n",
       "      <td>7.503750</td>\n",
       "      <td>7.296250</td>\n",
       "      <td>7.507500</td>\n",
       "      <td>7.200000</td>\n",
       "      <td>409128.000000</td>\n",
       "      <td>132.300000</td>\n",
       "      <td>223.796000</td>\n",
       "      <td>28.000000</td>\n",
       "      <td>465.000000</td>\n",
       "      <td>0.000000</td>\n",
       "    </tr>\n",
       "    <tr>\n",
       "      <th>50%</th>\n",
       "      <td>42400.000000</td>\n",
       "      <td>25.130200</td>\n",
       "      <td>74.380000</td>\n",
       "      <td>0.462000</td>\n",
       "      <td>34488.217500</td>\n",
       "      <td>151.000000</td>\n",
       "      <td>8.307500</td>\n",
       "      <td>8.495000</td>\n",
       "      <td>8.312500</td>\n",
       "      <td>8.465000</td>\n",
       "      <td>7.960000</td>\n",
       "      <td>462460.000000</td>\n",
       "      <td>160.000000</td>\n",
       "      <td>254.400000</td>\n",
       "      <td>39.000000</td>\n",
       "      <td>535.500000</td>\n",
       "      <td>0.000000</td>\n",
       "    </tr>\n",
       "    <tr>\n",
       "      <th>75%</th>\n",
       "      <td>50000.000000</td>\n",
       "      <td>93.541650</td>\n",
       "      <td>91.200000</td>\n",
       "      <td>0.551000</td>\n",
       "      <td>36793.542500</td>\n",
       "      <td>167.575000</td>\n",
       "      <td>8.865000</td>\n",
       "      <td>9.030000</td>\n",
       "      <td>8.883750</td>\n",
       "      <td>9.030000</td>\n",
       "      <td>8.260000</td>\n",
       "      <td>500247.500000</td>\n",
       "      <td>181.890000</td>\n",
       "      <td>283.416000</td>\n",
       "      <td>50.000000</td>\n",
       "      <td>614.750000</td>\n",
       "      <td>1.000000</td>\n",
       "    </tr>\n",
       "    <tr>\n",
       "      <th>max</th>\n",
       "      <td>100000.000000</td>\n",
       "      <td>1799.524000</td>\n",
       "      <td>110.480000</td>\n",
       "      <td>0.615000</td>\n",
       "      <td>48772.900000</td>\n",
       "      <td>173.500000</td>\n",
       "      <td>9.435000</td>\n",
       "      <td>9.540000</td>\n",
       "      <td>9.425000</td>\n",
       "      <td>9.635000</td>\n",
       "      <td>9.400000</td>\n",
       "      <td>567784.000000</td>\n",
       "      <td>217.520000</td>\n",
       "      <td>2022.400000</td>\n",
       "      <td>60.000000</td>\n",
       "      <td>868.000000</td>\n",
       "      <td>1.000000</td>\n",
       "    </tr>\n",
       "  </tbody>\n",
       "</table>\n",
       "</div>"
      ],
      "text/plain": [
       "          Collection  Marketing expense  Production expense  \\\n",
       "count     506.000000         506.000000          506.000000   \n",
       "mean    45057.707510          92.270471           77.273557   \n",
       "std     18364.351764         172.030902           13.720706   \n",
       "min     10000.000000          20.126400           55.920000   \n",
       "25%     34050.000000          21.640900           65.380000   \n",
       "50%     42400.000000          25.130200           74.380000   \n",
       "75%     50000.000000          93.541650           91.200000   \n",
       "max    100000.000000        1799.524000          110.480000   \n",
       "\n",
       "       Multiplex coverage        Budget  Movie_length  Lead_ Actor_Rating  \\\n",
       "count          506.000000    506.000000    506.000000          506.000000   \n",
       "mean             0.445305  34911.144022    142.074901            8.014002   \n",
       "std              0.115878   3903.038232     28.148861            1.054266   \n",
       "min              0.129000  19781.355000     76.400000            3.840000   \n",
       "25%              0.376000  32693.952500    118.525000            7.316250   \n",
       "50%              0.462000  34488.217500    151.000000            8.307500   \n",
       "75%              0.551000  36793.542500    167.575000            8.865000   \n",
       "max              0.615000  48772.900000    173.500000            9.435000   \n",
       "\n",
       "       Lead_Actress_rating  Director_rating  Producer_rating  Critic_rating  \\\n",
       "count           506.000000       506.000000       506.000000     506.000000   \n",
       "mean              8.185613         8.019664         8.190514       7.810870   \n",
       "std               1.054290         1.059899         1.049601       0.659699   \n",
       "min               4.035000         3.840000         4.030000       6.600000   \n",
       "25%               7.503750         7.296250         7.507500       7.200000   \n",
       "50%               8.495000         8.312500         8.465000       7.960000   \n",
       "75%               9.030000         8.883750         9.030000       8.260000   \n",
       "max               9.540000         9.425000         9.635000       9.400000   \n",
       "\n",
       "       Trailer_views  Time_taken  Twitter_hastags  Avg_age_actors  \\\n",
       "count     506.000000  494.000000       506.000000      506.000000   \n",
       "mean   449860.715415  157.391498       260.832095       39.181818   \n",
       "std     68917.763145   31.295161       104.779133       12.513697   \n",
       "min    212912.000000    0.000000       201.152000        3.000000   \n",
       "25%    409128.000000  132.300000       223.796000       28.000000   \n",
       "50%    462460.000000  160.000000       254.400000       39.000000   \n",
       "75%    500247.500000  181.890000       283.416000       50.000000   \n",
       "max    567784.000000  217.520000      2022.400000       60.000000   \n",
       "\n",
       "       Num_multiplex  Start_Tech_Oscar  \n",
       "count     506.000000        506.000000  \n",
       "mean      545.043478          0.454545  \n",
       "std       106.332889          0.498422  \n",
       "min       333.000000          0.000000  \n",
       "25%       465.000000          0.000000  \n",
       "50%       535.500000          0.000000  \n",
       "75%       614.750000          1.000000  \n",
       "max       868.000000          1.000000  "
      ]
     },
     "execution_count": 6,
     "metadata": {},
     "output_type": "execute_result"
    }
   ],
   "source": [
    "df.describe()"
   ]
  },
  {
   "cell_type": "code",
   "execution_count": 7,
   "metadata": {},
   "outputs": [
    {
     "data": {
      "text/plain": [
       "<matplotlib.axes._subplots.AxesSubplot at 0x7fe3d5ea6ed0>"
      ]
     },
     "execution_count": 7,
     "metadata": {},
     "output_type": "execute_result"
    },
    {
     "data": {
      "image/png": "[encoded data removed]",
      "text/plain": [
       "<Figure size 432x288 with 1 Axes>"
      ]
     },
     "metadata": {
      "needs_background": "light"
     },
     "output_type": "display_data"
    }
   ],
   "source": [
    "sns.boxplot(y=\"Multiplex coverage\", data=df)"
   ]
  },
  {
   "cell_type": "code",
   "execution_count": 8,
   "metadata": {},
   "outputs": [
    {
     "data": {
      "text/plain": [
       "<matplotlib.axes._subplots.AxesSubplot at 0x7fe3d18b5810>"
      ]
     },
     "execution_count": 8,
     "metadata": {},
     "output_type": "execute_result"
    },
    {
     "data": {
      "image/png": "[encoded data removed]",
      "text/plain": [
       "<Figure size 432x288 with 1 Axes>"
      ]
     },
     "metadata": {
      "needs_background": "light"
     },
     "output_type": "display_data"
    }
   ],
   "source": [
    "sns.boxplot(y=\"Budget\", data=df)"
   ]
  },
  {
   "cell_type": "code",
   "execution_count": 9,
   "metadata": {},
   "outputs": [
    {
     "data": {
      "text/plain": [
       "<matplotlib.axes._subplots.AxesSubplot at 0x7fe3d18ac690>"
      ]
     },
     "execution_count": 9,
     "metadata": {},
     "output_type": "execute_result"
    },
    {
     "data": {
      "image/png": "[encoded data removed]",
      "text/plain": [
       "<Figure size 432x288 with 1 Axes>"
      ]
     },
     "metadata": {
      "needs_background": "light"
     },
     "output_type": "display_data"
    }
   ],
   "source": [
    "sns.boxplot(y=\"Movie_length\", data=df)"
   ]
  },
  {
   "cell_type": "code",
   "execution_count": 10,
   "metadata": {},
   "outputs": [
    {
     "data": {
      "text/plain": [
       "<matplotlib.axes._subplots.AxesSubplot at 0x7fe3d181bfd0>"
      ]
     },
     "execution_count": 10,
     "metadata": {},
     "output_type": "execute_result"
    },
    {
     "data": {
      "image/png": "[encoded data removed]",
      "text/plain": [
       "<Figure size 432x288 with 1 Axes>"
      ]
     },
     "metadata": {
      "needs_background": "light"
     },
     "output_type": "display_data"
    }
   ],
   "source": [
    "sns.boxplot(y=\"Lead_ Actor_Rating\", data=df)"
   ]
  },
  {
   "cell_type": "code",
   "execution_count": 11,
   "metadata": {},
   "outputs": [
    {
     "data": {
      "text/plain": [
       "<matplotlib.axes._subplots.AxesSubplot at 0x7fe3d17854d0>"
      ]
     },
     "execution_count": 11,
     "metadata": {},
     "output_type": "execute_result"
    },
    {
     "data": {
      "image/png": "[encoded data removed]",
      "text/plain": [
       "<Figure size 432x288 with 1 Axes>"
      ]
     },
     "metadata": {
      "needs_background": "light"
     },
     "output_type": "display_data"
    }
   ],
   "source": [
    "sns.boxplot(y=\"Lead_Actress_rating\", data=df)"
   ]
  },
  {
   "cell_type": "code",
   "execution_count": 12,
   "metadata": {},
   "outputs": [
    {
     "data": {
      "text/plain": [
       "<matplotlib.axes._subplots.AxesSubplot at 0x7fe3d16f8050>"
      ]
     },
     "execution_count": 12,
     "metadata": {},
     "output_type": "execute_result"
    },
    {
     "data": {
      "image/png": "[encoded data removed]",
      "text/plain": [
       "<Figure size 432x288 with 1 Axes>"
      ]
     },
     "metadata": {
      "needs_background": "light"
     },
     "output_type": "display_data"
    }
   ],
   "source": [
    "sns.boxplot(y=\"Director_rating\", data=df)"
   ]
  },
  {
   "cell_type": "code",
   "execution_count": 13,
   "metadata": {},
   "outputs": [
    {
     "data": {
      "text/plain": [
       "<matplotlib.axes._subplots.AxesSubplot at 0x7fe3d16ddd50>"
      ]
     },
     "execution_count": 13,
     "metadata": {},
     "output_type": "execute_result"
    },
    {
     "data": {
      "image/png": "[encoded data removed]",
      "text/plain": [
       "<Figure size 432x288 with 1 Axes>"
      ]
     },
     "metadata": {
      "needs_background": "light"
     },
     "output_type": "display_data"
    }
   ],
   "source": [
    "sns.boxplot(y=\"Producer_rating\", data=df)"
   ]
  },
  {
   "cell_type": "code",
   "execution_count": 14,
   "metadata": {},
   "outputs": [
    {
     "data": {
      "text/plain": [
       "<matplotlib.axes._subplots.AxesSubplot at 0x7fe3d1651590>"
      ]
     },
     "execution_count": 14,
     "metadata": {},
     "output_type": "execute_result"
    },
    {
     "data": {
      "image/png": "[encoded data removed]",
      "text/plain": [
       "<Figure size 432x288 with 1 Axes>"
      ]
     },
     "metadata": {
      "needs_background": "light"
     },
     "output_type": "display_data"
    }
   ],
   "source": [
    "sns.boxplot(y=\"Critic_rating\", data=df)"
   ]
  },
  {
   "cell_type": "code",
   "execution_count": 15,
   "metadata": {},
   "outputs": [
    {
     "data": {
      "text/plain": [
       "<matplotlib.axes._subplots.AxesSubplot at 0x7fe3d5dd44d0>"
      ]
     },
     "execution_count": 15,
     "metadata": {},
     "output_type": "execute_result"
    },
    {
     "data": {
      "image/png": "[encoded data removed]",
      "text/plain": [
       "<Figure size 432x288 with 1 Axes>"
      ]
     },
     "metadata": {
      "needs_background": "light"
     },
     "output_type": "display_data"
    }
   ],
   "source": [
    "sns.boxplot(y=\"Trailer_views\", data=df)"
   ]
  },
  {
   "cell_type": "code",
   "execution_count": 16,
   "metadata": {},
   "outputs": [
    {
     "data": {
      "text/plain": [
       "<matplotlib.axes._subplots.AxesSubplot at 0x7fe3d18248d0>"
      ]
     },
     "execution_count": 16,
     "metadata": {},
     "output_type": "execute_result"
    },
    {
     "data": {
      "image/png": "[encoded data removed]",
      "text/plain": [
       "<Figure size 432x288 with 1 Axes>"
      ]
     },
     "metadata": {
      "needs_background": "light"
     },
     "output_type": "display_data"
    }
   ],
   "source": [
    "sns.boxplot(y=\"Time_taken\", data=df)"
   ]
  },
  {
   "cell_type": "code",
   "execution_count": null,
   "metadata": {},
   "outputs": [],
   "source": []
  },
  {
   "cell_type": "code",
   "execution_count": null,
   "metadata": {},
   "outputs": [],
   "source": []
  },
  {
   "cell_type": "code",
   "execution_count": null,
   "metadata": {},
   "outputs": [],
   "source": []
  },
  {
   "cell_type": "code",
   "execution_count": null,
   "metadata": {},
   "outputs": [],
   "source": []
  },
  {
   "cell_type": "code",
   "execution_count": 17,
   "metadata": {},
   "outputs": [
    {
     "data": {
      "text/plain": [
       "<matplotlib.axes._subplots.AxesSubplot at 0x7fe3d14f73d0>"
      ]
     },
     "execution_count": 17,
     "metadata": {},
     "output_type": "execute_result"
    },
    {
     "data": {
      "image/png": "[encoded data removed]",
      "text/plain": [
       "<Figure size 432x288 with 1 Axes>"
      ]
     },
     "metadata": {
      "needs_background": "light"
     },
     "output_type": "display_data"
    }
   ],
   "source": [
    "sns.countplot(x=\"3D_available\", data=df)"
   ]
  },
  {
   "cell_type": "code",
   "execution_count": 18,
   "metadata": {},
   "outputs": [
    {
     "data": {
      "text/plain": [
       "<matplotlib.axes._subplots.AxesSubplot at 0x7fe3d14de650>"
      ]
     },
     "execution_count": 18,
     "metadata": {},
     "output_type": "execute_result"
    },
    {
     "data": {
      "image/png": "[encoded data removed]",
      "text/plain": [
       "<Figure size 432x288 with 1 Axes>"
      ]
     },
     "metadata": {
      "needs_background": "light"
     },
     "output_type": "display_data"
    }
   ],
   "source": [
    "sns.countplot(x=\"Genre\", data=df)"
   ]
  },
  {
   "cell_type": "code",
   "execution_count": 19,
   "metadata": {},
   "outputs": [
    {
     "data": {
      "text/plain": [
       "<matplotlib.axes._subplots.AxesSubplot at 0x7fe3d1446810>"
      ]
     },
     "execution_count": 19,
     "metadata": {},
     "output_type": "execute_result"
    },
    {
     "data": {
      "image/png": "[encoded data removed]",
      "text/plain": [
       "<Figure size 432x288 with 1 Axes>"
      ]
     },
     "metadata": {
      "needs_background": "light"
     },
     "output_type": "display_data"
    }
   ],
   "source": [
    "sns.countplot(x=\"MPAA_film_rating\", data=df)"
   ]
  },
  {
   "cell_type": "code",
   "execution_count": null,
   "metadata": {},
   "outputs": [],
   "source": []
  },
  {
   "cell_type": "code",
   "execution_count": 20,
   "metadata": {},
   "outputs": [
    {
     "data": {
      "text/plain": [
       "<matplotlib.axes._subplots.AxesSubplot at 0x7fe3d1419d90>"
      ]
     },
     "execution_count": 20,
     "metadata": {},
     "output_type": "execute_result"
    },
    {
     "data": {
      "image/png": "[encoded data removed]",
      "text/plain": [
       "<Figure size 432x288 with 1 Axes>"
      ]
     },
     "metadata": {
      "needs_background": "light"
     },
     "output_type": "display_data"
    }
   ],
   "source": [
    "sns.boxplot(y='Collection', data=df)"
   ]
  },
  {
   "cell_type": "code",
   "execution_count": 21,
   "metadata": {},
   "outputs": [
    {
     "data": {
      "text/plain": [
       "<matplotlib.axes._subplots.AxesSubplot at 0x7fe3d1386150>"
      ]
     },
     "execution_count": 21,
     "metadata": {},
     "output_type": "execute_result"
    },
    {
     "data": {
      "image/png": "[encoded data removed]",
      "text/plain": [
       "<Figure size 432x288 with 1 Axes>"
      ]
     },
     "metadata": {
      "needs_background": "light"
     },
     "output_type": "display_data"
    }
   ],
   "source": [
    "sns.boxplot(y='Marketing expense', data=df)"
   ]
  },
  {
   "cell_type": "code",
   "execution_count": 22,
   "metadata": {},
   "outputs": [
    {
     "data": {
      "text/plain": [
       "<matplotlib.axes._subplots.AxesSubplot at 0x7fe3d12f9350>"
      ]
     },
     "execution_count": 22,
     "metadata": {},
     "output_type": "execute_result"
    },
    {
     "data": {
      "image/png": "[encoded data removed]",
      "text/plain": [
       "<Figure size 432x288 with 1 Axes>"
      ]
     },
     "metadata": {
      "needs_background": "light"
     },
     "output_type": "display_data"
    }
   ],
   "source": [
    "sns.boxplot(y='Production expense', data=df)"
   ]
  },
  {
   "cell_type": "code",
   "execution_count": 23,
   "metadata": {},
   "outputs": [
    {
     "data": {
      "text/plain": [
       "<matplotlib.axes._subplots.AxesSubplot at 0x7fe3d12e5610>"
      ]
     },
     "execution_count": 23,
     "metadata": {},
     "output_type": "execute_result"
    },
    {
     "data": {
      "image/png": "[encoded data removed]",
      "text/plain": [
       "<Figure size 432x288 with 1 Axes>"
      ]
     },
     "metadata": {
      "needs_background": "light"
     },
     "output_type": "display_data"
    }
   ],
   "source": [
    "sns.boxplot(y='Num_multiplex', data=df)"
   ]
  },
  {
   "cell_type": "code",
   "execution_count": 24,
   "metadata": {},
   "outputs": [
    {
     "data": {
      "text/plain": [
       "<matplotlib.axes._subplots.AxesSubplot at 0x7fe3d124ca90>"
      ]
     },
     "execution_count": 24,
     "metadata": {},
     "output_type": "execute_result"
    },
    {
     "data": {
      "image/png": "[encoded data removed]",
      "text/plain": [
       "<Figure size 432x288 with 1 Axes>"
      ]
     },
     "metadata": {
      "needs_background": "light"
     },
     "output_type": "display_data"
    }
   ],
   "source": [
    "sns.boxplot(y='Avg_age_actors', data=df)"
   ]
  },
  {
   "cell_type": "code",
   "execution_count": 25,
   "metadata": {
    "scrolled": true
   },
   "outputs": [
    {
     "data": {
      "text/plain": [
       "<matplotlib.axes._subplots.AxesSubplot at 0x7fe3d11be350>"
      ]
     },
     "execution_count": 25,
     "metadata": {},
     "output_type": "execute_result"
    },
    {
     "data": {
      "image/png": "[encoded data removed]",
      "text/plain": [
       "<Figure size 432x288 with 1 Axes>"
      ]
     },
     "metadata": {
      "needs_background": "light"
     },
     "output_type": "display_data"
    }
   ],
   "source": [
    "sns.boxplot(y=\"Twitter_hastags\", data=df)"
   ]
  },
  {
   "cell_type": "markdown",
   "metadata": {},
   "source": [
    "# obserbations\n",
    "* columns with outliers - Budget, Lead_actor_rating, Lead_actress_rating, Twitter_hashtags, Num_multiplex, Marketing expense, Collection, Director rating, Producer rating, critic rating, trailer views, Time taken\n",
    "* MPAA_film_rating has no additional feature\n",
    "* Time_Taken has some missing values"
   ]
  },
  {
   "cell_type": "code",
   "execution_count": 26,
   "metadata": {},
   "outputs": [
    {
     "data": {
      "text/html": [
       "<div>\n",
       "<style scoped>\n",
       "    .dataframe tbody tr th:only-of-type {\n",
       "        vertical-align: middle;\n",
       "    }\n",
       "\n",
       "    .dataframe tbody tr th {\n",
       "        vertical-align: top;\n",
       "    }\n",
       "\n",
       "    .dataframe thead th {\n",
       "        text-align: right;\n",
       "    }\n",
       "</style>\n",
       "<table border=\"1\" class=\"dataframe\">\n",
       "  <thead>\n",
       "    <tr style=\"text-align: right;\">\n",
       "      <th></th>\n",
       "      <th>Collection</th>\n",
       "      <th>Marketing expense</th>\n",
       "      <th>Production expense</th>\n",
       "      <th>Multiplex coverage</th>\n",
       "      <th>Budget</th>\n",
       "      <th>Movie_length</th>\n",
       "      <th>Lead_ Actor_Rating</th>\n",
       "      <th>Lead_Actress_rating</th>\n",
       "      <th>Director_rating</th>\n",
       "      <th>Producer_rating</th>\n",
       "      <th>Critic_rating</th>\n",
       "      <th>Trailer_views</th>\n",
       "      <th>3D_available</th>\n",
       "      <th>Time_taken</th>\n",
       "      <th>Twitter_hastags</th>\n",
       "      <th>Genre</th>\n",
       "      <th>Avg_age_actors</th>\n",
       "      <th>MPAA_film_rating</th>\n",
       "      <th>Num_multiplex</th>\n",
       "      <th>Start_Tech_Oscar</th>\n",
       "    </tr>\n",
       "  </thead>\n",
       "  <tbody>\n",
       "    <tr>\n",
       "      <th>0</th>\n",
       "      <td>48000</td>\n",
       "      <td>20.1264</td>\n",
       "      <td>59.62</td>\n",
       "      <td>0.462</td>\n",
       "      <td>36524.125</td>\n",
       "      <td>138.7</td>\n",
       "      <td>7.825</td>\n",
       "      <td>8.095</td>\n",
       "      <td>7.910</td>\n",
       "      <td>7.995</td>\n",
       "      <td>7.94</td>\n",
       "      <td>527367</td>\n",
       "      <td>YES</td>\n",
       "      <td>109.60</td>\n",
       "      <td>223.840</td>\n",
       "      <td>Thriller</td>\n",
       "      <td>23</td>\n",
       "      <td>PG</td>\n",
       "      <td>494</td>\n",
       "      <td>0</td>\n",
       "    </tr>\n",
       "    <tr>\n",
       "      <th>1</th>\n",
       "      <td>43200</td>\n",
       "      <td>20.5462</td>\n",
       "      <td>69.14</td>\n",
       "      <td>0.531</td>\n",
       "      <td>35668.655</td>\n",
       "      <td>152.4</td>\n",
       "      <td>7.505</td>\n",
       "      <td>7.650</td>\n",
       "      <td>7.440</td>\n",
       "      <td>7.470</td>\n",
       "      <td>7.44</td>\n",
       "      <td>494055</td>\n",
       "      <td>NO</td>\n",
       "      <td>146.64</td>\n",
       "      <td>243.456</td>\n",
       "      <td>Drama</td>\n",
       "      <td>42</td>\n",
       "      <td>PG</td>\n",
       "      <td>462</td>\n",
       "      <td>1</td>\n",
       "    </tr>\n",
       "    <tr>\n",
       "      <th>2</th>\n",
       "      <td>69400</td>\n",
       "      <td>20.5458</td>\n",
       "      <td>69.14</td>\n",
       "      <td>0.531</td>\n",
       "      <td>39912.675</td>\n",
       "      <td>134.6</td>\n",
       "      <td>7.485</td>\n",
       "      <td>7.570</td>\n",
       "      <td>7.495</td>\n",
       "      <td>7.515</td>\n",
       "      <td>7.44</td>\n",
       "      <td>547051</td>\n",
       "      <td>NO</td>\n",
       "      <td>147.88</td>\n",
       "      <td>2022.400</td>\n",
       "      <td>Comedy</td>\n",
       "      <td>38</td>\n",
       "      <td>PG</td>\n",
       "      <td>458</td>\n",
       "      <td>0</td>\n",
       "    </tr>\n",
       "    <tr>\n",
       "      <th>3</th>\n",
       "      <td>66800</td>\n",
       "      <td>20.6474</td>\n",
       "      <td>59.36</td>\n",
       "      <td>0.542</td>\n",
       "      <td>38873.890</td>\n",
       "      <td>119.3</td>\n",
       "      <td>6.895</td>\n",
       "      <td>7.035</td>\n",
       "      <td>6.920</td>\n",
       "      <td>7.020</td>\n",
       "      <td>8.26</td>\n",
       "      <td>516279</td>\n",
       "      <td>YES</td>\n",
       "      <td>185.36</td>\n",
       "      <td>225.344</td>\n",
       "      <td>Drama</td>\n",
       "      <td>45</td>\n",
       "      <td>PG</td>\n",
       "      <td>472</td>\n",
       "      <td>0</td>\n",
       "    </tr>\n",
       "    <tr>\n",
       "      <th>4</th>\n",
       "      <td>72400</td>\n",
       "      <td>21.3810</td>\n",
       "      <td>59.36</td>\n",
       "      <td>0.542</td>\n",
       "      <td>39701.585</td>\n",
       "      <td>127.7</td>\n",
       "      <td>6.920</td>\n",
       "      <td>7.070</td>\n",
       "      <td>6.815</td>\n",
       "      <td>7.070</td>\n",
       "      <td>8.26</td>\n",
       "      <td>531448</td>\n",
       "      <td>NO</td>\n",
       "      <td>176.48</td>\n",
       "      <td>225.792</td>\n",
       "      <td>Drama</td>\n",
       "      <td>55</td>\n",
       "      <td>PG</td>\n",
       "      <td>395</td>\n",
       "      <td>0</td>\n",
       "    </tr>\n",
       "  </tbody>\n",
       "</table>\n",
       "</div>"
      ],
      "text/plain": [
       "   Collection  Marketing expense  Production expense  Multiplex coverage  \\\n",
       "0       48000            20.1264               59.62               0.462   \n",
       "1       43200            20.5462               69.14               0.531   \n",
       "2       69400            20.5458               69.14               0.531   \n",
       "3       66800            20.6474               59.36               0.542   \n",
       "4       72400            21.3810               59.36               0.542   \n",
       "\n",
       "      Budget  Movie_length  Lead_ Actor_Rating  Lead_Actress_rating  \\\n",
       "0  36524.125         138.7               7.825                8.095   \n",
       "1  35668.655         152.4               7.505                7.650   \n",
       "2  39912.675         134.6               7.485                7.570   \n",
       "3  38873.890         119.3               6.895                7.035   \n",
       "4  39701.585         127.7               6.920                7.070   \n",
       "\n",
       "   Director_rating  Producer_rating  Critic_rating  Trailer_views  \\\n",
       "0            7.910            7.995           7.94         527367   \n",
       "1            7.440            7.470           7.44         494055   \n",
       "2            7.495            7.515           7.44         547051   \n",
       "3            6.920            7.020           8.26         516279   \n",
       "4            6.815            7.070           8.26         531448   \n",
       "\n",
       "  3D_available  Time_taken  Twitter_hastags     Genre  Avg_age_actors  \\\n",
       "0          YES      109.60          223.840  Thriller              23   \n",
       "1           NO      146.64          243.456     Drama              42   \n",
       "2           NO      147.88         2022.400    Comedy              38   \n",
       "3          YES      185.36          225.344     Drama              45   \n",
       "4           NO      176.48          225.792     Drama              55   \n",
       "\n",
       "  MPAA_film_rating  Num_multiplex  Start_Tech_Oscar  \n",
       "0               PG            494                 0  \n",
       "1               PG            462                 1  \n",
       "2               PG            458                 0  \n",
       "3               PG            472                 0  \n",
       "4               PG            395                 0  "
      ]
     },
     "execution_count": 26,
     "metadata": {},
     "output_type": "execute_result"
    }
   ],
   "source": [
    "df.head()"
   ]
  },
  {
   "cell_type": "code",
   "execution_count": 27,
   "metadata": {},
   "outputs": [
    {
     "name": "stdout",
     "output_type": "stream",
     "text": [
      "handling outliers for  Budget\n",
      "handling positive outliers for  Budget  * total outliers found =  6\n",
      "handling negative outliers for  Budget  * total outliers found =  6\n",
      "handled outliers for  Budget\n",
      "handling outliers for  Lead_ Actor_Rating\n",
      "handling positive outliers for  Lead_ Actor_Rating  * total outliers found =  4\n",
      "handling negative outliers for  Lead_ Actor_Rating  * total outliers found =  6\n",
      "handled outliers for  Lead_ Actor_Rating\n",
      "handling outliers for  Lead_Actress_rating\n",
      "handling positive outliers for  Lead_Actress_rating  * total outliers found =  5\n",
      "handling negative outliers for  Lead_Actress_rating  * total outliers found =  6\n",
      "handled outliers for  Lead_Actress_rating\n",
      "handling outliers for  Twitter_hastags\n",
      "handling positive outliers for  Twitter_hastags  * total outliers found =  6\n",
      "handling negative outliers for  Twitter_hastags  * total outliers found =  6\n",
      "handled outliers for  Twitter_hastags\n",
      "handling outliers for  Num_multiplex\n",
      "handling positive outliers for  Num_multiplex  * total outliers found =  6\n",
      "handling negative outliers for  Num_multiplex  * total outliers found =  6\n",
      "handled outliers for  Num_multiplex\n",
      "handling outliers for  Marketing expense\n",
      "handling positive outliers for  Marketing expense  * total outliers found =  6\n",
      "handling negative outliers for  Marketing expense  * total outliers found =  6\n",
      "handled outliers for  Marketing expense\n",
      "handling outliers for  Collection\n",
      "handling negative outliers for  Collection  * total outliers found =  6\n",
      "handled outliers for  Collection\n",
      "handling outliers for  Director_rating\n",
      "handling positive outliers for  Director_rating  * total outliers found =  6\n",
      "handling negative outliers for  Director_rating  * total outliers found =  6\n",
      "handled outliers for  Director_rating\n",
      "handling outliers for  Producer_rating\n",
      "handling positive outliers for  Producer_rating  * total outliers found =  6\n",
      "handling negative outliers for  Producer_rating  * total outliers found =  6\n",
      "handled outliers for  Producer_rating\n",
      "handling outliers for  Critic_rating\n",
      "handling positive outliers for  Critic_rating  * total outliers found =  6\n",
      "handling negative outliers for  Critic_rating  * total outliers found =  1\n",
      "handled outliers for  Critic_rating\n",
      "handling outliers for  Trailer_views\n",
      "handling positive outliers for  Trailer_views  * total outliers found =  6\n",
      "handling negative outliers for  Trailer_views  * total outliers found =  6\n",
      "handled outliers for  Trailer_views\n",
      "handling outliers for  Time_taken\n",
      "handled outliers for  Time_taken\n"
     ]
    },
    {
     "name": "stderr",
     "output_type": "stream",
     "text": [
      "/home/orashar/.local/lib/python3.7/site-packages/ipykernel_launcher.py:16: SettingWithCopyWarning: \n",
      "A value is trying to be set on a copy of a slice from a DataFrame\n",
      "\n",
      "See the caveats in the documentation: https://pandas.pydata.org/pandas-docs/stable/user_guide/indexing.html#returning-a-view-versus-a-copy\n",
      "  app.launch_new_instance()\n",
      "/home/orashar/.local/lib/python3.7/site-packages/ipykernel_launcher.py:21: SettingWithCopyWarning: \n",
      "A value is trying to be set on a copy of a slice from a DataFrame\n",
      "\n",
      "See the caveats in the documentation: https://pandas.pydata.org/pandas-docs/stable/user_guide/indexing.html#returning-a-view-versus-a-copy\n"
     ]
    }
   ],
   "source": [
    "col_with_outliers = [\"Budget\", \"Lead_ Actor_Rating\", \"Lead_Actress_rating\", \"Twitter_hastags\", \"Num_multiplex\", \"Marketing expense\", \"Collection\", \"Director_rating\",\"Producer_rating\", \"Critic_rating\", \"Trailer_views\",\"Time_taken\"]\n",
    "\n",
    "for col in col_with_outliers:\n",
    "    \n",
    "    print(\"handling outliers for \", col)\n",
    "    \n",
    "    uv = np.percentile(df[col], [99])[0]\n",
    "    lv = np.percentile(df[col], [1])[0]\n",
    "    \n",
    "    positive_outliers = df[df[col] > uv]\n",
    "    negative_outliers = df[df[col] < lv]\n",
    "    \n",
    "    \n",
    "    if len(positive_outliers) > 0:\n",
    "        print(\"handling positive outliers for \", col, \" * total outliers found = \", len(positive_outliers))\n",
    "        df[col][df[col] > 3*uv] = 3*uv\n",
    "        \n",
    "        \n",
    "    if len(negative_outliers) > 0:\n",
    "        print(\"handling negative outliers for \", col, \" * total outliers found = \", len(negative_outliers))\n",
    "        df[col][df[col] < 0.3*lv] = 0.3*lv\n",
    "    \n",
    "    print(\"handled outliers for \", col)"
   ]
  },
  {
   "cell_type": "code",
   "execution_count": 28,
   "metadata": {},
   "outputs": [
    {
     "data": {
      "text/html": [
       "<div>\n",
       "<style scoped>\n",
       "    .dataframe tbody tr th:only-of-type {\n",
       "        vertical-align: middle;\n",
       "    }\n",
       "\n",
       "    .dataframe tbody tr th {\n",
       "        vertical-align: top;\n",
       "    }\n",
       "\n",
       "    .dataframe thead th {\n",
       "        text-align: right;\n",
       "    }\n",
       "</style>\n",
       "<table border=\"1\" class=\"dataframe\">\n",
       "  <thead>\n",
       "    <tr style=\"text-align: right;\">\n",
       "      <th></th>\n",
       "      <th>Collection</th>\n",
       "      <th>Marketing expense</th>\n",
       "      <th>Production expense</th>\n",
       "      <th>Multiplex coverage</th>\n",
       "      <th>Budget</th>\n",
       "      <th>Movie_length</th>\n",
       "      <th>Lead_ Actor_Rating</th>\n",
       "      <th>Lead_Actress_rating</th>\n",
       "      <th>Director_rating</th>\n",
       "      <th>Producer_rating</th>\n",
       "      <th>Critic_rating</th>\n",
       "      <th>Trailer_views</th>\n",
       "      <th>3D_available</th>\n",
       "      <th>Time_taken</th>\n",
       "      <th>Twitter_hastags</th>\n",
       "      <th>Genre</th>\n",
       "      <th>Avg_age_actors</th>\n",
       "      <th>MPAA_film_rating</th>\n",
       "      <th>Num_multiplex</th>\n",
       "      <th>Start_Tech_Oscar</th>\n",
       "    </tr>\n",
       "  </thead>\n",
       "  <tbody>\n",
       "    <tr>\n",
       "      <th>0</th>\n",
       "      <td>48000</td>\n",
       "      <td>20.1264</td>\n",
       "      <td>59.62</td>\n",
       "      <td>0.462</td>\n",
       "      <td>36524.125</td>\n",
       "      <td>138.7</td>\n",
       "      <td>7.825</td>\n",
       "      <td>8.095</td>\n",
       "      <td>7.910</td>\n",
       "      <td>7.995</td>\n",
       "      <td>7.94</td>\n",
       "      <td>527367</td>\n",
       "      <td>YES</td>\n",
       "      <td>109.60</td>\n",
       "      <td>223.8400</td>\n",
       "      <td>Thriller</td>\n",
       "      <td>23</td>\n",
       "      <td>PG</td>\n",
       "      <td>494</td>\n",
       "      <td>0</td>\n",
       "    </tr>\n",
       "    <tr>\n",
       "      <th>1</th>\n",
       "      <td>43200</td>\n",
       "      <td>20.5462</td>\n",
       "      <td>69.14</td>\n",
       "      <td>0.531</td>\n",
       "      <td>35668.655</td>\n",
       "      <td>152.4</td>\n",
       "      <td>7.505</td>\n",
       "      <td>7.650</td>\n",
       "      <td>7.440</td>\n",
       "      <td>7.470</td>\n",
       "      <td>7.44</td>\n",
       "      <td>494055</td>\n",
       "      <td>NO</td>\n",
       "      <td>146.64</td>\n",
       "      <td>243.4560</td>\n",
       "      <td>Drama</td>\n",
       "      <td>42</td>\n",
       "      <td>PG</td>\n",
       "      <td>462</td>\n",
       "      <td>1</td>\n",
       "    </tr>\n",
       "    <tr>\n",
       "      <th>2</th>\n",
       "      <td>69400</td>\n",
       "      <td>20.5458</td>\n",
       "      <td>69.14</td>\n",
       "      <td>0.531</td>\n",
       "      <td>39912.675</td>\n",
       "      <td>134.6</td>\n",
       "      <td>7.485</td>\n",
       "      <td>7.570</td>\n",
       "      <td>7.495</td>\n",
       "      <td>7.515</td>\n",
       "      <td>7.44</td>\n",
       "      <td>547051</td>\n",
       "      <td>NO</td>\n",
       "      <td>147.88</td>\n",
       "      <td>923.9712</td>\n",
       "      <td>Comedy</td>\n",
       "      <td>38</td>\n",
       "      <td>PG</td>\n",
       "      <td>458</td>\n",
       "      <td>0</td>\n",
       "    </tr>\n",
       "    <tr>\n",
       "      <th>3</th>\n",
       "      <td>66800</td>\n",
       "      <td>20.6474</td>\n",
       "      <td>59.36</td>\n",
       "      <td>0.542</td>\n",
       "      <td>38873.890</td>\n",
       "      <td>119.3</td>\n",
       "      <td>6.895</td>\n",
       "      <td>7.035</td>\n",
       "      <td>6.920</td>\n",
       "      <td>7.020</td>\n",
       "      <td>8.26</td>\n",
       "      <td>516279</td>\n",
       "      <td>YES</td>\n",
       "      <td>185.36</td>\n",
       "      <td>225.3440</td>\n",
       "      <td>Drama</td>\n",
       "      <td>45</td>\n",
       "      <td>PG</td>\n",
       "      <td>472</td>\n",
       "      <td>0</td>\n",
       "    </tr>\n",
       "    <tr>\n",
       "      <th>4</th>\n",
       "      <td>72400</td>\n",
       "      <td>21.3810</td>\n",
       "      <td>59.36</td>\n",
       "      <td>0.542</td>\n",
       "      <td>39701.585</td>\n",
       "      <td>127.7</td>\n",
       "      <td>6.920</td>\n",
       "      <td>7.070</td>\n",
       "      <td>6.815</td>\n",
       "      <td>7.070</td>\n",
       "      <td>8.26</td>\n",
       "      <td>531448</td>\n",
       "      <td>NO</td>\n",
       "      <td>176.48</td>\n",
       "      <td>225.7920</td>\n",
       "      <td>Drama</td>\n",
       "      <td>55</td>\n",
       "      <td>PG</td>\n",
       "      <td>395</td>\n",
       "      <td>0</td>\n",
       "    </tr>\n",
       "  </tbody>\n",
       "</table>\n",
       "</div>"
      ],
      "text/plain": [
       "   Collection  Marketing expense  Production expense  Multiplex coverage  \\\n",
       "0       48000            20.1264               59.62               0.462   \n",
       "1       43200            20.5462               69.14               0.531   \n",
       "2       69400            20.5458               69.14               0.531   \n",
       "3       66800            20.6474               59.36               0.542   \n",
       "4       72400            21.3810               59.36               0.542   \n",
       "\n",
       "      Budget  Movie_length  Lead_ Actor_Rating  Lead_Actress_rating  \\\n",
       "0  36524.125         138.7               7.825                8.095   \n",
       "1  35668.655         152.4               7.505                7.650   \n",
       "2  39912.675         134.6               7.485                7.570   \n",
       "3  38873.890         119.3               6.895                7.035   \n",
       "4  39701.585         127.7               6.920                7.070   \n",
       "\n",
       "   Director_rating  Producer_rating  Critic_rating  Trailer_views  \\\n",
       "0            7.910            7.995           7.94         527367   \n",
       "1            7.440            7.470           7.44         494055   \n",
       "2            7.495            7.515           7.44         547051   \n",
       "3            6.920            7.020           8.26         516279   \n",
       "4            6.815            7.070           8.26         531448   \n",
       "\n",
       "  3D_available  Time_taken  Twitter_hastags     Genre  Avg_age_actors  \\\n",
       "0          YES      109.60         223.8400  Thriller              23   \n",
       "1           NO      146.64         243.4560     Drama              42   \n",
       "2           NO      147.88         923.9712    Comedy              38   \n",
       "3          YES      185.36         225.3440     Drama              45   \n",
       "4           NO      176.48         225.7920     Drama              55   \n",
       "\n",
       "  MPAA_film_rating  Num_multiplex  Start_Tech_Oscar  \n",
       "0               PG            494                 0  \n",
       "1               PG            462                 1  \n",
       "2               PG            458                 0  \n",
       "3               PG            472                 0  \n",
       "4               PG            395                 0  "
      ]
     },
     "execution_count": 28,
     "metadata": {},
     "output_type": "execute_result"
    }
   ],
   "source": [
    "df.head()"
   ]
  },
  {
   "cell_type": "code",
   "execution_count": 29,
   "metadata": {},
   "outputs": [
    {
     "data": {
      "text/plain": [
       "<matplotlib.axes._subplots.AxesSubplot at 0x7fe3d1130290>"
      ]
     },
     "execution_count": 29,
     "metadata": {},
     "output_type": "execute_result"
    },
    {
     "data": {
      "image/png": "[encoded data removed]",
      "text/plain": [
       "<Figure size 432x288 with 1 Axes>"
      ]
     },
     "metadata": {
      "needs_background": "light"
     },
     "output_type": "display_data"
    }
   ],
   "source": [
    "sns.boxplot(y=\"Budget\", data=df)"
   ]
  },
  {
   "cell_type": "markdown",
   "metadata": {},
   "source": [
    "## handling missing values"
   ]
  },
  {
   "cell_type": "code",
   "execution_count": 30,
   "metadata": {},
   "outputs": [
    {
     "name": "stdout",
     "output_type": "stream",
     "text": [
      "<class 'pandas.core.frame.DataFrame'>\n",
      "RangeIndex: 506 entries, 0 to 505\n",
      "Data columns (total 20 columns):\n",
      " #   Column               Non-Null Count  Dtype  \n",
      "---  ------               --------------  -----  \n",
      " 0   Collection           506 non-null    int64  \n",
      " 1   Marketing expense    506 non-null    float64\n",
      " 2   Production expense   506 non-null    float64\n",
      " 3   Multiplex coverage   506 non-null    float64\n",
      " 4   Budget               506 non-null    float64\n",
      " 5   Movie_length         506 non-null    float64\n",
      " 6   Lead_ Actor_Rating   506 non-null    float64\n",
      " 7   Lead_Actress_rating  506 non-null    float64\n",
      " 8   Director_rating      506 non-null    float64\n",
      " 9   Producer_rating      506 non-null    float64\n",
      " 10  Critic_rating        506 non-null    float64\n",
      " 11  Trailer_views        506 non-null    int64  \n",
      " 12  3D_available         506 non-null    object \n",
      " 13  Time_taken           494 non-null    float64\n",
      " 14  Twitter_hastags      506 non-null    float64\n",
      " 15  Genre                506 non-null    object \n",
      " 16  Avg_age_actors       506 non-null    int64  \n",
      " 17  MPAA_film_rating     506 non-null    object \n",
      " 18  Num_multiplex        506 non-null    int64  \n",
      " 19  Start_Tech_Oscar     506 non-null    int64  \n",
      "dtypes: float64(12), int64(5), object(3)\n",
      "memory usage: 79.2+ KB\n"
     ]
    }
   ],
   "source": [
    "df.info()"
   ]
  },
  {
   "cell_type": "code",
   "execution_count": 31,
   "metadata": {},
   "outputs": [
    {
     "data": {
      "text/html": [
       "<div>\n",
       "<style scoped>\n",
       "    .dataframe tbody tr th:only-of-type {\n",
       "        vertical-align: middle;\n",
       "    }\n",
       "\n",
       "    .dataframe tbody tr th {\n",
       "        vertical-align: top;\n",
       "    }\n",
       "\n",
       "    .dataframe thead th {\n",
       "        text-align: right;\n",
       "    }\n",
       "</style>\n",
       "<table border=\"1\" class=\"dataframe\">\n",
       "  <thead>\n",
       "    <tr style=\"text-align: right;\">\n",
       "      <th></th>\n",
       "      <th>Collection</th>\n",
       "      <th>Marketing expense</th>\n",
       "      <th>Production expense</th>\n",
       "      <th>Multiplex coverage</th>\n",
       "      <th>Budget</th>\n",
       "      <th>Movie_length</th>\n",
       "      <th>Lead_ Actor_Rating</th>\n",
       "      <th>Lead_Actress_rating</th>\n",
       "      <th>Director_rating</th>\n",
       "      <th>Producer_rating</th>\n",
       "      <th>Critic_rating</th>\n",
       "      <th>Trailer_views</th>\n",
       "      <th>3D_available</th>\n",
       "      <th>Time_taken</th>\n",
       "      <th>Twitter_hastags</th>\n",
       "      <th>Genre</th>\n",
       "      <th>Avg_age_actors</th>\n",
       "      <th>MPAA_film_rating</th>\n",
       "      <th>Num_multiplex</th>\n",
       "      <th>Start_Tech_Oscar</th>\n",
       "    </tr>\n",
       "  </thead>\n",
       "  <tbody>\n",
       "    <tr>\n",
       "      <th>0</th>\n",
       "      <td>48000</td>\n",
       "      <td>20.1264</td>\n",
       "      <td>59.62</td>\n",
       "      <td>0.462</td>\n",
       "      <td>36524.125</td>\n",
       "      <td>138.7</td>\n",
       "      <td>7.825</td>\n",
       "      <td>8.095</td>\n",
       "      <td>7.910</td>\n",
       "      <td>7.995</td>\n",
       "      <td>7.94</td>\n",
       "      <td>527367</td>\n",
       "      <td>YES</td>\n",
       "      <td>109.60</td>\n",
       "      <td>223.8400</td>\n",
       "      <td>Thriller</td>\n",
       "      <td>23</td>\n",
       "      <td>PG</td>\n",
       "      <td>494</td>\n",
       "      <td>0</td>\n",
       "    </tr>\n",
       "    <tr>\n",
       "      <th>1</th>\n",
       "      <td>43200</td>\n",
       "      <td>20.5462</td>\n",
       "      <td>69.14</td>\n",
       "      <td>0.531</td>\n",
       "      <td>35668.655</td>\n",
       "      <td>152.4</td>\n",
       "      <td>7.505</td>\n",
       "      <td>7.650</td>\n",
       "      <td>7.440</td>\n",
       "      <td>7.470</td>\n",
       "      <td>7.44</td>\n",
       "      <td>494055</td>\n",
       "      <td>NO</td>\n",
       "      <td>146.64</td>\n",
       "      <td>243.4560</td>\n",
       "      <td>Drama</td>\n",
       "      <td>42</td>\n",
       "      <td>PG</td>\n",
       "      <td>462</td>\n",
       "      <td>1</td>\n",
       "    </tr>\n",
       "    <tr>\n",
       "      <th>2</th>\n",
       "      <td>69400</td>\n",
       "      <td>20.5458</td>\n",
       "      <td>69.14</td>\n",
       "      <td>0.531</td>\n",
       "      <td>39912.675</td>\n",
       "      <td>134.6</td>\n",
       "      <td>7.485</td>\n",
       "      <td>7.570</td>\n",
       "      <td>7.495</td>\n",
       "      <td>7.515</td>\n",
       "      <td>7.44</td>\n",
       "      <td>547051</td>\n",
       "      <td>NO</td>\n",
       "      <td>147.88</td>\n",
       "      <td>923.9712</td>\n",
       "      <td>Comedy</td>\n",
       "      <td>38</td>\n",
       "      <td>PG</td>\n",
       "      <td>458</td>\n",
       "      <td>0</td>\n",
       "    </tr>\n",
       "    <tr>\n",
       "      <th>3</th>\n",
       "      <td>66800</td>\n",
       "      <td>20.6474</td>\n",
       "      <td>59.36</td>\n",
       "      <td>0.542</td>\n",
       "      <td>38873.890</td>\n",
       "      <td>119.3</td>\n",
       "      <td>6.895</td>\n",
       "      <td>7.035</td>\n",
       "      <td>6.920</td>\n",
       "      <td>7.020</td>\n",
       "      <td>8.26</td>\n",
       "      <td>516279</td>\n",
       "      <td>YES</td>\n",
       "      <td>185.36</td>\n",
       "      <td>225.3440</td>\n",
       "      <td>Drama</td>\n",
       "      <td>45</td>\n",
       "      <td>PG</td>\n",
       "      <td>472</td>\n",
       "      <td>0</td>\n",
       "    </tr>\n",
       "    <tr>\n",
       "      <th>4</th>\n",
       "      <td>72400</td>\n",
       "      <td>21.3810</td>\n",
       "      <td>59.36</td>\n",
       "      <td>0.542</td>\n",
       "      <td>39701.585</td>\n",
       "      <td>127.7</td>\n",
       "      <td>6.920</td>\n",
       "      <td>7.070</td>\n",
       "      <td>6.815</td>\n",
       "      <td>7.070</td>\n",
       "      <td>8.26</td>\n",
       "      <td>531448</td>\n",
       "      <td>NO</td>\n",
       "      <td>176.48</td>\n",
       "      <td>225.7920</td>\n",
       "      <td>Drama</td>\n",
       "      <td>55</td>\n",
       "      <td>PG</td>\n",
       "      <td>395</td>\n",
       "      <td>0</td>\n",
       "    </tr>\n",
       "  </tbody>\n",
       "</table>\n",
       "</div>"
      ],
      "text/plain": [
       "   Collection  Marketing expense  Production expense  Multiplex coverage  \\\n",
       "0       48000            20.1264               59.62               0.462   \n",
       "1       43200            20.5462               69.14               0.531   \n",
       "2       69400            20.5458               69.14               0.531   \n",
       "3       66800            20.6474               59.36               0.542   \n",
       "4       72400            21.3810               59.36               0.542   \n",
       "\n",
       "      Budget  Movie_length  Lead_ Actor_Rating  Lead_Actress_rating  \\\n",
       "0  36524.125         138.7               7.825                8.095   \n",
       "1  35668.655         152.4               7.505                7.650   \n",
       "2  39912.675         134.6               7.485                7.570   \n",
       "3  38873.890         119.3               6.895                7.035   \n",
       "4  39701.585         127.7               6.920                7.070   \n",
       "\n",
       "   Director_rating  Producer_rating  Critic_rating  Trailer_views  \\\n",
       "0            7.910            7.995           7.94         527367   \n",
       "1            7.440            7.470           7.44         494055   \n",
       "2            7.495            7.515           7.44         547051   \n",
       "3            6.920            7.020           8.26         516279   \n",
       "4            6.815            7.070           8.26         531448   \n",
       "\n",
       "  3D_available  Time_taken  Twitter_hastags     Genre  Avg_age_actors  \\\n",
       "0          YES      109.60         223.8400  Thriller              23   \n",
       "1           NO      146.64         243.4560     Drama              42   \n",
       "2           NO      147.88         923.9712    Comedy              38   \n",
       "3          YES      185.36         225.3440     Drama              45   \n",
       "4           NO      176.48         225.7920     Drama              55   \n",
       "\n",
       "  MPAA_film_rating  Num_multiplex  Start_Tech_Oscar  \n",
       "0               PG            494                 0  \n",
       "1               PG            462                 1  \n",
       "2               PG            458                 0  \n",
       "3               PG            472                 0  \n",
       "4               PG            395                 0  "
      ]
     },
     "execution_count": 31,
     "metadata": {},
     "output_type": "execute_result"
    }
   ],
   "source": [
    "df.head()"
   ]
  },
  {
   "cell_type": "code",
   "execution_count": 32,
   "metadata": {},
   "outputs": [],
   "source": [
    "df.Time_taken = df.Time_taken.fillna(df.Time_taken.median())"
   ]
  },
  {
   "cell_type": "code",
   "execution_count": 33,
   "metadata": {},
   "outputs": [
    {
     "name": "stdout",
     "output_type": "stream",
     "text": [
      "<class 'pandas.core.frame.DataFrame'>\n",
      "RangeIndex: 506 entries, 0 to 505\n",
      "Data columns (total 20 columns):\n",
      " #   Column               Non-Null Count  Dtype  \n",
      "---  ------               --------------  -----  \n",
      " 0   Collection           506 non-null    int64  \n",
      " 1   Marketing expense    506 non-null    float64\n",
      " 2   Production expense   506 non-null    float64\n",
      " 3   Multiplex coverage   506 non-null    float64\n",
      " 4   Budget               506 non-null    float64\n",
      " 5   Movie_length         506 non-null    float64\n",
      " 6   Lead_ Actor_Rating   506 non-null    float64\n",
      " 7   Lead_Actress_rating  506 non-null    float64\n",
      " 8   Director_rating      506 non-null    float64\n",
      " 9   Producer_rating      506 non-null    float64\n",
      " 10  Critic_rating        506 non-null    float64\n",
      " 11  Trailer_views        506 non-null    int64  \n",
      " 12  3D_available         506 non-null    object \n",
      " 13  Time_taken           506 non-null    float64\n",
      " 14  Twitter_hastags      506 non-null    float64\n",
      " 15  Genre                506 non-null    object \n",
      " 16  Avg_age_actors       506 non-null    int64  \n",
      " 17  MPAA_film_rating     506 non-null    object \n",
      " 18  Num_multiplex        506 non-null    int64  \n",
      " 19  Start_Tech_Oscar     506 non-null    int64  \n",
      "dtypes: float64(12), int64(5), object(3)\n",
      "memory usage: 79.2+ KB\n"
     ]
    }
   ],
   "source": [
    "df.info()"
   ]
  },
  {
   "cell_type": "code",
   "execution_count": 34,
   "metadata": {},
   "outputs": [
    {
     "data": {
      "text/html": [
       "<div>\n",
       "<style scoped>\n",
       "    .dataframe tbody tr th:only-of-type {\n",
       "        vertical-align: middle;\n",
       "    }\n",
       "\n",
       "    .dataframe tbody tr th {\n",
       "        vertical-align: top;\n",
       "    }\n",
       "\n",
       "    .dataframe thead th {\n",
       "        text-align: right;\n",
       "    }\n",
       "</style>\n",
       "<table border=\"1\" class=\"dataframe\">\n",
       "  <thead>\n",
       "    <tr style=\"text-align: right;\">\n",
       "      <th></th>\n",
       "      <th>Collection</th>\n",
       "      <th>Marketing expense</th>\n",
       "      <th>Production expense</th>\n",
       "      <th>Multiplex coverage</th>\n",
       "      <th>Budget</th>\n",
       "      <th>Movie_length</th>\n",
       "      <th>Lead_ Actor_Rating</th>\n",
       "      <th>Lead_Actress_rating</th>\n",
       "      <th>Director_rating</th>\n",
       "      <th>Producer_rating</th>\n",
       "      <th>Critic_rating</th>\n",
       "      <th>Trailer_views</th>\n",
       "      <th>3D_available</th>\n",
       "      <th>Time_taken</th>\n",
       "      <th>Twitter_hastags</th>\n",
       "      <th>Genre</th>\n",
       "      <th>Avg_age_actors</th>\n",
       "      <th>MPAA_film_rating</th>\n",
       "      <th>Num_multiplex</th>\n",
       "      <th>Start_Tech_Oscar</th>\n",
       "    </tr>\n",
       "  </thead>\n",
       "  <tbody>\n",
       "    <tr>\n",
       "      <th>0</th>\n",
       "      <td>48000</td>\n",
       "      <td>20.1264</td>\n",
       "      <td>59.62</td>\n",
       "      <td>0.462</td>\n",
       "      <td>36524.125</td>\n",
       "      <td>138.7</td>\n",
       "      <td>7.825</td>\n",
       "      <td>8.095</td>\n",
       "      <td>7.910</td>\n",
       "      <td>7.995</td>\n",
       "      <td>7.94</td>\n",
       "      <td>527367</td>\n",
       "      <td>YES</td>\n",
       "      <td>109.60</td>\n",
       "      <td>223.8400</td>\n",
       "      <td>Thriller</td>\n",
       "      <td>23</td>\n",
       "      <td>PG</td>\n",
       "      <td>494</td>\n",
       "      <td>0</td>\n",
       "    </tr>\n",
       "    <tr>\n",
       "      <th>1</th>\n",
       "      <td>43200</td>\n",
       "      <td>20.5462</td>\n",
       "      <td>69.14</td>\n",
       "      <td>0.531</td>\n",
       "      <td>35668.655</td>\n",
       "      <td>152.4</td>\n",
       "      <td>7.505</td>\n",
       "      <td>7.650</td>\n",
       "      <td>7.440</td>\n",
       "      <td>7.470</td>\n",
       "      <td>7.44</td>\n",
       "      <td>494055</td>\n",
       "      <td>NO</td>\n",
       "      <td>146.64</td>\n",
       "      <td>243.4560</td>\n",
       "      <td>Drama</td>\n",
       "      <td>42</td>\n",
       "      <td>PG</td>\n",
       "      <td>462</td>\n",
       "      <td>1</td>\n",
       "    </tr>\n",
       "    <tr>\n",
       "      <th>2</th>\n",
       "      <td>69400</td>\n",
       "      <td>20.5458</td>\n",
       "      <td>69.14</td>\n",
       "      <td>0.531</td>\n",
       "      <td>39912.675</td>\n",
       "      <td>134.6</td>\n",
       "      <td>7.485</td>\n",
       "      <td>7.570</td>\n",
       "      <td>7.495</td>\n",
       "      <td>7.515</td>\n",
       "      <td>7.44</td>\n",
       "      <td>547051</td>\n",
       "      <td>NO</td>\n",
       "      <td>147.88</td>\n",
       "      <td>923.9712</td>\n",
       "      <td>Comedy</td>\n",
       "      <td>38</td>\n",
       "      <td>PG</td>\n",
       "      <td>458</td>\n",
       "      <td>0</td>\n",
       "    </tr>\n",
       "    <tr>\n",
       "      <th>3</th>\n",
       "      <td>66800</td>\n",
       "      <td>20.6474</td>\n",
       "      <td>59.36</td>\n",
       "      <td>0.542</td>\n",
       "      <td>38873.890</td>\n",
       "      <td>119.3</td>\n",
       "      <td>6.895</td>\n",
       "      <td>7.035</td>\n",
       "      <td>6.920</td>\n",
       "      <td>7.020</td>\n",
       "      <td>8.26</td>\n",
       "      <td>516279</td>\n",
       "      <td>YES</td>\n",
       "      <td>185.36</td>\n",
       "      <td>225.3440</td>\n",
       "      <td>Drama</td>\n",
       "      <td>45</td>\n",
       "      <td>PG</td>\n",
       "      <td>472</td>\n",
       "      <td>0</td>\n",
       "    </tr>\n",
       "    <tr>\n",
       "      <th>4</th>\n",
       "      <td>72400</td>\n",
       "      <td>21.3810</td>\n",
       "      <td>59.36</td>\n",
       "      <td>0.542</td>\n",
       "      <td>39701.585</td>\n",
       "      <td>127.7</td>\n",
       "      <td>6.920</td>\n",
       "      <td>7.070</td>\n",
       "      <td>6.815</td>\n",
       "      <td>7.070</td>\n",
       "      <td>8.26</td>\n",
       "      <td>531448</td>\n",
       "      <td>NO</td>\n",
       "      <td>176.48</td>\n",
       "      <td>225.7920</td>\n",
       "      <td>Drama</td>\n",
       "      <td>55</td>\n",
       "      <td>PG</td>\n",
       "      <td>395</td>\n",
       "      <td>0</td>\n",
       "    </tr>\n",
       "  </tbody>\n",
       "</table>\n",
       "</div>"
      ],
      "text/plain": [
       "   Collection  Marketing expense  Production expense  Multiplex coverage  \\\n",
       "0       48000            20.1264               59.62               0.462   \n",
       "1       43200            20.5462               69.14               0.531   \n",
       "2       69400            20.5458               69.14               0.531   \n",
       "3       66800            20.6474               59.36               0.542   \n",
       "4       72400            21.3810               59.36               0.542   \n",
       "\n",
       "      Budget  Movie_length  Lead_ Actor_Rating  Lead_Actress_rating  \\\n",
       "0  36524.125         138.7               7.825                8.095   \n",
       "1  35668.655         152.4               7.505                7.650   \n",
       "2  39912.675         134.6               7.485                7.570   \n",
       "3  38873.890         119.3               6.895                7.035   \n",
       "4  39701.585         127.7               6.920                7.070   \n",
       "\n",
       "   Director_rating  Producer_rating  Critic_rating  Trailer_views  \\\n",
       "0            7.910            7.995           7.94         527367   \n",
       "1            7.440            7.470           7.44         494055   \n",
       "2            7.495            7.515           7.44         547051   \n",
       "3            6.920            7.020           8.26         516279   \n",
       "4            6.815            7.070           8.26         531448   \n",
       "\n",
       "  3D_available  Time_taken  Twitter_hastags     Genre  Avg_age_actors  \\\n",
       "0          YES      109.60         223.8400  Thriller              23   \n",
       "1           NO      146.64         243.4560     Drama              42   \n",
       "2           NO      147.88         923.9712    Comedy              38   \n",
       "3          YES      185.36         225.3440     Drama              45   \n",
       "4           NO      176.48         225.7920     Drama              55   \n",
       "\n",
       "  MPAA_film_rating  Num_multiplex  Start_Tech_Oscar  \n",
       "0               PG            494                 0  \n",
       "1               PG            462                 1  \n",
       "2               PG            458                 0  \n",
       "3               PG            472                 0  \n",
       "4               PG            395                 0  "
      ]
     },
     "execution_count": 34,
     "metadata": {},
     "output_type": "execute_result"
    }
   ],
   "source": [
    "df.head()"
   ]
  },
  {
   "cell_type": "code",
   "execution_count": 35,
   "metadata": {},
   "outputs": [],
   "source": [
    "del df[\"MPAA_film_rating\"]"
   ]
  },
  {
   "cell_type": "code",
   "execution_count": 36,
   "metadata": {},
   "outputs": [
    {
     "data": {
      "text/html": [
       "<div>\n",
       "<style scoped>\n",
       "    .dataframe tbody tr th:only-of-type {\n",
       "        vertical-align: middle;\n",
       "    }\n",
       "\n",
       "    .dataframe tbody tr th {\n",
       "        vertical-align: top;\n",
       "    }\n",
       "\n",
       "    .dataframe thead th {\n",
       "        text-align: right;\n",
       "    }\n",
       "</style>\n",
       "<table border=\"1\" class=\"dataframe\">\n",
       "  <thead>\n",
       "    <tr style=\"text-align: right;\">\n",
       "      <th></th>\n",
       "      <th>Collection</th>\n",
       "      <th>Marketing expense</th>\n",
       "      <th>Production expense</th>\n",
       "      <th>Multiplex coverage</th>\n",
       "      <th>Budget</th>\n",
       "      <th>Movie_length</th>\n",
       "      <th>Lead_ Actor_Rating</th>\n",
       "      <th>Lead_Actress_rating</th>\n",
       "      <th>Director_rating</th>\n",
       "      <th>Producer_rating</th>\n",
       "      <th>Critic_rating</th>\n",
       "      <th>Trailer_views</th>\n",
       "      <th>Time_taken</th>\n",
       "      <th>Twitter_hastags</th>\n",
       "      <th>Avg_age_actors</th>\n",
       "      <th>Num_multiplex</th>\n",
       "      <th>Start_Tech_Oscar</th>\n",
       "    </tr>\n",
       "  </thead>\n",
       "  <tbody>\n",
       "    <tr>\n",
       "      <th>count</th>\n",
       "      <td>506.000000</td>\n",
       "      <td>506.000000</td>\n",
       "      <td>506.000000</td>\n",
       "      <td>506.000000</td>\n",
       "      <td>506.000000</td>\n",
       "      <td>506.000000</td>\n",
       "      <td>506.000000</td>\n",
       "      <td>506.000000</td>\n",
       "      <td>506.000000</td>\n",
       "      <td>506.000000</td>\n",
       "      <td>506.000000</td>\n",
       "      <td>506.000000</td>\n",
       "      <td>506.000000</td>\n",
       "      <td>506.000000</td>\n",
       "      <td>506.000000</td>\n",
       "      <td>506.000000</td>\n",
       "      <td>506.000000</td>\n",
       "    </tr>\n",
       "    <tr>\n",
       "      <th>mean</th>\n",
       "      <td>45057.707510</td>\n",
       "      <td>92.270471</td>\n",
       "      <td>77.273557</td>\n",
       "      <td>0.445305</td>\n",
       "      <td>34911.144022</td>\n",
       "      <td>142.074901</td>\n",
       "      <td>8.014002</td>\n",
       "      <td>8.185613</td>\n",
       "      <td>8.019664</td>\n",
       "      <td>8.190514</td>\n",
       "      <td>7.810870</td>\n",
       "      <td>449860.715415</td>\n",
       "      <td>157.453360</td>\n",
       "      <td>257.280993</td>\n",
       "      <td>39.181818</td>\n",
       "      <td>545.043478</td>\n",
       "      <td>0.454545</td>\n",
       "    </tr>\n",
       "    <tr>\n",
       "      <th>std</th>\n",
       "      <td>18364.351764</td>\n",
       "      <td>172.030902</td>\n",
       "      <td>13.720706</td>\n",
       "      <td>0.115878</td>\n",
       "      <td>3903.038232</td>\n",
       "      <td>28.148861</td>\n",
       "      <td>1.054266</td>\n",
       "      <td>1.054290</td>\n",
       "      <td>1.059899</td>\n",
       "      <td>1.049601</td>\n",
       "      <td>0.659699</td>\n",
       "      <td>68917.763145</td>\n",
       "      <td>30.923654</td>\n",
       "      <td>53.775554</td>\n",
       "      <td>12.513697</td>\n",
       "      <td>106.332889</td>\n",
       "      <td>0.498422</td>\n",
       "    </tr>\n",
       "    <tr>\n",
       "      <th>min</th>\n",
       "      <td>10000.000000</td>\n",
       "      <td>20.126400</td>\n",
       "      <td>55.920000</td>\n",
       "      <td>0.129000</td>\n",
       "      <td>19781.355000</td>\n",
       "      <td>76.400000</td>\n",
       "      <td>3.840000</td>\n",
       "      <td>4.035000</td>\n",
       "      <td>3.840000</td>\n",
       "      <td>4.030000</td>\n",
       "      <td>6.600000</td>\n",
       "      <td>212912.000000</td>\n",
       "      <td>0.000000</td>\n",
       "      <td>201.152000</td>\n",
       "      <td>3.000000</td>\n",
       "      <td>333.000000</td>\n",
       "      <td>0.000000</td>\n",
       "    </tr>\n",
       "    <tr>\n",
       "      <th>25%</th>\n",
       "      <td>34050.000000</td>\n",
       "      <td>21.640900</td>\n",
       "      <td>65.380000</td>\n",
       "      <td>0.376000</td>\n",
       "      <td>32693.952500</td>\n",
       "      <td>118.525000</td>\n",
       "      <td>7.316250</td>\n",
       "      <td>7.503750</td>\n",
       "      <td>7.296250</td>\n",
       "      <td>7.507500</td>\n",
       "      <td>7.200000</td>\n",
       "      <td>409128.000000</td>\n",
       "      <td>132.690000</td>\n",
       "      <td>223.796000</td>\n",
       "      <td>28.000000</td>\n",
       "      <td>465.000000</td>\n",
       "      <td>0.000000</td>\n",
       "    </tr>\n",
       "    <tr>\n",
       "      <th>50%</th>\n",
       "      <td>42400.000000</td>\n",
       "      <td>25.130200</td>\n",
       "      <td>74.380000</td>\n",
       "      <td>0.462000</td>\n",
       "      <td>34488.217500</td>\n",
       "      <td>151.000000</td>\n",
       "      <td>8.307500</td>\n",
       "      <td>8.495000</td>\n",
       "      <td>8.312500</td>\n",
       "      <td>8.465000</td>\n",
       "      <td>7.960000</td>\n",
       "      <td>462460.000000</td>\n",
       "      <td>160.000000</td>\n",
       "      <td>254.400000</td>\n",
       "      <td>39.000000</td>\n",
       "      <td>535.500000</td>\n",
       "      <td>0.000000</td>\n",
       "    </tr>\n",
       "    <tr>\n",
       "      <th>75%</th>\n",
       "      <td>50000.000000</td>\n",
       "      <td>93.541650</td>\n",
       "      <td>91.200000</td>\n",
       "      <td>0.551000</td>\n",
       "      <td>36793.542500</td>\n",
       "      <td>167.575000</td>\n",
       "      <td>8.865000</td>\n",
       "      <td>9.030000</td>\n",
       "      <td>8.883750</td>\n",
       "      <td>9.030000</td>\n",
       "      <td>8.260000</td>\n",
       "      <td>500247.500000</td>\n",
       "      <td>181.520000</td>\n",
       "      <td>283.416000</td>\n",
       "      <td>50.000000</td>\n",
       "      <td>614.750000</td>\n",
       "      <td>1.000000</td>\n",
       "    </tr>\n",
       "    <tr>\n",
       "      <th>max</th>\n",
       "      <td>100000.000000</td>\n",
       "      <td>1799.524000</td>\n",
       "      <td>110.480000</td>\n",
       "      <td>0.615000</td>\n",
       "      <td>48772.900000</td>\n",
       "      <td>173.500000</td>\n",
       "      <td>9.435000</td>\n",
       "      <td>9.540000</td>\n",
       "      <td>9.425000</td>\n",
       "      <td>9.635000</td>\n",
       "      <td>9.400000</td>\n",
       "      <td>567784.000000</td>\n",
       "      <td>217.520000</td>\n",
       "      <td>923.971200</td>\n",
       "      <td>60.000000</td>\n",
       "      <td>868.000000</td>\n",
       "      <td>1.000000</td>\n",
       "    </tr>\n",
       "  </tbody>\n",
       "</table>\n",
       "</div>"
      ],
      "text/plain": [
       "          Collection  Marketing expense  Production expense  \\\n",
       "count     506.000000         506.000000          506.000000   \n",
       "mean    45057.707510          92.270471           77.273557   \n",
       "std     18364.351764         172.030902           13.720706   \n",
       "min     10000.000000          20.126400           55.920000   \n",
       "25%     34050.000000          21.640900           65.380000   \n",
       "50%     42400.000000          25.130200           74.380000   \n",
       "75%     50000.000000          93.541650           91.200000   \n",
       "max    100000.000000        1799.524000          110.480000   \n",
       "\n",
       "       Multiplex coverage        Budget  Movie_length  Lead_ Actor_Rating  \\\n",
       "count          506.000000    506.000000    506.000000          506.000000   \n",
       "mean             0.445305  34911.144022    142.074901            8.014002   \n",
       "std              0.115878   3903.038232     28.148861            1.054266   \n",
       "min              0.129000  19781.355000     76.400000            3.840000   \n",
       "25%              0.376000  32693.952500    118.525000            7.316250   \n",
       "50%              0.462000  34488.217500    151.000000            8.307500   \n",
       "75%              0.551000  36793.542500    167.575000            8.865000   \n",
       "max              0.615000  48772.900000    173.500000            9.435000   \n",
       "\n",
       "       Lead_Actress_rating  Director_rating  Producer_rating  Critic_rating  \\\n",
       "count           506.000000       506.000000       506.000000     506.000000   \n",
       "mean              8.185613         8.019664         8.190514       7.810870   \n",
       "std               1.054290         1.059899         1.049601       0.659699   \n",
       "min               4.035000         3.840000         4.030000       6.600000   \n",
       "25%               7.503750         7.296250         7.507500       7.200000   \n",
       "50%               8.495000         8.312500         8.465000       7.960000   \n",
       "75%               9.030000         8.883750         9.030000       8.260000   \n",
       "max               9.540000         9.425000         9.635000       9.400000   \n",
       "\n",
       "       Trailer_views  Time_taken  Twitter_hastags  Avg_age_actors  \\\n",
       "count     506.000000  506.000000       506.000000      506.000000   \n",
       "mean   449860.715415  157.453360       257.280993       39.181818   \n",
       "std     68917.763145   30.923654        53.775554       12.513697   \n",
       "min    212912.000000    0.000000       201.152000        3.000000   \n",
       "25%    409128.000000  132.690000       223.796000       28.000000   \n",
       "50%    462460.000000  160.000000       254.400000       39.000000   \n",
       "75%    500247.500000  181.520000       283.416000       50.000000   \n",
       "max    567784.000000  217.520000       923.971200       60.000000   \n",
       "\n",
       "       Num_multiplex  Start_Tech_Oscar  \n",
       "count     506.000000        506.000000  \n",
       "mean      545.043478          0.454545  \n",
       "std       106.332889          0.498422  \n",
       "min       333.000000          0.000000  \n",
       "25%       465.000000          0.000000  \n",
       "50%       535.500000          0.000000  \n",
       "75%       614.750000          1.000000  \n",
       "max       868.000000          1.000000  "
      ]
     },
     "execution_count": 36,
     "metadata": {},
     "output_type": "execute_result"
    }
   ],
   "source": [
    "df.describe()"
   ]
  },
  {
   "cell_type": "markdown",
   "metadata": {},
   "source": [
    "## handling categorical data"
   ]
  },
  {
   "cell_type": "code",
   "execution_count": 37,
   "metadata": {},
   "outputs": [
    {
     "data": {
      "text/html": [
       "<div>\n",
       "<style scoped>\n",
       "    .dataframe tbody tr th:only-of-type {\n",
       "        vertical-align: middle;\n",
       "    }\n",
       "\n",
       "    .dataframe tbody tr th {\n",
       "        vertical-align: top;\n",
       "    }\n",
       "\n",
       "    .dataframe thead th {\n",
       "        text-align: right;\n",
       "    }\n",
       "</style>\n",
       "<table border=\"1\" class=\"dataframe\">\n",
       "  <thead>\n",
       "    <tr style=\"text-align: right;\">\n",
       "      <th></th>\n",
       "      <th>Collection</th>\n",
       "      <th>Marketing expense</th>\n",
       "      <th>Production expense</th>\n",
       "      <th>Multiplex coverage</th>\n",
       "      <th>Budget</th>\n",
       "      <th>Movie_length</th>\n",
       "      <th>Lead_ Actor_Rating</th>\n",
       "      <th>Lead_Actress_rating</th>\n",
       "      <th>Director_rating</th>\n",
       "      <th>Producer_rating</th>\n",
       "      <th>Critic_rating</th>\n",
       "      <th>Trailer_views</th>\n",
       "      <th>3D_available</th>\n",
       "      <th>Time_taken</th>\n",
       "      <th>Twitter_hastags</th>\n",
       "      <th>Genre</th>\n",
       "      <th>Avg_age_actors</th>\n",
       "      <th>Num_multiplex</th>\n",
       "      <th>Start_Tech_Oscar</th>\n",
       "    </tr>\n",
       "  </thead>\n",
       "  <tbody>\n",
       "    <tr>\n",
       "      <th>0</th>\n",
       "      <td>48000</td>\n",
       "      <td>20.1264</td>\n",
       "      <td>59.62</td>\n",
       "      <td>0.462</td>\n",
       "      <td>36524.125</td>\n",
       "      <td>138.7</td>\n",
       "      <td>7.825</td>\n",
       "      <td>8.095</td>\n",
       "      <td>7.910</td>\n",
       "      <td>7.995</td>\n",
       "      <td>7.94</td>\n",
       "      <td>527367</td>\n",
       "      <td>YES</td>\n",
       "      <td>109.60</td>\n",
       "      <td>223.8400</td>\n",
       "      <td>Thriller</td>\n",
       "      <td>23</td>\n",
       "      <td>494</td>\n",
       "      <td>0</td>\n",
       "    </tr>\n",
       "    <tr>\n",
       "      <th>1</th>\n",
       "      <td>43200</td>\n",
       "      <td>20.5462</td>\n",
       "      <td>69.14</td>\n",
       "      <td>0.531</td>\n",
       "      <td>35668.655</td>\n",
       "      <td>152.4</td>\n",
       "      <td>7.505</td>\n",
       "      <td>7.650</td>\n",
       "      <td>7.440</td>\n",
       "      <td>7.470</td>\n",
       "      <td>7.44</td>\n",
       "      <td>494055</td>\n",
       "      <td>NO</td>\n",
       "      <td>146.64</td>\n",
       "      <td>243.4560</td>\n",
       "      <td>Drama</td>\n",
       "      <td>42</td>\n",
       "      <td>462</td>\n",
       "      <td>1</td>\n",
       "    </tr>\n",
       "    <tr>\n",
       "      <th>2</th>\n",
       "      <td>69400</td>\n",
       "      <td>20.5458</td>\n",
       "      <td>69.14</td>\n",
       "      <td>0.531</td>\n",
       "      <td>39912.675</td>\n",
       "      <td>134.6</td>\n",
       "      <td>7.485</td>\n",
       "      <td>7.570</td>\n",
       "      <td>7.495</td>\n",
       "      <td>7.515</td>\n",
       "      <td>7.44</td>\n",
       "      <td>547051</td>\n",
       "      <td>NO</td>\n",
       "      <td>147.88</td>\n",
       "      <td>923.9712</td>\n",
       "      <td>Comedy</td>\n",
       "      <td>38</td>\n",
       "      <td>458</td>\n",
       "      <td>0</td>\n",
       "    </tr>\n",
       "    <tr>\n",
       "      <th>3</th>\n",
       "      <td>66800</td>\n",
       "      <td>20.6474</td>\n",
       "      <td>59.36</td>\n",
       "      <td>0.542</td>\n",
       "      <td>38873.890</td>\n",
       "      <td>119.3</td>\n",
       "      <td>6.895</td>\n",
       "      <td>7.035</td>\n",
       "      <td>6.920</td>\n",
       "      <td>7.020</td>\n",
       "      <td>8.26</td>\n",
       "      <td>516279</td>\n",
       "      <td>YES</td>\n",
       "      <td>185.36</td>\n",
       "      <td>225.3440</td>\n",
       "      <td>Drama</td>\n",
       "      <td>45</td>\n",
       "      <td>472</td>\n",
       "      <td>0</td>\n",
       "    </tr>\n",
       "    <tr>\n",
       "      <th>4</th>\n",
       "      <td>72400</td>\n",
       "      <td>21.3810</td>\n",
       "      <td>59.36</td>\n",
       "      <td>0.542</td>\n",
       "      <td>39701.585</td>\n",
       "      <td>127.7</td>\n",
       "      <td>6.920</td>\n",
       "      <td>7.070</td>\n",
       "      <td>6.815</td>\n",
       "      <td>7.070</td>\n",
       "      <td>8.26</td>\n",
       "      <td>531448</td>\n",
       "      <td>NO</td>\n",
       "      <td>176.48</td>\n",
       "      <td>225.7920</td>\n",
       "      <td>Drama</td>\n",
       "      <td>55</td>\n",
       "      <td>395</td>\n",
       "      <td>0</td>\n",
       "    </tr>\n",
       "  </tbody>\n",
       "</table>\n",
       "</div>"
      ],
      "text/plain": [
       "   Collection  Marketing expense  Production expense  Multiplex coverage  \\\n",
       "0       48000            20.1264               59.62               0.462   \n",
       "1       43200            20.5462               69.14               0.531   \n",
       "2       69400            20.5458               69.14               0.531   \n",
       "3       66800            20.6474               59.36               0.542   \n",
       "4       72400            21.3810               59.36               0.542   \n",
       "\n",
       "      Budget  Movie_length  Lead_ Actor_Rating  Lead_Actress_rating  \\\n",
       "0  36524.125         138.7               7.825                8.095   \n",
       "1  35668.655         152.4               7.505                7.650   \n",
       "2  39912.675         134.6               7.485                7.570   \n",
       "3  38873.890         119.3               6.895                7.035   \n",
       "4  39701.585         127.7               6.920                7.070   \n",
       "\n",
       "   Director_rating  Producer_rating  Critic_rating  Trailer_views  \\\n",
       "0            7.910            7.995           7.94         527367   \n",
       "1            7.440            7.470           7.44         494055   \n",
       "2            7.495            7.515           7.44         547051   \n",
       "3            6.920            7.020           8.26         516279   \n",
       "4            6.815            7.070           8.26         531448   \n",
       "\n",
       "  3D_available  Time_taken  Twitter_hastags     Genre  Avg_age_actors  \\\n",
       "0          YES      109.60         223.8400  Thriller              23   \n",
       "1           NO      146.64         243.4560     Drama              42   \n",
       "2           NO      147.88         923.9712    Comedy              38   \n",
       "3          YES      185.36         225.3440     Drama              45   \n",
       "4           NO      176.48         225.7920     Drama              55   \n",
       "\n",
       "   Num_multiplex  Start_Tech_Oscar  \n",
       "0            494                 0  \n",
       "1            462                 1  \n",
       "2            458                 0  \n",
       "3            472                 0  \n",
       "4            395                 0  "
      ]
     },
     "execution_count": 37,
     "metadata": {},
     "output_type": "execute_result"
    }
   ],
   "source": [
    "df.head()"
   ]
  },
  {
   "cell_type": "code",
   "execution_count": 38,
   "metadata": {},
   "outputs": [],
   "source": [
    "df = pd.get_dummies(df)"
   ]
  },
  {
   "cell_type": "code",
   "execution_count": 39,
   "metadata": {},
   "outputs": [
    {
     "data": {
      "text/html": [
       "<div>\n",
       "<style scoped>\n",
       "    .dataframe tbody tr th:only-of-type {\n",
       "        vertical-align: middle;\n",
       "    }\n",
       "\n",
       "    .dataframe tbody tr th {\n",
       "        vertical-align: top;\n",
       "    }\n",
       "\n",
       "    .dataframe thead th {\n",
       "        text-align: right;\n",
       "    }\n",
       "</style>\n",
       "<table border=\"1\" class=\"dataframe\">\n",
       "  <thead>\n",
       "    <tr style=\"text-align: right;\">\n",
       "      <th></th>\n",
       "      <th>Collection</th>\n",
       "      <th>Marketing expense</th>\n",
       "      <th>Production expense</th>\n",
       "      <th>Multiplex coverage</th>\n",
       "      <th>Budget</th>\n",
       "      <th>Movie_length</th>\n",
       "      <th>Lead_ Actor_Rating</th>\n",
       "      <th>Lead_Actress_rating</th>\n",
       "      <th>Director_rating</th>\n",
       "      <th>Producer_rating</th>\n",
       "      <th>...</th>\n",
       "      <th>Twitter_hastags</th>\n",
       "      <th>Avg_age_actors</th>\n",
       "      <th>Num_multiplex</th>\n",
       "      <th>Start_Tech_Oscar</th>\n",
       "      <th>3D_available_NO</th>\n",
       "      <th>3D_available_YES</th>\n",
       "      <th>Genre_Action</th>\n",
       "      <th>Genre_Comedy</th>\n",
       "      <th>Genre_Drama</th>\n",
       "      <th>Genre_Thriller</th>\n",
       "    </tr>\n",
       "  </thead>\n",
       "  <tbody>\n",
       "    <tr>\n",
       "      <th>0</th>\n",
       "      <td>48000</td>\n",
       "      <td>20.1264</td>\n",
       "      <td>59.62</td>\n",
       "      <td>0.462</td>\n",
       "      <td>36524.125</td>\n",
       "      <td>138.7</td>\n",
       "      <td>7.825</td>\n",
       "      <td>8.095</td>\n",
       "      <td>7.910</td>\n",
       "      <td>7.995</td>\n",
       "      <td>...</td>\n",
       "      <td>223.8400</td>\n",
       "      <td>23</td>\n",
       "      <td>494</td>\n",
       "      <td>0</td>\n",
       "      <td>0</td>\n",
       "      <td>1</td>\n",
       "      <td>0</td>\n",
       "      <td>0</td>\n",
       "      <td>0</td>\n",
       "      <td>1</td>\n",
       "    </tr>\n",
       "    <tr>\n",
       "      <th>1</th>\n",
       "      <td>43200</td>\n",
       "      <td>20.5462</td>\n",
       "      <td>69.14</td>\n",
       "      <td>0.531</td>\n",
       "      <td>35668.655</td>\n",
       "      <td>152.4</td>\n",
       "      <td>7.505</td>\n",
       "      <td>7.650</td>\n",
       "      <td>7.440</td>\n",
       "      <td>7.470</td>\n",
       "      <td>...</td>\n",
       "      <td>243.4560</td>\n",
       "      <td>42</td>\n",
       "      <td>462</td>\n",
       "      <td>1</td>\n",
       "      <td>1</td>\n",
       "      <td>0</td>\n",
       "      <td>0</td>\n",
       "      <td>0</td>\n",
       "      <td>1</td>\n",
       "      <td>0</td>\n",
       "    </tr>\n",
       "    <tr>\n",
       "      <th>2</th>\n",
       "      <td>69400</td>\n",
       "      <td>20.5458</td>\n",
       "      <td>69.14</td>\n",
       "      <td>0.531</td>\n",
       "      <td>39912.675</td>\n",
       "      <td>134.6</td>\n",
       "      <td>7.485</td>\n",
       "      <td>7.570</td>\n",
       "      <td>7.495</td>\n",
       "      <td>7.515</td>\n",
       "      <td>...</td>\n",
       "      <td>923.9712</td>\n",
       "      <td>38</td>\n",
       "      <td>458</td>\n",
       "      <td>0</td>\n",
       "      <td>1</td>\n",
       "      <td>0</td>\n",
       "      <td>0</td>\n",
       "      <td>1</td>\n",
       "      <td>0</td>\n",
       "      <td>0</td>\n",
       "    </tr>\n",
       "    <tr>\n",
       "      <th>3</th>\n",
       "      <td>66800</td>\n",
       "      <td>20.6474</td>\n",
       "      <td>59.36</td>\n",
       "      <td>0.542</td>\n",
       "      <td>38873.890</td>\n",
       "      <td>119.3</td>\n",
       "      <td>6.895</td>\n",
       "      <td>7.035</td>\n",
       "      <td>6.920</td>\n",
       "      <td>7.020</td>\n",
       "      <td>...</td>\n",
       "      <td>225.3440</td>\n",
       "      <td>45</td>\n",
       "      <td>472</td>\n",
       "      <td>0</td>\n",
       "      <td>0</td>\n",
       "      <td>1</td>\n",
       "      <td>0</td>\n",
       "      <td>0</td>\n",
       "      <td>1</td>\n",
       "      <td>0</td>\n",
       "    </tr>\n",
       "    <tr>\n",
       "      <th>4</th>\n",
       "      <td>72400</td>\n",
       "      <td>21.3810</td>\n",
       "      <td>59.36</td>\n",
       "      <td>0.542</td>\n",
       "      <td>39701.585</td>\n",
       "      <td>127.7</td>\n",
       "      <td>6.920</td>\n",
       "      <td>7.070</td>\n",
       "      <td>6.815</td>\n",
       "      <td>7.070</td>\n",
       "      <td>...</td>\n",
       "      <td>225.7920</td>\n",
       "      <td>55</td>\n",
       "      <td>395</td>\n",
       "      <td>0</td>\n",
       "      <td>1</td>\n",
       "      <td>0</td>\n",
       "      <td>0</td>\n",
       "      <td>0</td>\n",
       "      <td>1</td>\n",
       "      <td>0</td>\n",
       "    </tr>\n",
       "  </tbody>\n",
       "</table>\n",
       "<p>5 rows × 23 columns</p>\n",
       "</div>"
      ],
      "text/plain": [
       "   Collection  Marketing expense  Production expense  Multiplex coverage  \\\n",
       "0       48000            20.1264               59.62               0.462   \n",
       "1       43200            20.5462               69.14               0.531   \n",
       "2       69400            20.5458               69.14               0.531   \n",
       "3       66800            20.6474               59.36               0.542   \n",
       "4       72400            21.3810               59.36               0.542   \n",
       "\n",
       "      Budget  Movie_length  Lead_ Actor_Rating  Lead_Actress_rating  \\\n",
       "0  36524.125         138.7               7.825                8.095   \n",
       "1  35668.655         152.4               7.505                7.650   \n",
       "2  39912.675         134.6               7.485                7.570   \n",
       "3  38873.890         119.3               6.895                7.035   \n",
       "4  39701.585         127.7               6.920                7.070   \n",
       "\n",
       "   Director_rating  Producer_rating  ...  Twitter_hastags  Avg_age_actors  \\\n",
       "0            7.910            7.995  ...         223.8400              23   \n",
       "1            7.440            7.470  ...         243.4560              42   \n",
       "2            7.495            7.515  ...         923.9712              38   \n",
       "3            6.920            7.020  ...         225.3440              45   \n",
       "4            6.815            7.070  ...         225.7920              55   \n",
       "\n",
       "   Num_multiplex  Start_Tech_Oscar  3D_available_NO  3D_available_YES  \\\n",
       "0            494                 0                0                 1   \n",
       "1            462                 1                1                 0   \n",
       "2            458                 0                1                 0   \n",
       "3            472                 0                0                 1   \n",
       "4            395                 0                1                 0   \n",
       "\n",
       "   Genre_Action  Genre_Comedy  Genre_Drama  Genre_Thriller  \n",
       "0             0             0            0               1  \n",
       "1             0             0            1               0  \n",
       "2             0             1            0               0  \n",
       "3             0             0            1               0  \n",
       "4             0             0            1               0  \n",
       "\n",
       "[5 rows x 23 columns]"
      ]
     },
     "execution_count": 39,
     "metadata": {},
     "output_type": "execute_result"
    }
   ],
   "source": [
    "df.head()"
   ]
  },
  {
   "cell_type": "code",
   "execution_count": 42,
   "metadata": {},
   "outputs": [],
   "source": [
    "del df['Genre_Drama']\n",
    "del df['3D_available_NO']"
   ]
  },
  {
   "cell_type": "code",
   "execution_count": 43,
   "metadata": {},
   "outputs": [
    {
     "data": {
      "text/html": [
       "<div>\n",
       "<style scoped>\n",
       "    .dataframe tbody tr th:only-of-type {\n",
       "        vertical-align: middle;\n",
       "    }\n",
       "\n",
       "    .dataframe tbody tr th {\n",
       "        vertical-align: top;\n",
       "    }\n",
       "\n",
       "    .dataframe thead th {\n",
       "        text-align: right;\n",
       "    }\n",
       "</style>\n",
       "<table border=\"1\" class=\"dataframe\">\n",
       "  <thead>\n",
       "    <tr style=\"text-align: right;\">\n",
       "      <th></th>\n",
       "      <th>Collection</th>\n",
       "      <th>Marketing expense</th>\n",
       "      <th>Production expense</th>\n",
       "      <th>Multiplex coverage</th>\n",
       "      <th>Budget</th>\n",
       "      <th>Movie_length</th>\n",
       "      <th>Lead_ Actor_Rating</th>\n",
       "      <th>Lead_Actress_rating</th>\n",
       "      <th>Director_rating</th>\n",
       "      <th>Producer_rating</th>\n",
       "      <th>...</th>\n",
       "      <th>Trailer_views</th>\n",
       "      <th>Time_taken</th>\n",
       "      <th>Twitter_hastags</th>\n",
       "      <th>Avg_age_actors</th>\n",
       "      <th>Num_multiplex</th>\n",
       "      <th>Start_Tech_Oscar</th>\n",
       "      <th>3D_available_YES</th>\n",
       "      <th>Genre_Action</th>\n",
       "      <th>Genre_Comedy</th>\n",
       "      <th>Genre_Thriller</th>\n",
       "    </tr>\n",
       "  </thead>\n",
       "  <tbody>\n",
       "    <tr>\n",
       "      <th>0</th>\n",
       "      <td>48000</td>\n",
       "      <td>20.1264</td>\n",
       "      <td>59.62</td>\n",
       "      <td>0.462</td>\n",
       "      <td>36524.125</td>\n",
       "      <td>138.7</td>\n",
       "      <td>7.825</td>\n",
       "      <td>8.095</td>\n",
       "      <td>7.910</td>\n",
       "      <td>7.995</td>\n",
       "      <td>...</td>\n",
       "      <td>527367</td>\n",
       "      <td>109.60</td>\n",
       "      <td>223.8400</td>\n",
       "      <td>23</td>\n",
       "      <td>494</td>\n",
       "      <td>0</td>\n",
       "      <td>1</td>\n",
       "      <td>0</td>\n",
       "      <td>0</td>\n",
       "      <td>1</td>\n",
       "    </tr>\n",
       "    <tr>\n",
       "      <th>1</th>\n",
       "      <td>43200</td>\n",
       "      <td>20.5462</td>\n",
       "      <td>69.14</td>\n",
       "      <td>0.531</td>\n",
       "      <td>35668.655</td>\n",
       "      <td>152.4</td>\n",
       "      <td>7.505</td>\n",
       "      <td>7.650</td>\n",
       "      <td>7.440</td>\n",
       "      <td>7.470</td>\n",
       "      <td>...</td>\n",
       "      <td>494055</td>\n",
       "      <td>146.64</td>\n",
       "      <td>243.4560</td>\n",
       "      <td>42</td>\n",
       "      <td>462</td>\n",
       "      <td>1</td>\n",
       "      <td>0</td>\n",
       "      <td>0</td>\n",
       "      <td>0</td>\n",
       "      <td>0</td>\n",
       "    </tr>\n",
       "    <tr>\n",
       "      <th>2</th>\n",
       "      <td>69400</td>\n",
       "      <td>20.5458</td>\n",
       "      <td>69.14</td>\n",
       "      <td>0.531</td>\n",
       "      <td>39912.675</td>\n",
       "      <td>134.6</td>\n",
       "      <td>7.485</td>\n",
       "      <td>7.570</td>\n",
       "      <td>7.495</td>\n",
       "      <td>7.515</td>\n",
       "      <td>...</td>\n",
       "      <td>547051</td>\n",
       "      <td>147.88</td>\n",
       "      <td>923.9712</td>\n",
       "      <td>38</td>\n",
       "      <td>458</td>\n",
       "      <td>0</td>\n",
       "      <td>0</td>\n",
       "      <td>0</td>\n",
       "      <td>1</td>\n",
       "      <td>0</td>\n",
       "    </tr>\n",
       "    <tr>\n",
       "      <th>3</th>\n",
       "      <td>66800</td>\n",
       "      <td>20.6474</td>\n",
       "      <td>59.36</td>\n",
       "      <td>0.542</td>\n",
       "      <td>38873.890</td>\n",
       "      <td>119.3</td>\n",
       "      <td>6.895</td>\n",
       "      <td>7.035</td>\n",
       "      <td>6.920</td>\n",
       "      <td>7.020</td>\n",
       "      <td>...</td>\n",
       "      <td>516279</td>\n",
       "      <td>185.36</td>\n",
       "      <td>225.3440</td>\n",
       "      <td>45</td>\n",
       "      <td>472</td>\n",
       "      <td>0</td>\n",
       "      <td>1</td>\n",
       "      <td>0</td>\n",
       "      <td>0</td>\n",
       "      <td>0</td>\n",
       "    </tr>\n",
       "    <tr>\n",
       "      <th>4</th>\n",
       "      <td>72400</td>\n",
       "      <td>21.3810</td>\n",
       "      <td>59.36</td>\n",
       "      <td>0.542</td>\n",
       "      <td>39701.585</td>\n",
       "      <td>127.7</td>\n",
       "      <td>6.920</td>\n",
       "      <td>7.070</td>\n",
       "      <td>6.815</td>\n",
       "      <td>7.070</td>\n",
       "      <td>...</td>\n",
       "      <td>531448</td>\n",
       "      <td>176.48</td>\n",
       "      <td>225.7920</td>\n",
       "      <td>55</td>\n",
       "      <td>395</td>\n",
       "      <td>0</td>\n",
       "      <td>0</td>\n",
       "      <td>0</td>\n",
       "      <td>0</td>\n",
       "      <td>0</td>\n",
       "    </tr>\n",
       "  </tbody>\n",
       "</table>\n",
       "<p>5 rows × 21 columns</p>\n",
       "</div>"
      ],
      "text/plain": [
       "   Collection  Marketing expense  Production expense  Multiplex coverage  \\\n",
       "0       48000            20.1264               59.62               0.462   \n",
       "1       43200            20.5462               69.14               0.531   \n",
       "2       69400            20.5458               69.14               0.531   \n",
       "3       66800            20.6474               59.36               0.542   \n",
       "4       72400            21.3810               59.36               0.542   \n",
       "\n",
       "      Budget  Movie_length  Lead_ Actor_Rating  Lead_Actress_rating  \\\n",
       "0  36524.125         138.7               7.825                8.095   \n",
       "1  35668.655         152.4               7.505                7.650   \n",
       "2  39912.675         134.6               7.485                7.570   \n",
       "3  38873.890         119.3               6.895                7.035   \n",
       "4  39701.585         127.7               6.920                7.070   \n",
       "\n",
       "   Director_rating  Producer_rating  ...  Trailer_views  Time_taken  \\\n",
       "0            7.910            7.995  ...         527367      109.60   \n",
       "1            7.440            7.470  ...         494055      146.64   \n",
       "2            7.495            7.515  ...         547051      147.88   \n",
       "3            6.920            7.020  ...         516279      185.36   \n",
       "4            6.815            7.070  ...         531448      176.48   \n",
       "\n",
       "   Twitter_hastags  Avg_age_actors  Num_multiplex  Start_Tech_Oscar  \\\n",
       "0         223.8400              23            494                 0   \n",
       "1         243.4560              42            462                 1   \n",
       "2         923.9712              38            458                 0   \n",
       "3         225.3440              45            472                 0   \n",
       "4         225.7920              55            395                 0   \n",
       "\n",
       "   3D_available_YES  Genre_Action  Genre_Comedy  Genre_Thriller  \n",
       "0                 1             0             0               1  \n",
       "1                 0             0             0               0  \n",
       "2                 0             0             1               0  \n",
       "3                 1             0             0               0  \n",
       "4                 0             0             0               0  \n",
       "\n",
       "[5 rows x 21 columns]"
      ]
     },
     "execution_count": 43,
     "metadata": {},
     "output_type": "execute_result"
    }
   ],
   "source": [
    "df.head()"
   ]
  },
  {
   "cell_type": "markdown",
   "metadata": {},
   "source": [
    "# Logistic Regression"
   ]
  },
  {
   "cell_type": "code",
   "execution_count": 45,
   "metadata": {},
   "outputs": [],
   "source": [
    "from sklearn.linear_model import LogisticRegression"
   ]
  },
  {
   "cell_type": "code",
   "execution_count": 46,
   "metadata": {},
   "outputs": [],
   "source": [
    "lr = LogisticRegression()"
   ]
  },
  {
   "cell_type": "code",
   "execution_count": 51,
   "metadata": {},
   "outputs": [],
   "source": [
    "X = df[['Budget']]\n",
    "y = df[\"Start_Tech_Oscar\"]"
   ]
  },
  {
   "cell_type": "code",
   "execution_count": 52,
   "metadata": {},
   "outputs": [
    {
     "data": {
      "text/plain": [
       "LogisticRegression()"
      ]
     },
     "execution_count": 52,
     "metadata": {},
     "output_type": "execute_result"
    }
   ],
   "source": [
    "lr.fit(X,y)"
   ]
  },
  {
   "cell_type": "code",
   "execution_count": 53,
   "metadata": {},
   "outputs": [
    {
     "data": {
      "text/plain": [
       "array([[-4.98636792e-06]])"
      ]
     },
     "execution_count": 53,
     "metadata": {},
     "output_type": "execute_result"
    }
   ],
   "source": [
    "lr.coef_"
   ]
  },
  {
   "cell_type": "code",
   "execution_count": 54,
   "metadata": {},
   "outputs": [
    {
     "data": {
      "text/plain": [
       "array([-1.61123752e-10])"
      ]
     },
     "execution_count": 54,
     "metadata": {},
     "output_type": "execute_result"
    }
   ],
   "source": [
    "lr.intercept_"
   ]
  },
  {
   "cell_type": "code",
   "execution_count": 55,
   "metadata": {},
   "outputs": [],
   "source": [
    "X = df.loc[:, df.columns != \"Start_Tech_Oscar\"]\n",
    "Y = df[\"Start_Tech_Oscar\"]"
   ]
  },
  {
   "cell_type": "code",
   "execution_count": 56,
   "metadata": {},
   "outputs": [
    {
     "name": "stderr",
     "output_type": "stream",
     "text": [
      "/home/orashar/.local/lib/python3.7/site-packages/sklearn/linear_model/_logistic.py:762: ConvergenceWarning: lbfgs failed to converge (status=1):\n",
      "STOP: TOTAL NO. of ITERATIONS REACHED LIMIT.\n",
      "\n",
      "Increase the number of iterations (max_iter) or scale the data as shown in:\n",
      "    https://scikit-learn.org/stable/modules/preprocessing.html\n",
      "Please also refer to the documentation for alternative solver options:\n",
      "    https://scikit-learn.org/stable/modules/linear_model.html#logistic-regression\n",
      "  extra_warning_msg=_LOGISTIC_SOLVER_CONVERGENCE_MSG)\n"
     ]
    },
    {
     "data": {
      "text/plain": [
       "LogisticRegression()"
      ]
     },
     "execution_count": 56,
     "metadata": {},
     "output_type": "execute_result"
    }
   ],
   "source": [
    "lr = LogisticRegression()\n",
    "lr.fit(X, y)"
   ]
  },
  {
   "cell_type": "code",
   "execution_count": 57,
   "metadata": {},
   "outputs": [
    {
     "data": {
      "text/plain": [
       "array([[-5.77200563e-05, -5.26244157e-04, -1.03904637e-03,\n",
       "        -1.63066054e-05,  6.97141167e-05, -2.01224041e-03,\n",
       "         1.42391456e-05,  1.90801927e-05,  1.76368519e-05,\n",
       "         2.39717840e-05, -9.01371382e-05,  6.85074584e-06,\n",
       "         8.09059533e-04, -8.57515615e-03, -1.56396625e-03,\n",
       "        -1.07533107e-03, -3.62146970e-05, -9.55933837e-06,\n",
       "        -2.45423596e-05,  4.59116681e-05]])"
      ]
     },
     "execution_count": 57,
     "metadata": {},
     "output_type": "execute_result"
    }
   ],
   "source": [
    "lr.coef_"
   ]
  },
  {
   "cell_type": "code",
   "execution_count": 58,
   "metadata": {},
   "outputs": [
    {
     "data": {
      "text/plain": [
       "array([-2.11218052e-05])"
      ]
     },
     "execution_count": 58,
     "metadata": {},
     "output_type": "execute_result"
    }
   ],
   "source": [
    "lr.intercept_"
   ]
  },
  {
   "cell_type": "markdown",
   "metadata": {},
   "source": [
    "## predictions and confusion matrix"
   ]
  },
  {
   "cell_type": "code",
   "execution_count": 62,
   "metadata": {},
   "outputs": [],
   "source": [
    "y_pred = lr.predict(X)"
   ]
  },
  {
   "cell_type": "code",
   "execution_count": 71,
   "metadata": {},
   "outputs": [
    {
     "data": {
      "text/plain": [
       "array([False, False, False, False, False, False, False, False, False,\n",
       "       False, False, False, False, False, False, False, False, False,\n",
       "       False, False, False, False, False, False, False, False, False,\n",
       "       False, False, False, False, False, False, False, False, False,\n",
       "       False, False, False, False, False, False, False, False, False,\n",
       "       False, False, False, False, False, False, False, False, False,\n",
       "       False, False, False, False, False, False, False, False,  True,\n",
       "       False, False, False, False, False, False, False, False, False,\n",
       "       False, False, False,  True, False, False, False, False, False,\n",
       "       False, False, False, False, False, False, False,  True, False,\n",
       "       False, False, False, False, False, False, False, False, False,\n",
       "       False, False, False, False, False, False, False, False, False,\n",
       "       False, False, False, False, False, False, False, False, False,\n",
       "       False, False, False, False, False, False, False, False, False,\n",
       "       False, False, False, False, False, False, False, False, False,\n",
       "       False, False, False, False, False, False, False, False, False,\n",
       "       False, False, False, False, False, False, False, False, False,\n",
       "       False, False, False, False, False, False, False, False, False,\n",
       "       False, False, False, False, False, False, False, False, False,\n",
       "       False, False, False, False, False, False, False, False, False,\n",
       "       False, False, False, False, False, False, False, False, False,\n",
       "       False, False, False, False, False, False, False, False, False,\n",
       "       False, False, False, False, False, False, False, False, False,\n",
       "       False, False, False, False, False, False, False, False, False,\n",
       "       False, False, False, False, False, False, False, False, False,\n",
       "       False, False, False, False, False, False, False, False, False,\n",
       "       False, False, False, False, False, False, False, False, False,\n",
       "       False, False, False, False, False, False, False, False, False,\n",
       "       False, False, False, False, False, False, False, False, False,\n",
       "       False, False, False, False, False, False, False, False, False,\n",
       "       False, False, False, False, False, False, False, False, False,\n",
       "       False, False, False, False, False, False, False,  True, False,\n",
       "       False, False, False, False, False, False, False, False, False,\n",
       "       False, False, False, False, False, False, False, False, False,\n",
       "       False, False, False, False, False, False, False, False, False,\n",
       "       False, False, False, False, False, False, False, False, False,\n",
       "       False, False, False, False,  True, False, False, False, False,\n",
       "        True, False, False, False, False, False, False, False, False,\n",
       "        True, False, False, False, False, False, False, False, False,\n",
       "        True,  True, False, False, False, False, False, False, False,\n",
       "       False, False, False, False,  True, False, False, False, False,\n",
       "       False, False, False, False, False, False, False, False, False,\n",
       "       False, False, False,  True, False, False, False, False, False,\n",
       "       False, False, False, False, False, False, False, False, False,\n",
       "       False, False, False, False, False,  True, False, False, False,\n",
       "       False, False, False, False, False, False, False, False, False,\n",
       "       False, False,  True, False, False, False, False, False, False,\n",
       "       False, False, False, False, False, False, False, False, False,\n",
       "        True,  True, False, False,  True, False, False, False, False,\n",
       "       False, False, False, False, False, False, False, False, False,\n",
       "       False, False, False, False, False, False, False, False, False,\n",
       "       False, False, False, False, False, False, False, False, False,\n",
       "       False, False, False, False, False, False, False, False, False,\n",
       "       False, False, False, False, False, False, False, False, False,\n",
       "       False, False, False, False, False, False, False, False, False,\n",
       "       False, False, False, False, False, False, False, False, False,\n",
       "       False,  True])"
      ]
     },
     "execution_count": 71,
     "metadata": {},
     "output_type": "execute_result"
    }
   ],
   "source": [
    "y_pred_3 = (lr.predict_proba(X)[:,1] > 0.3)\n",
    "y_pred_5 = (lr.predict_proba(X)[:,1] > 0.5)\n",
    "y_pred_7 = (lr.predict_proba(X)[:,1] > 0.7)\n",
    "y_pred_7"
   ]
  },
  {
   "cell_type": "code",
   "execution_count": 72,
   "metadata": {},
   "outputs": [],
   "source": [
    "from sklearn.metrics import confusion_matrix"
   ]
  },
  {
   "cell_type": "code",
   "execution_count": 73,
   "metadata": {},
   "outputs": [
    {
     "data": {
      "text/plain": [
       "array([[184,  92],\n",
       "       [103, 127]])"
      ]
     },
     "execution_count": 73,
     "metadata": {},
     "output_type": "execute_result"
    }
   ],
   "source": [
    "confusion_matrix(y, y_pred)"
   ]
  },
  {
   "cell_type": "code",
   "execution_count": 74,
   "metadata": {},
   "outputs": [
    {
     "data": {
      "text/plain": [
       "array([[ 68, 208],\n",
       "       [  6, 224]])"
      ]
     },
     "execution_count": 74,
     "metadata": {},
     "output_type": "execute_result"
    }
   ],
   "source": [
    "confusion_matrix(y, y_pred_3)"
   ]
  },
  {
   "cell_type": "code",
   "execution_count": 75,
   "metadata": {},
   "outputs": [
    {
     "data": {
      "text/plain": [
       "array([[184,  92],\n",
       "       [103, 127]])"
      ]
     },
     "execution_count": 75,
     "metadata": {},
     "output_type": "execute_result"
    }
   ],
   "source": [
    "confusion_matrix(y, y_pred_5)"
   ]
  },
  {
   "cell_type": "code",
   "execution_count": 76,
   "metadata": {},
   "outputs": [
    {
     "data": {
      "text/plain": [
       "array([[269,   7],\n",
       "       [220,  10]])"
      ]
     },
     "execution_count": 76,
     "metadata": {},
     "output_type": "execute_result"
    }
   ],
   "source": [
    "confusion_matrix(y, y_pred_7)"
   ]
  },
  {
   "cell_type": "code",
   "execution_count": 100,
   "metadata": {},
   "outputs": [],
   "source": [
    "from sklearn.metrics import precision_score, recall_score, roc_auc_score, accuracy_score"
   ]
  },
  {
   "cell_type": "code",
   "execution_count": 78,
   "metadata": {},
   "outputs": [
    {
     "data": {
      "text/plain": [
       "0.5799086757990868"
      ]
     },
     "execution_count": 78,
     "metadata": {},
     "output_type": "execute_result"
    }
   ],
   "source": [
    "precision_score(y, y_pred)"
   ]
  },
  {
   "cell_type": "code",
   "execution_count": 82,
   "metadata": {},
   "outputs": [
    {
     "data": {
      "text/plain": [
       "0.5185185185185185"
      ]
     },
     "execution_count": 82,
     "metadata": {},
     "output_type": "execute_result"
    }
   ],
   "source": [
    "precision_score(y, y_pred_3)"
   ]
  },
  {
   "cell_type": "code",
   "execution_count": 83,
   "metadata": {},
   "outputs": [
    {
     "data": {
      "text/plain": [
       "0.5799086757990868"
      ]
     },
     "execution_count": 83,
     "metadata": {},
     "output_type": "execute_result"
    }
   ],
   "source": [
    "precision_score(y, y_pred_5)"
   ]
  },
  {
   "cell_type": "code",
   "execution_count": 84,
   "metadata": {},
   "outputs": [
    {
     "data": {
      "text/plain": [
       "0.5882352941176471"
      ]
     },
     "execution_count": 84,
     "metadata": {},
     "output_type": "execute_result"
    }
   ],
   "source": [
    "precision_score(y, y_pred_7)"
   ]
  },
  {
   "cell_type": "code",
   "execution_count": 85,
   "metadata": {},
   "outputs": [
    {
     "data": {
      "text/plain": [
       "0.5521739130434783"
      ]
     },
     "execution_count": 85,
     "metadata": {},
     "output_type": "execute_result"
    }
   ],
   "source": [
    "recall_score(y, y_pred)"
   ]
  },
  {
   "cell_type": "code",
   "execution_count": 86,
   "metadata": {},
   "outputs": [
    {
     "data": {
      "text/plain": [
       "0.9739130434782609"
      ]
     },
     "execution_count": 86,
     "metadata": {},
     "output_type": "execute_result"
    }
   ],
   "source": [
    "recall_score(y, y_pred_3)"
   ]
  },
  {
   "cell_type": "code",
   "execution_count": 87,
   "metadata": {},
   "outputs": [
    {
     "data": {
      "text/plain": [
       "0.5521739130434783"
      ]
     },
     "execution_count": 87,
     "metadata": {},
     "output_type": "execute_result"
    }
   ],
   "source": [
    "recall_score(y, y_pred_5)"
   ]
  },
  {
   "cell_type": "code",
   "execution_count": 88,
   "metadata": {},
   "outputs": [
    {
     "data": {
      "text/plain": [
       "0.043478260869565216"
      ]
     },
     "execution_count": 88,
     "metadata": {},
     "output_type": "execute_result"
    }
   ],
   "source": [
    "recall_score(y, y_pred_7)"
   ]
  },
  {
   "cell_type": "code",
   "execution_count": 89,
   "metadata": {},
   "outputs": [
    {
     "data": {
      "text/plain": [
       "0.6094202898550726"
      ]
     },
     "execution_count": 89,
     "metadata": {},
     "output_type": "execute_result"
    }
   ],
   "source": [
    "roc_auc_score(y, y_pred)"
   ]
  },
  {
   "cell_type": "code",
   "execution_count": 90,
   "metadata": {},
   "outputs": [
    {
     "data": {
      "text/plain": [
       "0.6101449275362318"
      ]
     },
     "execution_count": 90,
     "metadata": {},
     "output_type": "execute_result"
    }
   ],
   "source": [
    "roc_auc_score(y, y_pred_3)"
   ]
  },
  {
   "cell_type": "code",
   "execution_count": 91,
   "metadata": {},
   "outputs": [
    {
     "data": {
      "text/plain": [
       "0.6094202898550726"
      ]
     },
     "execution_count": 91,
     "metadata": {},
     "output_type": "execute_result"
    }
   ],
   "source": [
    "roc_auc_score(y, y_pred_5)"
   ]
  },
  {
   "cell_type": "code",
   "execution_count": 92,
   "metadata": {},
   "outputs": [
    {
     "data": {
      "text/plain": [
       "0.5090579710144927"
      ]
     },
     "execution_count": 92,
     "metadata": {},
     "output_type": "execute_result"
    }
   ],
   "source": [
    "roc_auc_score(y, y_pred_7)"
   ]
  },
  {
   "cell_type": "markdown",
   "metadata": {},
   "source": [
    "## LDA"
   ]
  },
  {
   "cell_type": "code",
   "execution_count": 93,
   "metadata": {},
   "outputs": [],
   "source": [
    "from sklearn.discriminant_analysis import LinearDiscriminantAnalysis"
   ]
  },
  {
   "cell_type": "code",
   "execution_count": 94,
   "metadata": {},
   "outputs": [
    {
     "data": {
      "text/plain": [
       "LinearDiscriminantAnalysis()"
      ]
     },
     "execution_count": 94,
     "metadata": {},
     "output_type": "execute_result"
    }
   ],
   "source": [
    "lda = LinearDiscriminantAnalysis()\n",
    "lda.fit(X, y)"
   ]
  },
  {
   "cell_type": "code",
   "execution_count": 97,
   "metadata": {},
   "outputs": [],
   "source": [
    "y_pred_lda = lda.predict(X)"
   ]
  },
  {
   "cell_type": "code",
   "execution_count": 98,
   "metadata": {},
   "outputs": [
    {
     "data": {
      "text/plain": [
       "array([[190,  86],\n",
       "       [ 88, 142]])"
      ]
     },
     "execution_count": 98,
     "metadata": {},
     "output_type": "execute_result"
    }
   ],
   "source": [
    "confusion_matrix(y, y_pred_lda)"
   ]
  },
  {
   "cell_type": "markdown",
   "metadata": {},
   "source": [
    "## train test spilt\n"
   ]
  },
  {
   "cell_type": "code",
   "execution_count": 99,
   "metadata": {},
   "outputs": [],
   "source": [
    "from sklearn.model_selection import train_test_split"
   ]
  },
  {
   "cell_type": "code",
   "execution_count": 101,
   "metadata": {},
   "outputs": [],
   "source": [
    "X_train, X_test, y_train, y_test = train_test_split(X, y, test_size=0.2, random_state=1)"
   ]
  },
  {
   "cell_type": "code",
   "execution_count": 109,
   "metadata": {},
   "outputs": [
    {
     "name": "stdout",
     "output_type": "stream",
     "text": [
      "(404, 20) (102, 20) (404,) (102,)\n"
     ]
    }
   ],
   "source": [
    "print(X_train.shape, X_test.shape, y_train.shape, y_test.shape)"
   ]
  },
  {
   "cell_type": "code",
   "execution_count": null,
   "metadata": {},
   "outputs": [],
   "source": []
  },
  {
   "cell_type": "code",
   "execution_count": 104,
   "metadata": {},
   "outputs": [
    {
     "data": {
      "text/plain": [
       "LogisticRegression()"
      ]
     },
     "execution_count": 104,
     "metadata": {},
     "output_type": "execute_result"
    }
   ],
   "source": [
    "lr = LogisticRegression()\n",
    "lr.fit(X_train, y_train)"
   ]
  },
  {
   "cell_type": "code",
   "execution_count": 106,
   "metadata": {},
   "outputs": [],
   "source": [
    "y_test_pred = lr.predict(X_test)"
   ]
  },
  {
   "cell_type": "code",
   "execution_count": 107,
   "metadata": {},
   "outputs": [
    {
     "data": {
      "text/plain": [
       "array([[35, 14],\n",
       "       [24, 29]])"
      ]
     },
     "execution_count": 107,
     "metadata": {},
     "output_type": "execute_result"
    }
   ],
   "source": [
    "confusion_matrix(y_test, y_test_pred)"
   ]
  },
  {
   "cell_type": "code",
   "execution_count": 110,
   "metadata": {},
   "outputs": [
    {
     "data": {
      "text/plain": [
       "0.6274509803921569"
      ]
     },
     "execution_count": 110,
     "metadata": {},
     "output_type": "execute_result"
    }
   ],
   "source": [
    "accuracy_score(y_test, y_test_pred)"
   ]
  },
  {
   "cell_type": "code",
   "execution_count": null,
   "metadata": {},
   "outputs": [],
   "source": []
  }
 ],
 "metadata": {
  "kernelspec": {
   "display_name": "Python 3",
   "language": "python",
   "name": "python3"
  },
  "language_info": {
   "codemirror_mode": {
    "name": "ipython",
    "version": 3
   },
   "file_extension": ".py",
   "mimetype": "text/x-python",
   "name": "python",
   "nbconvert_exporter": "python",
   "pygments_lexer": "ipython3",
   "version": "3.7.5"
  }
 },
 "nbformat": 4,
 "nbformat_minor": 4
}
