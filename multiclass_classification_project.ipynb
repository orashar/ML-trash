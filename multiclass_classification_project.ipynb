{
 "cells": [
  {
   "cell_type": "code",
   "execution_count": 130,
   "metadata": {},
   "outputs": [],
   "source": [
    "import numpy as np\n",
    "import os\n",
    "from pathlib import Path\n",
    "from keras.preprocessing import image\n",
    "from matplotlib import pyplot as plt"
   ]
  },
  {
   "cell_type": "code",
   "execution_count": 82,
   "metadata": {},
   "outputs": [],
   "source": [
    "p = Path(\"./images/\")\n",
    "\n",
    "dirs = p.glob(\"*\")\n",
    "\n",
    "labels_dict = {\"cat\":0, \"dog\":1, \"horse\":2, \"human\":3}\n",
    "\n",
    "image_data = []\n",
    "labels = []\n",
    "    \n",
    "for folder_name in dirs:\n",
    "    #print(folder_name)\n",
    "    label = str(folder_name).split(\"/\")[-1][:-1]\n",
    "\n",
    "    \n",
    "    for img_path in folder_name.glob(\"*.jpg\"):\n",
    "        #print(img_path)\n",
    "        img = image.load_img(img_path, target_size=(32,32))\n",
    "        img_array = image.img_to_array(img)\n",
    "        \n",
    "        image_data.append(img_array)\n",
    "        labels.append(labels_dict[label])"
   ]
  },
  {
   "cell_type": "code",
   "execution_count": 83,
   "metadata": {},
   "outputs": [
    {
     "name": "stdout",
     "output_type": "stream",
     "text": [
      "808 808\n"
     ]
    }
   ],
   "source": [
    "print(len(image_data), len(labels))"
   ]
  },
  {
   "cell_type": "code",
   "execution_count": 84,
   "metadata": {},
   "outputs": [
    {
     "name": "stdout",
     "output_type": "stream",
     "text": [
      "(808, 32, 32, 3) (808,)\n"
     ]
    }
   ],
   "source": [
    "# convert this data to numpy array\n",
    "image_data = np.array(image_data, dtype=\"float32\")/255.0\n",
    "labels = np.array(labels)\n",
    "\n",
    "print(image_data.shape, labels.shape)"
   ]
  },
  {
   "cell_type": "code",
   "execution_count": 85,
   "metadata": {},
   "outputs": [],
   "source": [
    "### visualise this data"
   ]
  },
  {
   "cell_type": "code",
   "execution_count": 86,
   "metadata": {},
   "outputs": [],
   "source": [
    "def drawImg(img):\n",
    "    from matplotlib import pyplot as plt\n",
    "    plt.imshow(img)\n",
    "    return"
   ]
  },
  {
   "cell_type": "code",
   "execution_count": 87,
   "metadata": {},
   "outputs": [
    {
     "data": {
      "image/png": "[encoded data removed]",
      "text/plain": [
       "<Figure size 432x288 with 1 Axes>"
      ]
     },
     "metadata": {
      "needs_background": "light"
     },
     "output_type": "display_data"
    }
   ],
   "source": [
    "drawImg(image_data[0])"
   ]
  },
  {
   "cell_type": "code",
   "execution_count": 88,
   "metadata": {},
   "outputs": [],
   "source": [
    "## random shuffle our data"
   ]
  },
  {
   "cell_type": "code",
   "execution_count": 89,
   "metadata": {},
   "outputs": [],
   "source": [
    "import random"
   ]
  },
  {
   "cell_type": "code",
   "execution_count": 90,
   "metadata": {},
   "outputs": [],
   "source": [
    "combined = list(zip(image_data, labels))\n",
    "random.shuffle(combined)\n",
    "\n",
    "image_data[:], labels[:] = zip(*combined)"
   ]
  },
  {
   "cell_type": "code",
   "execution_count": 91,
   "metadata": {},
   "outputs": [
    {
     "data": {
      "image/png": "[encoded data removed]",
      "text/plain": [
       "<Figure size 432x288 with 1 Axes>"
      ]
     },
     "metadata": {
      "needs_background": "light"
     },
     "output_type": "display_data"
    }
   ],
   "source": [
    "drawImg(image_data[0])"
   ]
  },
  {
   "cell_type": "code",
   "execution_count": null,
   "metadata": {},
   "outputs": [],
   "source": []
  },
  {
   "cell_type": "code",
   "execution_count": 92,
   "metadata": {},
   "outputs": [],
   "source": [
    "### svm classifier"
   ]
  },
  {
   "cell_type": "code",
   "execution_count": 93,
   "metadata": {},
   "outputs": [],
   "source": [
    "class SVM:\n",
    "    def __init__(self, C=1.0):\n",
    "        self.C = C\n",
    "        self.W = 0\n",
    "        self.b = 0\n",
    "        \n",
    "    def hingeLoss(self, W, b, X, Y):\n",
    "        loss = 0.0\n",
    "        \n",
    "        loss += 0.5*np.dot(W, W.T)\n",
    "        \n",
    "        m = X.shape[0]\n",
    "        for i in range(m):\n",
    "            ti = Y[i]*(np.dot(W, X[i].T) + b)\n",
    "            loss += self.C * max(0, 1-ti)\n",
    "            \n",
    "        return loss[0][0]\n",
    "    \n",
    "    def fit(self, X, Y, batch_size=100, learning_rate=0.001, maxItr=300):\n",
    "        no_of_features = X.shape[1]\n",
    "        no_of_samples = X.shape[0]\n",
    "        \n",
    "        n = learning_rate\n",
    "        c = self.C\n",
    "        \n",
    "        # init model parameters\n",
    "        W = np.zeros((1,no_of_features))\n",
    "        b = 0\n",
    "        \n",
    "        print(self.hingeLoss(W,b,X,Y))\n",
    "        \n",
    "        # training from here\n",
    "        # update weight and bias rule\n",
    "        losses = []\n",
    "        \n",
    "        for i in range(maxItr):\n",
    "            #training loop\n",
    "            l = self.hingeLoss(W,b,X,Y)\n",
    "            losses.append(l)\n",
    "            ids = np.arange(no_of_samples)\n",
    "            np.random.shuffle(ids)\n",
    "            \n",
    "            # batch gradient with random suffling\n",
    "            for batch_start in range(0,no_of_samples, batch_size):\n",
    "                #assume 0 gradient for the batch\n",
    "                gradW = 0\n",
    "                gradb = 0\n",
    "                \n",
    "                # iterate over all examples in the mini batch\n",
    "                for j in range(batch_start, batch_start+batch_size):\n",
    "                    if j < no_of_samples:\n",
    "                        i = ids[j]\n",
    "                        \n",
    "                        ti = Y[i]*(np.dot(W, X[i].T) + b)\n",
    "                        if ti > 1:\n",
    "                            gradW += 0\n",
    "                            gradb += 0\n",
    "                        else:\n",
    "                            gradW += c*Y[i]*X[i]\n",
    "                            gradb += c*Y[i]\n",
    "                            \n",
    "                # gradient for the batch us ready, now update w and b\n",
    "                W = W - n*W + n*gradW\n",
    "                b = b + n*gradb\n",
    "                \n",
    "        self.W = W\n",
    "        self.b = b\n",
    "        return W, b, losses"
   ]
  },
  {
   "cell_type": "code",
   "execution_count": 94,
   "metadata": {},
   "outputs": [],
   "source": [
    "## we need to convert data for one to one classification"
   ]
  },
  {
   "cell_type": "code",
   "execution_count": 95,
   "metadata": {},
   "outputs": [
    {
     "name": "stdout",
     "output_type": "stream",
     "text": [
      "(808, 3072) (808,)\n"
     ]
    }
   ],
   "source": [
    "m = image_data.shape[0]\n",
    "image_data = image_data.reshape(m,-1)\n",
    "print(image_data.shape, labels.shape)"
   ]
  },
  {
   "cell_type": "code",
   "execution_count": 96,
   "metadata": {},
   "outputs": [
    {
     "name": "stdout",
     "output_type": "stream",
     "text": [
      "4\n"
     ]
    }
   ],
   "source": [
    "CLASSES = len(np.unique(labels))\n",
    "print(CLASSES)"
   ]
  },
  {
   "cell_type": "code",
   "execution_count": 98,
   "metadata": {},
   "outputs": [],
   "source": [
    "def classWiseData(x,y):\n",
    "    data = {}\n",
    "    \n",
    "    for i in range(CLASSES):\n",
    "        data[i] = []\n",
    "        \n",
    "    for i in range(x.shape[0]):\n",
    "        data[y[i]].append(x[i])\n",
    "        \n",
    "    for k in data.keys():\n",
    "        data[k] = np.array(data[k])\n",
    "        \n",
    "    return data"
   ]
  },
  {
   "cell_type": "code",
   "execution_count": 100,
   "metadata": {},
   "outputs": [
    {
     "name": "stdout",
     "output_type": "stream",
     "text": [
      "(202, 3072)\n",
      "(202, 3072)\n",
      "(202, 3072)\n",
      "(202, 3072)\n"
     ]
    }
   ],
   "source": [
    "data = classWiseData(image_data, labels)\n",
    "\n",
    "print(data[0].shape)\n",
    "print(data[1].shape)\n",
    "print(data[2].shape)\n",
    "print(data[3].shape)"
   ]
  },
  {
   "cell_type": "code",
   "execution_count": 103,
   "metadata": {},
   "outputs": [],
   "source": [
    "def getDataPairForSVM(d1,d2):\n",
    "    # combines data of two classes into a single matrix\n",
    "    l1,l2 = d1.shape[0], d2.shape[0]\n",
    "    \n",
    "    samples = l1+l2\n",
    "    features = d1.shape[1]\n",
    "    \n",
    "    data_pair = np.zeros((samples, features))\n",
    "    data_labels = np.zeros((samples,))\n",
    "    \n",
    "    data_pair[:l1, :] = d1\n",
    "    data_pair[l1:] = d2\n",
    "    \n",
    "    data_labels[:l1] = -1\n",
    "    data_labels[l1:] = 1\n",
    "    \n",
    "    return data_pair, data_labels"
   ]
  },
  {
   "cell_type": "code",
   "execution_count": null,
   "metadata": {},
   "outputs": [],
   "source": []
  },
  {
   "cell_type": "code",
   "execution_count": 105,
   "metadata": {},
   "outputs": [],
   "source": [
    "### train NC2 SVM's part"
   ]
  },
  {
   "cell_type": "code",
   "execution_count": 106,
   "metadata": {},
   "outputs": [],
   "source": [
    "mySVM = SVM()"
   ]
  },
  {
   "cell_type": "code",
   "execution_count": 134,
   "metadata": {},
   "outputs": [],
   "source": [
    "def trainSVMs(x,y):\n",
    "    svm_classifiers = {}\n",
    "    for i in range(CLASSES):\n",
    "        svm_classifiers[i] = {}\n",
    "        for j in range(i+1, CLASSES):\n",
    "            xpair, ypair = getDataPairForSVM(data[i], data[j])\n",
    "            wts, b, loss = mySVM.fit(xpair, ypair, learning_rate=0.00001, maxItr=1000)\n",
    "            svm_classifiers[i][j] = (wts,b)\n",
    "            \n",
    "    return svm_classifiers"
   ]
  },
  {
   "cell_type": "code",
   "execution_count": 135,
   "metadata": {},
   "outputs": [
    {
     "name": "stdout",
     "output_type": "stream",
     "text": [
      "404.0\n",
      "404.0\n",
      "404.0\n",
      "404.0\n",
      "404.0\n",
      "404.0\n"
     ]
    }
   ],
   "source": [
    "svm_classifiers = trainSVMs(image_data, label)"
   ]
  },
  {
   "cell_type": "code",
   "execution_count": 136,
   "metadata": {},
   "outputs": [
    {
     "name": "stdout",
     "output_type": "stream",
     "text": [
      "(1, 3072) -0.07713999999999989\n"
     ]
    }
   ],
   "source": [
    "# parameters\n",
    "cats_dogs = svm_classifiers[0][1]\n",
    "cats_huans = svm_classifiers[0][3]\n",
    "print(cats_dogs[0].shape, cats_dogs[1])"
   ]
  },
  {
   "cell_type": "code",
   "execution_count": 137,
   "metadata": {},
   "outputs": [],
   "source": [
    "### prediction"
   ]
  },
  {
   "cell_type": "code",
   "execution_count": 138,
   "metadata": {},
   "outputs": [],
   "source": [
    "def binaryPredict(x,w,b):\n",
    "    z = np.dot(x, w.T) + b\n",
    "    \n",
    "    if z > 0: return 1\n",
    "    else: return -1"
   ]
  },
  {
   "cell_type": "code",
   "execution_count": 139,
   "metadata": {},
   "outputs": [],
   "source": [
    "def predict(x):\n",
    "    count = np.zeros((CLASSES,))\n",
    "    \n",
    "    for i in range(CLASSES):\n",
    "        for j in range(i+1, CLASSES):\n",
    "            w,b = svm_classifiers[i][j]\n",
    "            \n",
    "            #take the majority vote\n",
    "            z = binaryPredict(x,w,b)\n",
    "            \n",
    "            if z == 1:\n",
    "                count[j] += 1\n",
    "            else: count[i] += 1\n",
    "          \n",
    "    #print(count)\n",
    "    final_prediction = np.argmax(count)\n",
    "    return final_prediction"
   ]
  },
  {
   "cell_type": "code",
   "execution_count": 140,
   "metadata": {},
   "outputs": [
    {
     "name": "stdout",
     "output_type": "stream",
     "text": [
      "1 2\n"
     ]
    }
   ],
   "source": [
    "print(predict(image_data[10]), labels[10])"
   ]
  },
  {
   "cell_type": "code",
   "execution_count": 141,
   "metadata": {},
   "outputs": [],
   "source": [
    "def accuracy(x,y):\n",
    "    count = 0\n",
    "    \n",
    "    for i in range(x.shape[0]):\n",
    "        prediction = predict(x[i])\n",
    "        if(prediction == y[i]):\n",
    "            count += 1\n",
    "        \n",
    "    return count/x.shape[0]"
   ]
  },
  {
   "cell_type": "code",
   "execution_count": 142,
   "metadata": {},
   "outputs": [
    {
     "data": {
      "text/plain": [
       "0.5965346534653465"
      ]
     },
     "execution_count": 142,
     "metadata": {},
     "output_type": "execute_result"
    }
   ],
   "source": [
    "accuracy(image_data, labels)"
   ]
  },
  {
   "cell_type": "code",
   "execution_count": null,
   "metadata": {},
   "outputs": [],
   "source": []
  },
  {
   "cell_type": "code",
   "execution_count": 143,
   "metadata": {},
   "outputs": [],
   "source": [
    "### checking different lr and mexItr"
   ]
  },
  {
   "cell_type": "code",
   "execution_count": 133,
   "metadata": {},
   "outputs": [
    {
     "name": "stdout",
     "output_type": "stream",
     "text": [
      "404.0\n"
     ]
    },
    {
     "data": {
      "text/plain": [
       "[<matplotlib.lines.Line2D at 0x7f1406955a10>]"
      ]
     },
     "execution_count": 133,
     "metadata": {},
     "output_type": "execute_result"
    },
    {
     "data": {
      "image/png": "[encoded data removed]",
      "text/plain": [
       "<Figure size 432x288 with 1 Axes>"
      ]
     },
     "metadata": {
      "needs_background": "light"
     },
     "output_type": "display_data"
    }
   ],
   "source": [
    "mySVM = SVM()\n",
    "xp,yp = getDataPairForSVM(data[0], data[1])\n",
    "w,b,loss = mySVM.fit(xp,yp, learning_rate=0.00001, maxItr=1000)\n",
    "plt.plot(loss)"
   ]
  },
  {
   "cell_type": "code",
   "execution_count": null,
   "metadata": {},
   "outputs": [],
   "source": [
    "### using sklearn"
   ]
  },
  {
   "cell_type": "code",
   "execution_count": 144,
   "metadata": {},
   "outputs": [],
   "source": [
    "from sklearn import svm"
   ]
  },
  {
   "cell_type": "code",
   "execution_count": 145,
   "metadata": {},
   "outputs": [],
   "source": [
    "svm_classifier = svm.SVC(kernel=\"linear\", C=1.0)"
   ]
  },
  {
   "cell_type": "code",
   "execution_count": 146,
   "metadata": {},
   "outputs": [
    {
     "data": {
      "text/plain": [
       "0.6373762376237624"
      ]
     },
     "execution_count": 146,
     "metadata": {},
     "output_type": "execute_result"
    }
   ],
   "source": [
    "svm_classifier.fit(image_data, labels)\n",
    "svm_classifier.score(image_data, labels)"
   ]
  },
  {
   "cell_type": "code",
   "execution_count": null,
   "metadata": {},
   "outputs": [],
   "source": []
  }
 ],
 "metadata": {
  "kernelspec": {
   "display_name": "Python 3",
   "language": "python",
   "name": "python3"
  },
  "language_info": {
   "codemirror_mode": {
    "name": "ipython",
    "version": 3
   },
   "file_extension": ".py",
   "mimetype": "text/x-python",
   "name": "python",
   "nbconvert_exporter": "python",
   "pygments_lexer": "ipython3",
   "version": "3.7.5"
  }
 },
 "nbformat": 4,
 "nbformat_minor": 4
}
