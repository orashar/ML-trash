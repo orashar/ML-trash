{
 "cells": [
  {
   "cell_type": "code",
   "execution_count": 22,
   "metadata": {},
   "outputs": [],
   "source": [
    "import numpy as np\n",
    "import pandas as pd\n",
    "import random\n",
    "from keras.preprocessing import image\n",
    "from sklearn import svm\n",
    "from matplotlib import pyplot as plt"
   ]
  },
  {
   "cell_type": "code",
   "execution_count": 23,
   "metadata": {},
   "outputs": [
    {
     "data": {
      "text/plain": [
       "(304, 2)"
      ]
     },
     "execution_count": 23,
     "metadata": {},
     "output_type": "execute_result"
    }
   ],
   "source": [
    "df = pd.read_csv(\"./Train/train.csv\")\n",
    "train_csv = df.values\n",
    "\n",
    "train_csv.shape"
   ]
  },
  {
   "cell_type": "code",
   "execution_count": 153,
   "metadata": {},
   "outputs": [
    {
     "name": "stderr",
     "output_type": "stream",
     "text": [
      "/usr/lib/python3/dist-packages/PIL/Image.py:993: UserWarning: Palette images with Transparency expressed in bytes should be converted to RGBA images\n",
      "  \"Palette images with Transparency expressed in bytes should be \"\n"
     ]
    }
   ],
   "source": [
    "img_base_path = \"./Train/Images/\"\n",
    "\n",
    "labels = {\"Pikachu\":0, \"Bulbasaur\":1, \"Charmander\":2}\n",
    "\n",
    "image_data = []\n",
    "image_labels = []\n",
    "\n",
    "\n",
    "for train_item in train_csv:\n",
    "    #print(img_path)\n",
    "    img = image.load_img(img_base_path+train_item[0], target_size=(32,32))\n",
    "    img_array = image.img_to_array(img)\n",
    "    \n",
    "    image_data.append(img_array)\n",
    "    image_labels.append(labels[train_item[1]])"
   ]
  },
  {
   "cell_type": "code",
   "execution_count": 154,
   "metadata": {},
   "outputs": [
    {
     "name": "stdout",
     "output_type": "stream",
     "text": [
      "304 304\n",
      "0 [[[146. 191. 232.]\n",
      "  [148. 191. 233.]\n",
      "  [149. 193. 232.]\n",
      "  ...\n",
      "  [154. 196. 234.]\n",
      "  [152. 196. 233.]\n",
      "  [150. 193. 235.]]\n",
      "\n",
      " [[149. 193. 232.]\n",
      "  [152. 196. 235.]\n",
      "  [152. 196. 233.]\n",
      "  ...\n",
      "  [159. 199. 235.]\n",
      "  [154. 197. 232.]\n",
      "  [152. 196. 233.]]\n",
      "\n",
      " [[149. 192. 234.]\n",
      "  [150. 194. 233.]\n",
      "  [152. 196. 233.]\n",
      "  ...\n",
      "  [160. 200. 235.]\n",
      "  [156. 199. 234.]\n",
      "  [152. 196. 233.]]\n",
      "\n",
      " ...\n",
      "\n",
      " [[ 82. 142. 212.]\n",
      "  [ 79. 139. 211.]\n",
      "  [ 79. 137. 210.]\n",
      "  ...\n",
      "  [ 74. 133. 209.]\n",
      "  [ 74. 133. 209.]\n",
      "  [ 74. 133. 209.]]\n",
      "\n",
      " [[ 82. 140. 213.]\n",
      "  [ 79. 137. 211.]\n",
      "  [ 76. 136. 209.]\n",
      "  ...\n",
      "  [ 74. 133. 209.]\n",
      "  [ 74. 133. 209.]\n",
      "  [ 74. 133. 209.]]\n",
      "\n",
      " [[ 80. 140. 212.]\n",
      "  [ 78. 138. 211.]\n",
      "  [ 76. 136. 209.]\n",
      "  ...\n",
      "  [ 76. 136. 209.]\n",
      "  [ 77. 137. 210.]\n",
      "  [ 78. 136. 210.]]]\n"
     ]
    }
   ],
   "source": [
    "print(len(image_data), len(image_labels))\n",
    "print(image_labels[0], image_data[0])"
   ]
  },
  {
   "cell_type": "code",
   "execution_count": 155,
   "metadata": {},
   "outputs": [
    {
     "name": "stdout",
     "output_type": "stream",
     "text": [
      "(304, 32, 32, 3) (304,)\n"
     ]
    }
   ],
   "source": [
    "X = np.array(image_data, dtype=\"float32\")/255.0\n",
    "Y = np.array(image_labels)\n",
    "\n",
    "print(X.shape, Y.shape)"
   ]
  },
  {
   "cell_type": "code",
   "execution_count": 156,
   "metadata": {},
   "outputs": [],
   "source": [
    "combined = list(zip(X, Y))\n",
    "random.shuffle(combined)\n",
    "\n",
    "X[:], Y[:] = zip(*combined)"
   ]
  },
  {
   "cell_type": "code",
   "execution_count": 157,
   "metadata": {},
   "outputs": [
    {
     "name": "stdout",
     "output_type": "stream",
     "text": [
      "(304, 3072) (304,)\n"
     ]
    }
   ],
   "source": [
    "m = X.shape[0]\n",
    "X = X.reshape(m,-1)\n",
    "print(X.shape, Y.shape)"
   ]
  },
  {
   "cell_type": "code",
   "execution_count": 158,
   "metadata": {},
   "outputs": [
    {
     "data": {
      "text/plain": [
       "0.7138157894736842"
      ]
     },
     "execution_count": 158,
     "metadata": {},
     "output_type": "execute_result"
    }
   ],
   "source": [
    "svm_classifier = svm.SVC(kernel=\"linear\", C=1.0)\n",
    "\n",
    "svm_classifier.fit(X, Y)\n",
    "svm_classifier.score(X, Y)"
   ]
  },
  {
   "cell_type": "code",
   "execution_count": 159,
   "metadata": {},
   "outputs": [
    {
     "data": {
      "text/plain": [
       "(123, 1)"
      ]
     },
     "execution_count": 159,
     "metadata": {},
     "output_type": "execute_result"
    }
   ],
   "source": [
    "dft = pd.read_csv(\"./Test/test.csv\")\n",
    "test_csv = dft.values\n",
    "\n",
    "test_csv.shape"
   ]
  },
  {
   "cell_type": "code",
   "execution_count": 160,
   "metadata": {},
   "outputs": [],
   "source": [
    "img_base_path_t = \"./Test/Images/\"\n",
    "\n",
    "image_data_t = []\n",
    "\n",
    "for test_item in test_csv:\n",
    "    img = image.load_img(img_base_path_t+test_item[0], target_size=(32,32))\n",
    "    img_array = image.img_to_array(img)\n",
    "    \n",
    "    image_data_t.append(img_array)"
   ]
  },
  {
   "cell_type": "code",
   "execution_count": 161,
   "metadata": {},
   "outputs": [
    {
     "name": "stdout",
     "output_type": "stream",
     "text": [
      "(123, 3072)\n"
     ]
    },
    {
     "data": {
      "text/plain": [
       "array([[1.        , 1.        , 1.        , ..., 1.        , 1.        ,\n",
       "        1.        ],\n",
       "       [1.        , 1.        , 1.        , ..., 1.        , 1.        ,\n",
       "        1.        ],\n",
       "       [1.        , 1.        , 1.        , ..., 1.        , 1.        ,\n",
       "        1.        ],\n",
       "       ...,\n",
       "       [0.8509804 , 0.8509804 , 0.8509804 , ..., 0.8509804 , 0.8509804 ,\n",
       "        0.8509804 ],\n",
       "       [0.1882353 , 0.5019608 , 0.41960785, ..., 0.6745098 , 0.8117647 ,\n",
       "        0.34901962],\n",
       "       [0.42745098, 0.42745098, 0.42745098, ..., 0.05882353, 0.05882353,\n",
       "        0.05882353]], dtype=float32)"
      ]
     },
     "execution_count": 161,
     "metadata": {},
     "output_type": "execute_result"
    }
   ],
   "source": [
    "X_ = np.array(image_data_t, dtype=\"float32\")/255.0\n",
    "X_ = X_.reshape(X_.shape[0],-1)\n",
    "print(X_.shape)\n",
    "X_"
   ]
  },
  {
   "cell_type": "code",
   "execution_count": 162,
   "metadata": {},
   "outputs": [],
   "source": [
    "Y_ = svm_classifier.predict(X_)"
   ]
  },
  {
   "cell_type": "code",
   "execution_count": 163,
   "metadata": {},
   "outputs": [
    {
     "name": "stdout",
     "output_type": "stream",
     "text": [
      "(123,)\n",
      "[1. 1. 1. ... 1. 1. 1.] 2\n"
     ]
    }
   ],
   "source": [
    "print(Y_.shape)\n",
    "print(X_[1], Y_[1])"
   ]
  },
  {
   "cell_type": "code",
   "execution_count": null,
   "metadata": {},
   "outputs": [],
   "source": []
  },
  {
   "cell_type": "code",
   "execution_count": 164,
   "metadata": {},
   "outputs": [
    {
     "data": {
      "text/plain": [
       "'Pikachu'"
      ]
     },
     "execution_count": 164,
     "metadata": {},
     "output_type": "execute_result"
    }
   ],
   "source": [
    "list(labels.keys())[list(labels.values()).index(0)]"
   ]
  },
  {
   "cell_type": "code",
   "execution_count": 165,
   "metadata": {},
   "outputs": [
    {
     "name": "stdout",
     "output_type": "stream",
     "text": [
      "Bulbasaur 1\n",
      "Charmander 2\n",
      "Bulbasaur 1\n",
      "Pikachu 0\n",
      "Charmander 2\n",
      "Pikachu 0\n",
      "Charmander 2\n",
      "Pikachu 0\n",
      "Bulbasaur 1\n",
      "Charmander 2\n",
      "Bulbasaur 1\n",
      "Bulbasaur 1\n",
      "Bulbasaur 1\n",
      "Bulbasaur 1\n",
      "Bulbasaur 1\n",
      "Bulbasaur 1\n",
      "Charmander 2\n",
      "Charmander 2\n",
      "Charmander 2\n",
      "Charmander 2\n",
      "Pikachu 0\n",
      "Bulbasaur 1\n",
      "Charmander 2\n",
      "Bulbasaur 1\n",
      "Pikachu 0\n",
      "Charmander 2\n",
      "Bulbasaur 1\n",
      "Bulbasaur 1\n",
      "Pikachu 0\n",
      "Pikachu 0\n",
      "Pikachu 0\n",
      "Charmander 2\n",
      "Charmander 2\n",
      "Pikachu 0\n",
      "Pikachu 0\n",
      "Bulbasaur 1\n",
      "Bulbasaur 1\n",
      "Bulbasaur 1\n",
      "Charmander 2\n",
      "Bulbasaur 1\n",
      "Bulbasaur 1\n",
      "Charmander 2\n",
      "Charmander 2\n",
      "Charmander 2\n",
      "Charmander 2\n",
      "Bulbasaur 1\n",
      "Charmander 2\n",
      "Bulbasaur 1\n",
      "Charmander 2\n",
      "Charmander 2\n",
      "Pikachu 0\n",
      "Charmander 2\n",
      "Charmander 2\n",
      "Bulbasaur 1\n",
      "Charmander 2\n",
      "Bulbasaur 1\n",
      "Charmander 2\n",
      "Pikachu 0\n",
      "Pikachu 0\n",
      "Charmander 2\n",
      "Charmander 2\n",
      "Pikachu 0\n",
      "Charmander 2\n",
      "Pikachu 0\n",
      "Charmander 2\n",
      "Charmander 2\n",
      "Pikachu 0\n",
      "Pikachu 0\n",
      "Charmander 2\n",
      "Pikachu 0\n",
      "Pikachu 0\n",
      "Bulbasaur 1\n",
      "Pikachu 0\n",
      "Pikachu 0\n",
      "Charmander 2\n",
      "Charmander 2\n",
      "Charmander 2\n",
      "Charmander 2\n",
      "Charmander 2\n",
      "Bulbasaur 1\n",
      "Pikachu 0\n",
      "Bulbasaur 1\n",
      "Charmander 2\n",
      "Bulbasaur 1\n",
      "Charmander 2\n",
      "Bulbasaur 1\n",
      "Bulbasaur 1\n",
      "Charmander 2\n",
      "Charmander 2\n",
      "Bulbasaur 1\n",
      "Pikachu 0\n",
      "Charmander 2\n",
      "Pikachu 0\n",
      "Pikachu 0\n",
      "Pikachu 0\n",
      "Charmander 2\n",
      "Pikachu 0\n",
      "Bulbasaur 1\n",
      "Charmander 2\n",
      "Charmander 2\n",
      "Bulbasaur 1\n",
      "Bulbasaur 1\n",
      "Charmander 2\n",
      "Pikachu 0\n",
      "Charmander 2\n",
      "Pikachu 0\n",
      "Charmander 2\n",
      "Pikachu 0\n",
      "Charmander 2\n",
      "Bulbasaur 1\n",
      "Charmander 2\n",
      "Charmander 2\n",
      "Pikachu 0\n",
      "Charmander 2\n",
      "Charmander 2\n",
      "Pikachu 0\n",
      "Pikachu 0\n",
      "Pikachu 0\n",
      "Bulbasaur 1\n",
      "Pikachu 0\n",
      "Charmander 2\n",
      "Pikachu 0\n",
      "Pikachu 0\n"
     ]
    }
   ],
   "source": [
    "with open(\"./output_pokemon.csv\", \"w\") as f:\n",
    "    for i in range(Y_.shape[0]):\n",
    "        print(list(labels.keys())[list(labels.values()).index(Y_[i])], Y_[i])\n",
    "        s = str(test_csv[i][0])+\",\"+list(labels.keys())[list(labels.values()).index(Y_[i])]+\"\\n\"\n",
    "        f.write(s)"
   ]
  },
  {
   "cell_type": "code",
   "execution_count": null,
   "metadata": {},
   "outputs": [],
   "source": []
  }
 ],
 "metadata": {
  "kernelspec": {
   "display_name": "Python 3",
   "language": "python",
   "name": "python3"
  },
  "language_info": {
   "codemirror_mode": {
    "name": "ipython",
    "version": 3
   },
   "file_extension": ".py",
   "mimetype": "text/x-python",
   "name": "python",
   "nbconvert_exporter": "python",
   "pygments_lexer": "ipython3",
   "version": "3.7.5"
  }
 },
 "nbformat": 4,
 "nbformat_minor": 4
}
