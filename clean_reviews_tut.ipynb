{
 "cells": [
  {
   "cell_type": "code",
   "execution_count": 2,
   "metadata": {},
   "outputs": [],
   "source": [
    "#### create a nlp pipelineto clean reviews data\n",
    "# load input file and read data\n",
    "# tokenize\n",
    "# remove stopwords\n",
    "# perform stemming\n",
    "# write cleaned data to output file"
   ]
  },
  {
   "cell_type": "code",
   "execution_count": 4,
   "metadata": {},
   "outputs": [],
   "source": [
    "sample_text = \"\"\"I loved this movie since I was 7 and I saw it on the opening day. It was so touching and beautiful. I strongly recommend seeing for all. It's a movie to watch with your family by far.<br /><br />My MPAA rating: PG-13 for thematic elements, prolonged scenes of disastor, nudity/sexuality and some language.\n",
    "First things first, Edison Chen did a fantastic, believable job as a Cambodian hit-man, born and bred in the dumps and a gladiatorial ring, where he honed his craft of savage battery in order to survive, living on the mantra of kill or be killed. In a role that had little dialogue, or at least a few lines in Cambodian/Thai, his performance is compelling, probably what should have been in the Jet Li vehicle Danny the Dog, where a man is bred for the sole purpose of fighting, and on someone else's leash.<br /><br />Like Danny the Dog, the much talked about bare knuckle fight sequences are not choreographed stylistically, but rather designed as normal, brutal fisticuffs, where everything goes. This probably brought a sense of realism and grit when you see the characters slug it out at each other's throats, in defending their own lives while taking it away from others. It's a grim, gritty and dark movie both literally and figuratively, and this sets it apart from the usual run off the mill cop thriller production.<br /><br />Edison plays a hired gun from Cambodia, who becomes a fugitive in Hong Kong, on the run from the cops as his pickup had gone awry. Leading the chase is the team led by Cheung Siu-Fai, who has to contend with maverick member Inspector Ti (Sam Lee), who's inclusion and acceptance in the team had to do with the sins of his father. So begins a cat and mouse game in the dark shades and shadows of the seedier looking side of Hong Kong.<br /><br />The story itself works on multiple levels, especially in the character studies of the hit-man, and the cop. On opposite sides of the law, we see within each character not the black and white, but the shades of grey. With the hit-man, we see his caring side when he got hooked up and developed feelings of love for a girl (Pei Pei), bringing about a sense of maturity, tenderness, and revealing a heart of gold. The cop, with questionable tactics and attitudes, makes you wonder how one would buckle when willing to do anything it takes to get the job done. There are many interesting moments of moral questioning, on how anti-hero, despicable strategies are adopted. You'll ask, what makes a man, and what makes a beast, and if we have the tendency to switch sides depending on circumstances - do we have that dark inner streak in all of us, transforming from man to dog, and dog to man? Dog Bite Dog grips you from the start and never lets go until the end, though there are points mid way through that seemed to drag, especially on its tender moments, and it suffered too from not knowing when to end. If I should pick a favourite scene, then it must be the one in the market food centre - extremely well controlled and delivered, a suspenseful edge of your seat moment. Listen out for the musical score too, and you're not dreaming if you hear growls of dogs.<br /><br />Highly recommended, especially if you think that you've seen about almost everything from the cop thriller genre.\n",
    "Once again, I was browsing through the discount video bin and picked up this movie for $4.88. Fifty-percent of the time the movies I find in the bin are pure crap (I mean horrible beyond belief) but half the time they turn out to be surprisingly good. This movie is much better than I expected. I found it very engaging, though it was obviously made by an amateur.<br /><br /> The direction is nothing special, but the story is intriguing with some good thrills. I expected it to be more of a comedy, but I wasn't too disappointed.<br /><br /> For a thriller, this movie is surprisingly good-natured. There's no bloody violence, no profanity, no nudity, no sex. Usually, these movies require all four of those elements. The PG rating is well-deserved--not like \"Sixteen Candles\" where the \"f\" word is used twice and there's a brief gratuitous nude scene.<br /><br /> I just wish the romance between Corey Haim and his love interest could've been developed more. The film does tend to be plot-heavy, and the potentially good subplots are pushed off to the side. Instead of developing a chemistry between the two of them, we end up watching a careless three-minute montage of them on their romantic endeavors. They end up kissing at the end, but there's so little chemistry that it seems forced.<br /><br />\"The Dream Machine\" is no gem, but it's good, clean entertainment. It's quite forgettable--especially with a cast of unknowns, except for Haim--but it's also much better than you'd expect.<br /><br /> My score: 7 (out of 10)\"\"\""
   ]
  },
  {
   "cell_type": "code",
   "execution_count": 8,
   "metadata": {},
   "outputs": [],
   "source": [
    "from nltk.tokenize import RegexpTokenizer\n",
    "from nltk.stem.porter import PorterStemmer\n",
    "from nltk.corpus import stopwords"
   ]
  },
  {
   "cell_type": "code",
   "execution_count": 12,
   "metadata": {},
   "outputs": [],
   "source": [
    "tokenizer = RegexpTokenizer(r'\\w+')\n",
    "en_stopwords = set(stopwords.words(\"english\"))\n",
    "ps = PorterStemmer()"
   ]
  },
  {
   "cell_type": "code",
   "execution_count": 18,
   "metadata": {},
   "outputs": [],
   "source": [
    "def getStemmedReview(review):\n",
    "    review = review.lower()\n",
    "    review = review.replace(\"<br></br>\", \" \")\n",
    "    \n",
    "    #tokenize\n",
    "    tokens = tokenizer.tokenize(review)\n",
    "    new_tokens = (token for token in tokens if token not in en_stopwords)\n",
    "    \n",
    "    stemmed_tokens = (ps.stem(token) for token in new_tokens)\n",
    "    \n",
    "    cleaned_review = \" \".join(stemmed_tokens)\n",
    "    \n",
    "    return cleaned_review"
   ]
  },
  {
   "cell_type": "code",
   "execution_count": 22,
   "metadata": {},
   "outputs": [
    {
     "data": {
      "text/plain": [
       "'love movi sinc 7 saw open day touch beauti strongli recommend see movi watch famili far br br mpaa rate pg 13 themat element prolong scene disastor nuditi sexual languag first thing first edison chen fantast believ job cambodian hit man born bred dump gladiatori ring hone craft savag batteri order surviv live mantra kill kill role littl dialogu least line cambodian thai perform compel probabl jet li vehicl danni dog man bred sole purpos fight someon els leash br br like danni dog much talk bare knuckl fight sequenc choreograph stylist rather design normal brutal fisticuff everyth goe probabl brought sens realism grit see charact slug throat defend live take away other grim gritti dark movi liter figur set apart usual run mill cop thriller product br br edison play hire gun cambodia becom fugit hong kong run cop pickup gone awri lead chase team led cheung siu fai contend maverick member inspector ti sam lee inclus accept team sin father begin cat mous game dark shade shadow seedier look side hong kong br br stori work multipl level especi charact studi hit man cop opposit side law see within charact black white shade grey hit man see care side got hook develop feel love girl pei pei bring sens matur tender reveal heart gold cop question tactic attitud make wonder one would buckl will anyth take get job done mani interest moment moral question anti hero despic strategi adopt ask make man make beast tendenc switch side depend circumst dark inner streak us transform man dog dog man dog bite dog grip start never let go end though point mid way seem drag especi tender moment suffer know end pick favourit scene must one market food centr extrem well control deliv suspens edg seat moment listen music score dream hear growl dog br br highli recommend especi think seen almost everyth cop thriller genr brows discount video bin pick movi 4 88 fifti percent time movi find bin pure crap mean horribl beyond belief half time turn surprisingli good movi much better expect found engag though obvious made amateur br br direct noth special stori intrigu good thrill expect comedi disappoint br br thriller movi surprisingli good natur bloodi violenc profan nuditi sex usual movi requir four element pg rate well deserv like sixteen candl f word use twice brief gratuit nude scene br br wish romanc corey haim love interest could develop film tend plot heavi potenti good subplot push side instead develop chemistri two end watch careless three minut montag romant endeavor end kiss end littl chemistri seem forc br br dream machin gem good clean entertain quit forgett especi cast unknown except haim also much better expect br br score 7 10'"
      ]
     },
     "execution_count": 22,
     "metadata": {},
     "output_type": "execute_result"
    }
   ],
   "source": [
    "getStemmedReview(sample_text)"
   ]
  },
  {
   "cell_type": "code",
   "execution_count": 20,
   "metadata": {},
   "outputs": [],
   "source": [
    "def getStemmedDocument(inputFile, outputFile):\n",
    "    output = open(outputFile, 'w', encoding=\"utf8\")\n",
    "    \n",
    "    with open(inputFile, encoding=\"utf8\") as f:\n",
    "        reviews = f.readlines()\n",
    "        \n",
    "    i = 0\n",
    "    for review in reviews:\n",
    "        cleaned_review = getStemmedReview(review)\n",
    "        print((cleaned_review), file=output)\n",
    "        i += 1\n",
    "        if(i == 2): break\n",
    "        \n",
    "    output.close()\n",
    "    \n"
   ]
  },
  {
   "cell_type": "code",
   "execution_count": 21,
   "metadata": {},
   "outputs": [],
   "source": [
    "getStemmedDocument(\"./imdb_trainX.txt\", \"./output.txt\")"
   ]
  },
  {
   "cell_type": "code",
   "execution_count": null,
   "metadata": {},
   "outputs": [],
   "source": []
  }
 ],
 "metadata": {
  "kernelspec": {
   "display_name": "Python 3",
   "language": "python",
   "name": "python3"
  },
  "language_info": {
   "codemirror_mode": {
    "name": "ipython",
    "version": 3
   },
   "file_extension": ".py",
   "mimetype": "text/x-python",
   "name": "python",
   "nbconvert_exporter": "python",
   "pygments_lexer": "ipython3",
   "version": "3.7.5"
  }
 },
 "nbformat": 4,
 "nbformat_minor": 4
}
