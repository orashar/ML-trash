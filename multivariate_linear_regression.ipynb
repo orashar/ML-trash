{
 "cells": [
  {
   "cell_type": "code",
   "execution_count": 44,
   "metadata": {},
   "outputs": [],
   "source": [
    "import numpy as np\n",
    "import matplotlib.pyplot as plt"
   ]
  },
  {
   "cell_type": "code",
   "execution_count": 45,
   "metadata": {},
   "outputs": [],
   "source": [
    "# step -1\n",
    "def initialize_parameters(lenw):\n",
    "    w = np.random.randn(1,lenw)\n",
    "    b = 0\n",
    "    return w,b"
   ]
  },
  {
   "cell_type": "code",
   "execution_count": 46,
   "metadata": {},
   "outputs": [],
   "source": [
    "# step -2\n",
    "def forward_prop(X, w, b):\n",
    "    z = np.dot(w,X) + b\n",
    "    return z"
   ]
  },
  {
   "cell_type": "code",
   "execution_count": 47,
   "metadata": {},
   "outputs": [],
   "source": [
    "# step -3\n",
    "def cost_function(z, y):\n",
    "    m = y.shape[1]\n",
    "    J = (1/(2*m))*np.sum(np.square(z-y))\n",
    "    return J"
   ]
  },
  {
   "cell_type": "code",
   "execution_count": 48,
   "metadata": {},
   "outputs": [],
   "source": [
    "# step -4\n",
    "def back_prop(X, y, z):\n",
    "    m = y.shape[1]\n",
    "    dz = (1/m)*(z-y)\n",
    "    dw = np.dot(dz, X.T)\n",
    "    db = np.sum(dz)\n",
    "    return dw, db"
   ]
  },
  {
   "cell_type": "code",
   "execution_count": 49,
   "metadata": {},
   "outputs": [],
   "source": [
    "# step -5\n",
    "def gradient_descent_update(w,b,dw,db,learninig_rate):\n",
    "    w = w - learninig_rate*dw\n",
    "    b = b - learninig_rate*db\n",
    "    return w,b"
   ]
  },
  {
   "cell_type": "code",
   "execution_count": 71,
   "metadata": {},
   "outputs": [],
   "source": [
    "# step -6\n",
    "def linear_regression_model(x_train, y_train, x_val, y_val, learning_rate, epochs):\n",
    "    lenw = x_train.shape[0]\n",
    "    w,b = initialize_parameters(lenw)\n",
    "\n",
    "    costs_train = []\n",
    "    m_train = y_train.shape[1]\n",
    "    m_val = y_val.shape[1]\n",
    "\n",
    "    for i in range(1,epochs+1):\n",
    "        z_train = forward_prop(x_train, w, b)\n",
    "        cost_train = cost_function(z_train, y_train)\n",
    "        dw, db = back_prop(x_train, y_train, z_train)\n",
    "        w,b = gradient_descent_update(w,b,dw, db, learning_rate)\n",
    "\n",
    "        # store learning cost in a list for plotting purpose\n",
    "        if i%10 == 0:\n",
    "            costs_train.append(cost_train)\n",
    "\n",
    "        # MAE_train\n",
    "        MAE_train = (1/m_train)*np.sum(np.abs(z_train, y_train))\n",
    "\n",
    "        # cost_val, MAE_val\n",
    "        z_val = forward_prop(x_val, w, b)\n",
    "        cost_val = cost_function(z_val, y_val)\n",
    "        MAE_val = (1/m_val)*np.sum(np.abs(z_val, y_val))\n",
    "\n",
    "        #print out cost_train, cost_val, MAE_train, MAE_val\n",
    "        print(\"Epochs \", i, \"/\", epochs, \" :\")\n",
    "        print(\"Training cost = \", cost_train, \" | validation cost = \", cost_val)\n",
    "        print(\"Training MAE = \", MAE_train, \" | Valdation MAE = \", MAE_val)\n",
    "\n",
    "    plt.plot(costs_train)\n",
    "    plt.show()"
   ]
  },
  {
   "cell_type": "markdown",
   "metadata": {},
   "source": [
    "# Testing on Boston Dataset"
   ]
  },
  {
   "cell_type": "code",
   "execution_count": 51,
   "metadata": {},
   "outputs": [],
   "source": [
    "import pandas as pd\n",
    "from sklearn.datasets import load_boston\n",
    "from sklearn.model_selection import train_test_split"
   ]
  },
  {
   "cell_type": "code",
   "execution_count": 52,
   "metadata": {},
   "outputs": [],
   "source": [
    "boston = load_boston()"
   ]
  },
  {
   "cell_type": "code",
   "execution_count": 53,
   "metadata": {},
   "outputs": [
    {
     "output_type": "execute_result",
     "data": {
      "text/plain": "array(['CRIM', 'ZN', 'INDUS', 'CHAS', 'NOX', 'RM', 'AGE', 'DIS', 'RAD',\n       'TAX', 'PTRATIO', 'B', 'LSTAT'], dtype='<U7')"
     },
     "metadata": {},
     "execution_count": 53
    }
   ],
   "source": [
    "boston['feature_names']"
   ]
  },
  {
   "cell_type": "code",
   "execution_count": 54,
   "metadata": {},
   "outputs": [
    {
     "output_type": "execute_result",
     "data": {
      "text/plain": "(506, 13)"
     },
     "metadata": {},
     "execution_count": 54
    }
   ],
   "source": [
    "boston['data'].shape"
   ]
  },
  {
   "cell_type": "code",
   "execution_count": 55,
   "metadata": {},
   "outputs": [],
   "source": [
    "bost = pd.DataFrame(boston['data'], columns=boston['feature_names'])"
   ]
  },
  {
   "cell_type": "code",
   "execution_count": 56,
   "metadata": {},
   "outputs": [
    {
     "output_type": "execute_result",
     "data": {
      "text/plain": "      CRIM    ZN  INDUS  CHAS    NOX     RM   AGE     DIS  RAD    TAX  \\\n0  0.00632  18.0   2.31   0.0  0.538  6.575  65.2  4.0900  1.0  296.0   \n1  0.02731   0.0   7.07   0.0  0.469  6.421  78.9  4.9671  2.0  242.0   \n2  0.02729   0.0   7.07   0.0  0.469  7.185  61.1  4.9671  2.0  242.0   \n3  0.03237   0.0   2.18   0.0  0.458  6.998  45.8  6.0622  3.0  222.0   \n4  0.06905   0.0   2.18   0.0  0.458  7.147  54.2  6.0622  3.0  222.0   \n\n   PTRATIO       B  LSTAT  \n0     15.3  396.90   4.98  \n1     17.8  396.90   9.14  \n2     17.8  392.83   4.03  \n3     18.7  394.63   2.94  \n4     18.7  396.90   5.33  ",
      "text/html": "<div>\n<style scoped>\n    .dataframe tbody tr th:only-of-type {\n        vertical-align: middle;\n    }\n\n    .dataframe tbody tr th {\n        vertical-align: top;\n    }\n\n    .dataframe thead th {\n        text-align: right;\n    }\n</style>\n<table border=\"1\" class=\"dataframe\">\n  <thead>\n    <tr style=\"text-align: right;\">\n      <th></th>\n      <th>CRIM</th>\n      <th>ZN</th>\n      <th>INDUS</th>\n      <th>CHAS</th>\n      <th>NOX</th>\n      <th>RM</th>\n      <th>AGE</th>\n      <th>DIS</th>\n      <th>RAD</th>\n      <th>TAX</th>\n      <th>PTRATIO</th>\n      <th>B</th>\n      <th>LSTAT</th>\n    </tr>\n  </thead>\n  <tbody>\n    <tr>\n      <th>0</th>\n      <td>0.00632</td>\n      <td>18.0</td>\n      <td>2.31</td>\n      <td>0.0</td>\n      <td>0.538</td>\n      <td>6.575</td>\n      <td>65.2</td>\n      <td>4.0900</td>\n      <td>1.0</td>\n      <td>296.0</td>\n      <td>15.3</td>\n      <td>396.90</td>\n      <td>4.98</td>\n    </tr>\n    <tr>\n      <th>1</th>\n      <td>0.02731</td>\n      <td>0.0</td>\n      <td>7.07</td>\n      <td>0.0</td>\n      <td>0.469</td>\n      <td>6.421</td>\n      <td>78.9</td>\n      <td>4.9671</td>\n      <td>2.0</td>\n      <td>242.0</td>\n      <td>17.8</td>\n      <td>396.90</td>\n      <td>9.14</td>\n    </tr>\n    <tr>\n      <th>2</th>\n      <td>0.02729</td>\n      <td>0.0</td>\n      <td>7.07</td>\n      <td>0.0</td>\n      <td>0.469</td>\n      <td>7.185</td>\n      <td>61.1</td>\n      <td>4.9671</td>\n      <td>2.0</td>\n      <td>242.0</td>\n      <td>17.8</td>\n      <td>392.83</td>\n      <td>4.03</td>\n    </tr>\n    <tr>\n      <th>3</th>\n      <td>0.03237</td>\n      <td>0.0</td>\n      <td>2.18</td>\n      <td>0.0</td>\n      <td>0.458</td>\n      <td>6.998</td>\n      <td>45.8</td>\n      <td>6.0622</td>\n      <td>3.0</td>\n      <td>222.0</td>\n      <td>18.7</td>\n      <td>394.63</td>\n      <td>2.94</td>\n    </tr>\n    <tr>\n      <th>4</th>\n      <td>0.06905</td>\n      <td>0.0</td>\n      <td>2.18</td>\n      <td>0.0</td>\n      <td>0.458</td>\n      <td>7.147</td>\n      <td>54.2</td>\n      <td>6.0622</td>\n      <td>3.0</td>\n      <td>222.0</td>\n      <td>18.7</td>\n      <td>396.90</td>\n      <td>5.33</td>\n    </tr>\n  </tbody>\n</table>\n</div>"
     },
     "metadata": {},
     "execution_count": 56
    }
   ],
   "source": [
    "bost.head()"
   ]
  },
  {
   "cell_type": "code",
   "execution_count": 57,
   "metadata": {},
   "outputs": [
    {
     "output_type": "execute_result",
     "data": {
      "text/plain": "array([24. , 21.6, 34.7, 33.4, 36.2, 28.7, 22.9, 27.1, 16.5, 18.9, 15. ,\n       18.9, 21.7, 20.4, 18.2, 19.9, 23.1, 17.5, 20.2, 18.2, 13.6, 19.6,\n       15.2, 14.5, 15.6, 13.9, 16.6, 14.8, 18.4, 21. , 12.7, 14.5, 13.2,\n       13.1, 13.5, 18.9, 20. , 21. , 24.7, 30.8, 34.9, 26.6, 25.3, 24.7,\n       21.2, 19.3, 20. , 16.6, 14.4, 19.4, 19.7, 20.5, 25. , 23.4, 18.9,\n       35.4, 24.7, 31.6, 23.3, 19.6, 18.7, 16. , 22.2, 25. , 33. , 23.5,\n       19.4, 22. , 17.4, 20.9, 24.2, 21.7, 22.8, 23.4, 24.1, 21.4, 20. ,\n       20.8, 21.2, 20.3, 28. , 23.9, 24.8, 22.9, 23.9, 26.6, 22.5, 22.2,\n       23.6, 28.7, 22.6, 22. , 22.9, 25. , 20.6, 28.4, 21.4, 38.7, 43.8,\n       33.2, 27.5, 26.5, 18.6, 19.3, 20.1, 19.5, 19.5, 20.4, 19.8, 19.4,\n       21.7, 22.8, 18.8, 18.7, 18.5, 18.3, 21.2, 19.2, 20.4, 19.3, 22. ,\n       20.3, 20.5, 17.3, 18.8, 21.4, 15.7, 16.2, 18. , 14.3, 19.2, 19.6,\n       23. , 18.4, 15.6, 18.1, 17.4, 17.1, 13.3, 17.8, 14. , 14.4, 13.4,\n       15.6, 11.8, 13.8, 15.6, 14.6, 17.8, 15.4, 21.5, 19.6, 15.3, 19.4,\n       17. , 15.6, 13.1, 41.3, 24.3, 23.3, 27. , 50. , 50. , 50. , 22.7,\n       25. , 50. , 23.8, 23.8, 22.3, 17.4, 19.1, 23.1, 23.6, 22.6, 29.4,\n       23.2, 24.6, 29.9, 37.2, 39.8, 36.2, 37.9, 32.5, 26.4, 29.6, 50. ,\n       32. , 29.8, 34.9, 37. , 30.5, 36.4, 31.1, 29.1, 50. , 33.3, 30.3,\n       34.6, 34.9, 32.9, 24.1, 42.3, 48.5, 50. , 22.6, 24.4, 22.5, 24.4,\n       20. , 21.7, 19.3, 22.4, 28.1, 23.7, 25. , 23.3, 28.7, 21.5, 23. ,\n       26.7, 21.7, 27.5, 30.1, 44.8, 50. , 37.6, 31.6, 46.7, 31.5, 24.3,\n       31.7, 41.7, 48.3, 29. , 24. , 25.1, 31.5, 23.7, 23.3, 22. , 20.1,\n       22.2, 23.7, 17.6, 18.5, 24.3, 20.5, 24.5, 26.2, 24.4, 24.8, 29.6,\n       42.8, 21.9, 20.9, 44. , 50. , 36. , 30.1, 33.8, 43.1, 48.8, 31. ,\n       36.5, 22.8, 30.7, 50. , 43.5, 20.7, 21.1, 25.2, 24.4, 35.2, 32.4,\n       32. , 33.2, 33.1, 29.1, 35.1, 45.4, 35.4, 46. , 50. , 32.2, 22. ,\n       20.1, 23.2, 22.3, 24.8, 28.5, 37.3, 27.9, 23.9, 21.7, 28.6, 27.1,\n       20.3, 22.5, 29. , 24.8, 22. , 26.4, 33.1, 36.1, 28.4, 33.4, 28.2,\n       22.8, 20.3, 16.1, 22.1, 19.4, 21.6, 23.8, 16.2, 17.8, 19.8, 23.1,\n       21. , 23.8, 23.1, 20.4, 18.5, 25. , 24.6, 23. , 22.2, 19.3, 22.6,\n       19.8, 17.1, 19.4, 22.2, 20.7, 21.1, 19.5, 18.5, 20.6, 19. , 18.7,\n       32.7, 16.5, 23.9, 31.2, 17.5, 17.2, 23.1, 24.5, 26.6, 22.9, 24.1,\n       18.6, 30.1, 18.2, 20.6, 17.8, 21.7, 22.7, 22.6, 25. , 19.9, 20.8,\n       16.8, 21.9, 27.5, 21.9, 23.1, 50. , 50. , 50. , 50. , 50. , 13.8,\n       13.8, 15. , 13.9, 13.3, 13.1, 10.2, 10.4, 10.9, 11.3, 12.3,  8.8,\n        7.2, 10.5,  7.4, 10.2, 11.5, 15.1, 23.2,  9.7, 13.8, 12.7, 13.1,\n       12.5,  8.5,  5. ,  6.3,  5.6,  7.2, 12.1,  8.3,  8.5,  5. , 11.9,\n       27.9, 17.2, 27.5, 15. , 17.2, 17.9, 16.3,  7. ,  7.2,  7.5, 10.4,\n        8.8,  8.4, 16.7, 14.2, 20.8, 13.4, 11.7,  8.3, 10.2, 10.9, 11. ,\n        9.5, 14.5, 14.1, 16.1, 14.3, 11.7, 13.4,  9.6,  8.7,  8.4, 12.8,\n       10.5, 17.1, 18.4, 15.4, 10.8, 11.8, 14.9, 12.6, 14.1, 13. , 13.4,\n       15.2, 16.1, 17.8, 14.9, 14.1, 12.7, 13.5, 14.9, 20. , 16.4, 17.7,\n       19.5, 20.2, 21.4, 19.9, 19. , 19.1, 19.1, 20.1, 19.9, 19.6, 23.2,\n       29.8, 13.8, 13.3, 16.7, 12. , 14.6, 21.4, 23. , 23.7, 25. , 21.8,\n       20.6, 21.2, 19.1, 20.6, 15.2,  7. ,  8.1, 13.6, 20.1, 21.8, 24.5,\n       23.1, 19.7, 18.3, 21.2, 17.5, 16.8, 22.4, 20.6, 23.9, 22. , 11.9])"
     },
     "metadata": {},
     "execution_count": 57
    }
   ],
   "source": [
    "boston['target']"
   ]
  },
  {
   "cell_type": "code",
   "execution_count": 58,
   "metadata": {},
   "outputs": [],
   "source": [
    "X = (bost-bost.mean())/(bost.max() - bost.min())"
   ]
  },
  {
   "cell_type": "code",
   "execution_count": 59,
   "metadata": {},
   "outputs": [
    {
     "output_type": "execute_result",
     "data": {
      "text/plain": "               CRIM            ZN         INDUS          CHAS           NOX  \\\ncount  5.060000e+02  5.060000e+02  5.060000e+02  5.060000e+02  5.060000e+02   \nmean  -7.021173e-18  7.898820e-18 -7.828608e-16 -1.579764e-17  6.389268e-16   \nstd    9.667929e-02  2.332245e-01  2.514792e-01  2.539940e-01  2.384314e-01   \nmin   -4.054410e-02 -1.136364e-01 -3.913775e-01 -6.916996e-02 -3.491668e-01   \n25%   -3.969297e-02 -1.136364e-01 -2.179904e-01 -6.916996e-02 -2.174795e-01   \n50%   -3.773202e-02 -1.136364e-01 -5.303441e-02 -6.916996e-02 -3.435197e-02   \n75%    7.143872e-04  1.136364e-02  2.552500e-01 -6.916996e-02  1.426028e-01   \nmax    9.594559e-01  8.863636e-01  6.086225e-01  9.308300e-01  6.508332e-01   \n\n                 RM           AGE           DIS         RAD           TAX  \\\ncount  5.060000e+02  5.060000e+02  5.060000e+02  506.000000  5.060000e+02   \nmean  -1.544219e-15 -3.405269e-16  1.404235e-16    0.000000  2.808469e-17   \nstd    1.346268e-01  2.898956e-01  1.914822e-01    0.378576  3.216357e-01   \nmin   -5.218690e-01 -6.763636e-01 -2.423813e-01   -0.371713 -4.222083e-01   \n25%   -7.647718e-02 -2.425325e-01 -1.541223e-01   -0.241279 -2.466358e-01   \n50%   -1.458793e-02  9.191657e-02 -5.343258e-02   -0.197800 -1.493075e-01   \n75%    6.492922e-02  2.626169e-01  1.267068e-01    0.628287  4.919138e-01   \nmax    4.781310e-01  3.236364e-01  7.576187e-01    0.628287  5.777917e-01   \n\n            PTRATIO             B         LSTAT  \ncount  5.060000e+02  5.060000e+02  5.060000e+02  \nmean  -2.341561e-15  1.976460e-15 -1.088282e-16  \nstd    2.303134e-01  2.302054e-01  1.970492e-01  \nmin   -6.229291e-01 -8.985678e-01 -3.014090e-01  \n25%   -1.122908e-01  4.716191e-02 -1.573693e-01  \n50%    6.324111e-02  8.766445e-02 -3.568055e-02  \n75%    1.855815e-01  9.973011e-02  1.187069e-01  \nmax    3.770709e-01  1.014322e-01  6.985910e-01  ",
      "text/html": "<div>\n<style scoped>\n    .dataframe tbody tr th:only-of-type {\n        vertical-align: middle;\n    }\n\n    .dataframe tbody tr th {\n        vertical-align: top;\n    }\n\n    .dataframe thead th {\n        text-align: right;\n    }\n</style>\n<table border=\"1\" class=\"dataframe\">\n  <thead>\n    <tr style=\"text-align: right;\">\n      <th></th>\n      <th>CRIM</th>\n      <th>ZN</th>\n      <th>INDUS</th>\n      <th>CHAS</th>\n      <th>NOX</th>\n      <th>RM</th>\n      <th>AGE</th>\n      <th>DIS</th>\n      <th>RAD</th>\n      <th>TAX</th>\n      <th>PTRATIO</th>\n      <th>B</th>\n      <th>LSTAT</th>\n    </tr>\n  </thead>\n  <tbody>\n    <tr>\n      <th>count</th>\n      <td>5.060000e+02</td>\n      <td>5.060000e+02</td>\n      <td>5.060000e+02</td>\n      <td>5.060000e+02</td>\n      <td>5.060000e+02</td>\n      <td>5.060000e+02</td>\n      <td>5.060000e+02</td>\n      <td>5.060000e+02</td>\n      <td>506.000000</td>\n      <td>5.060000e+02</td>\n      <td>5.060000e+02</td>\n      <td>5.060000e+02</td>\n      <td>5.060000e+02</td>\n    </tr>\n    <tr>\n      <th>mean</th>\n      <td>-7.021173e-18</td>\n      <td>7.898820e-18</td>\n      <td>-7.828608e-16</td>\n      <td>-1.579764e-17</td>\n      <td>6.389268e-16</td>\n      <td>-1.544219e-15</td>\n      <td>-3.405269e-16</td>\n      <td>1.404235e-16</td>\n      <td>0.000000</td>\n      <td>2.808469e-17</td>\n      <td>-2.341561e-15</td>\n      <td>1.976460e-15</td>\n      <td>-1.088282e-16</td>\n    </tr>\n    <tr>\n      <th>std</th>\n      <td>9.667929e-02</td>\n      <td>2.332245e-01</td>\n      <td>2.514792e-01</td>\n      <td>2.539940e-01</td>\n      <td>2.384314e-01</td>\n      <td>1.346268e-01</td>\n      <td>2.898956e-01</td>\n      <td>1.914822e-01</td>\n      <td>0.378576</td>\n      <td>3.216357e-01</td>\n      <td>2.303134e-01</td>\n      <td>2.302054e-01</td>\n      <td>1.970492e-01</td>\n    </tr>\n    <tr>\n      <th>min</th>\n      <td>-4.054410e-02</td>\n      <td>-1.136364e-01</td>\n      <td>-3.913775e-01</td>\n      <td>-6.916996e-02</td>\n      <td>-3.491668e-01</td>\n      <td>-5.218690e-01</td>\n      <td>-6.763636e-01</td>\n      <td>-2.423813e-01</td>\n      <td>-0.371713</td>\n      <td>-4.222083e-01</td>\n      <td>-6.229291e-01</td>\n      <td>-8.985678e-01</td>\n      <td>-3.014090e-01</td>\n    </tr>\n    <tr>\n      <th>25%</th>\n      <td>-3.969297e-02</td>\n      <td>-1.136364e-01</td>\n      <td>-2.179904e-01</td>\n      <td>-6.916996e-02</td>\n      <td>-2.174795e-01</td>\n      <td>-7.647718e-02</td>\n      <td>-2.425325e-01</td>\n      <td>-1.541223e-01</td>\n      <td>-0.241279</td>\n      <td>-2.466358e-01</td>\n      <td>-1.122908e-01</td>\n      <td>4.716191e-02</td>\n      <td>-1.573693e-01</td>\n    </tr>\n    <tr>\n      <th>50%</th>\n      <td>-3.773202e-02</td>\n      <td>-1.136364e-01</td>\n      <td>-5.303441e-02</td>\n      <td>-6.916996e-02</td>\n      <td>-3.435197e-02</td>\n      <td>-1.458793e-02</td>\n      <td>9.191657e-02</td>\n      <td>-5.343258e-02</td>\n      <td>-0.197800</td>\n      <td>-1.493075e-01</td>\n      <td>6.324111e-02</td>\n      <td>8.766445e-02</td>\n      <td>-3.568055e-02</td>\n    </tr>\n    <tr>\n      <th>75%</th>\n      <td>7.143872e-04</td>\n      <td>1.136364e-02</td>\n      <td>2.552500e-01</td>\n      <td>-6.916996e-02</td>\n      <td>1.426028e-01</td>\n      <td>6.492922e-02</td>\n      <td>2.626169e-01</td>\n      <td>1.267068e-01</td>\n      <td>0.628287</td>\n      <td>4.919138e-01</td>\n      <td>1.855815e-01</td>\n      <td>9.973011e-02</td>\n      <td>1.187069e-01</td>\n    </tr>\n    <tr>\n      <th>max</th>\n      <td>9.594559e-01</td>\n      <td>8.863636e-01</td>\n      <td>6.086225e-01</td>\n      <td>9.308300e-01</td>\n      <td>6.508332e-01</td>\n      <td>4.781310e-01</td>\n      <td>3.236364e-01</td>\n      <td>7.576187e-01</td>\n      <td>0.628287</td>\n      <td>5.777917e-01</td>\n      <td>3.770709e-01</td>\n      <td>1.014322e-01</td>\n      <td>6.985910e-01</td>\n    </tr>\n  </tbody>\n</table>\n</div>"
     },
     "metadata": {},
     "execution_count": 59
    }
   ],
   "source": [
    "X.describe()"
   ]
  },
  {
   "cell_type": "code",
   "execution_count": 60,
   "metadata": {},
   "outputs": [
    {
     "output_type": "execute_result",
     "data": {
      "text/plain": "       CRIM        ZN     INDUS     CHAS       NOX        RM       AGE  \\\n0 -0.040544  0.066364 -0.323562 -0.06917 -0.034352  0.055636 -0.034757   \n1 -0.040308 -0.113636 -0.149075 -0.06917 -0.176327  0.026129  0.106335   \n2 -0.040308 -0.113636 -0.149075 -0.06917 -0.176327  0.172517 -0.076981   \n3 -0.040251 -0.113636 -0.328328 -0.06917 -0.198961  0.136686 -0.234551   \n4 -0.039839 -0.113636 -0.328328 -0.06917 -0.198961  0.165236 -0.148042   \n\n        DIS       RAD       TAX   PTRATIO         B     LSTAT  \n0  0.026822 -0.371713 -0.214193 -0.335695  0.101432 -0.211729  \n1  0.106581 -0.328235 -0.317246 -0.069738  0.101432 -0.096939  \n2  0.106581 -0.328235 -0.317246 -0.069738  0.091169 -0.237943  \n3  0.206163 -0.284757 -0.355414  0.026007  0.095708 -0.268021  \n4  0.206163 -0.284757 -0.355414  0.026007  0.101432 -0.202071  ",
      "text/html": "<div>\n<style scoped>\n    .dataframe tbody tr th:only-of-type {\n        vertical-align: middle;\n    }\n\n    .dataframe tbody tr th {\n        vertical-align: top;\n    }\n\n    .dataframe thead th {\n        text-align: right;\n    }\n</style>\n<table border=\"1\" class=\"dataframe\">\n  <thead>\n    <tr style=\"text-align: right;\">\n      <th></th>\n      <th>CRIM</th>\n      <th>ZN</th>\n      <th>INDUS</th>\n      <th>CHAS</th>\n      <th>NOX</th>\n      <th>RM</th>\n      <th>AGE</th>\n      <th>DIS</th>\n      <th>RAD</th>\n      <th>TAX</th>\n      <th>PTRATIO</th>\n      <th>B</th>\n      <th>LSTAT</th>\n    </tr>\n  </thead>\n  <tbody>\n    <tr>\n      <th>0</th>\n      <td>-0.040544</td>\n      <td>0.066364</td>\n      <td>-0.323562</td>\n      <td>-0.06917</td>\n      <td>-0.034352</td>\n      <td>0.055636</td>\n      <td>-0.034757</td>\n      <td>0.026822</td>\n      <td>-0.371713</td>\n      <td>-0.214193</td>\n      <td>-0.335695</td>\n      <td>0.101432</td>\n      <td>-0.211729</td>\n    </tr>\n    <tr>\n      <th>1</th>\n      <td>-0.040308</td>\n      <td>-0.113636</td>\n      <td>-0.149075</td>\n      <td>-0.06917</td>\n      <td>-0.176327</td>\n      <td>0.026129</td>\n      <td>0.106335</td>\n      <td>0.106581</td>\n      <td>-0.328235</td>\n      <td>-0.317246</td>\n      <td>-0.069738</td>\n      <td>0.101432</td>\n      <td>-0.096939</td>\n    </tr>\n    <tr>\n      <th>2</th>\n      <td>-0.040308</td>\n      <td>-0.113636</td>\n      <td>-0.149075</td>\n      <td>-0.06917</td>\n      <td>-0.176327</td>\n      <td>0.172517</td>\n      <td>-0.076981</td>\n      <td>0.106581</td>\n      <td>-0.328235</td>\n      <td>-0.317246</td>\n      <td>-0.069738</td>\n      <td>0.091169</td>\n      <td>-0.237943</td>\n    </tr>\n    <tr>\n      <th>3</th>\n      <td>-0.040251</td>\n      <td>-0.113636</td>\n      <td>-0.328328</td>\n      <td>-0.06917</td>\n      <td>-0.198961</td>\n      <td>0.136686</td>\n      <td>-0.234551</td>\n      <td>0.206163</td>\n      <td>-0.284757</td>\n      <td>-0.355414</td>\n      <td>0.026007</td>\n      <td>0.095708</td>\n      <td>-0.268021</td>\n    </tr>\n    <tr>\n      <th>4</th>\n      <td>-0.039839</td>\n      <td>-0.113636</td>\n      <td>-0.328328</td>\n      <td>-0.06917</td>\n      <td>-0.198961</td>\n      <td>0.165236</td>\n      <td>-0.148042</td>\n      <td>0.206163</td>\n      <td>-0.284757</td>\n      <td>-0.355414</td>\n      <td>0.026007</td>\n      <td>0.101432</td>\n      <td>-0.202071</td>\n    </tr>\n  </tbody>\n</table>\n</div>"
     },
     "metadata": {},
     "execution_count": 60
    }
   ],
   "source": [
    "X.head()"
   ]
  },
  {
   "cell_type": "code",
   "execution_count": 61,
   "metadata": {},
   "outputs": [],
   "source": [
    "y = boston['target']"
   ]
  },
  {
   "cell_type": "code",
   "execution_count": 62,
   "metadata": {},
   "outputs": [
    {
     "output_type": "execute_result",
     "data": {
      "text/plain": "(506,)"
     },
     "metadata": {},
     "execution_count": 62
    }
   ],
   "source": [
    "y.shape"
   ]
  },
  {
   "cell_type": "code",
   "execution_count": 63,
   "metadata": {},
   "outputs": [],
   "source": [
    "x_train, x_val, y_train, y_val = train_test_split(X, y, test_size=0.33, random_state=5)"
   ]
  },
  {
   "cell_type": "code",
   "execution_count": 64,
   "metadata": {},
   "outputs": [
    {
     "output_type": "execute_result",
     "data": {
      "text/plain": "(339, 13)"
     },
     "metadata": {},
     "execution_count": 64
    }
   ],
   "source": [
    "x_train.shape"
   ]
  },
  {
   "cell_type": "code",
   "execution_count": 65,
   "metadata": {},
   "outputs": [
    {
     "output_type": "execute_result",
     "data": {
      "text/plain": "(13, 339)"
     },
     "metadata": {},
     "execution_count": 65
    }
   ],
   "source": [
    "x_train = x_train.T\n",
    "x_train.shape"
   ]
  },
  {
   "cell_type": "code",
   "execution_count": 66,
   "metadata": {},
   "outputs": [],
   "source": [
    "y_train = np.array([y_train])"
   ]
  },
  {
   "cell_type": "code",
   "execution_count": 67,
   "metadata": {},
   "outputs": [
    {
     "output_type": "execute_result",
     "data": {
      "text/plain": "(1, 339)"
     },
     "metadata": {},
     "execution_count": 67
    }
   ],
   "source": [
    "y_train.shape"
   ]
  },
  {
   "cell_type": "code",
   "execution_count": 68,
   "metadata": {},
   "outputs": [],
   "source": [
    "x_val = x_val.T\n",
    "y_val = np.array([y_val])"
   ]
  },
  {
   "cell_type": "code",
   "execution_count": 69,
   "metadata": {},
   "outputs": [
    {
     "output_type": "execute_result",
     "data": {
      "text/plain": "((13, 167), (1, 167))"
     },
     "metadata": {},
     "execution_count": 69
    }
   ],
   "source": [
    "x_val.shape, y_val.shape"
   ]
  },
  {
   "cell_type": "code",
   "execution_count": 72,
   "metadata": {
    "tags": [
     "outputPrepend"
    ]
   },
   "outputs": [
    {
     "output_type": "stream",
     "name": "stdout",
     "text": "ation cost =  9.929765899401215e-05\nTraining MAE =  1.0047985973404723  | Valdation MAE =  1.0389300310739824\nEpochs  389 / 500  :\nTraining cost =  1.0706780587749615e-06  | validation cost =  9.913046407402932e-05\nTraining MAE =  1.0048360237238505  | Valdation MAE =  1.0389687158710053\nEpochs  390 / 500  :\nTraining cost =  1.0495056662880728e-06  | validation cost =  9.896507510194745e-05\nTraining MAE =  1.004873078647891  | Valdation MAE =  1.0390070163595662\nEpochs  391 / 500  :\nTraining cost =  1.028754853586228e-06  | validation cost =  9.880147125731558e-05\nTraining MAE =  1.004909765830262  | Valdation MAE =  1.0390449363860317\nEpochs  392 / 500  :\nTraining cost =  1.0084172245699591e-06  | validation cost =  9.863963198277955e-05\nTraining MAE =  1.0049460889514197  | Valdation MAE =  1.0390824797582732\nEpochs  393 / 500  :\nTraining cost =  9.88484550356173e-07  | validation cost =  9.847953698035905e-05\nTraining MAE =  1.0049820516549872  | Valdation MAE =  1.0391196502460487\nEpochs  394 / 500  :\nTraining cost =  9.68948765947653e-07  | validation cost =  9.832116620778395e-05\nTraining MAE =  1.0050176575481184  | Valdation MAE =  1.0391564515813874\nEpochs  395 / 500  :\nTraining cost =  9.498019669693212e-07  | validation cost =  9.816449987488913e-05\nTraining MAE =  1.005052910201864  | Valdation MAE =  1.039192887458965\nEpochs  396 / 500  :\nTraining cost =  9.310364064691839e-07  | validation cost =  9.800951844006603e-05\nTraining MAE =  1.0050878131515337  | Valdation MAE =  1.0392289615364787\nEpochs  397 / 500  :\nTraining cost =  9.126444917831495e-07  | validation cost =  9.785620260676962e-05\nTraining MAE =  1.0051223698970537  | Valdation MAE =  1.0392646774350165\nEpochs  398 / 500  :\nTraining cost =  8.946187814622233e-07  | validation cost =  9.770453332008085e-05\nTraining MAE =  1.00515658390332  | Valdation MAE =  1.0393000387394242\nEpochs  399 / 500  :\nTraining cost =  8.769519822609361e-07  | validation cost =  9.75544917633229e-05\nTraining MAE =  1.0051904586005507  | Valdation MAE =  1.039335048998669\nEpochs  400 / 500  :\nTraining cost =  8.596369461856631e-07  | validation cost =  9.740605935473025e-05\nTraining MAE =  1.00522399738463  | Valdation MAE =  1.0393697117261966\nEpochs  401 / 500  :\nTraining cost =  8.42666667601834e-07  | validation cost =  9.725921774416925e-05\nTraining MAE =  1.0052572036174554  | Valdation MAE =  1.0394040304002878\nEpochs  402 / 500  :\nTraining cost =  8.260342803986953e-07  | validation cost =  9.711394880991311e-05\nTraining MAE =  1.005290080627276  | Valdation MAE =  1.0394380084644101\nEpochs  403 / 500  :\nTraining cost =  8.097330552106494e-07  | validation cost =  9.697023465546365e-05\nTraining MAE =  1.0053226317090285  | Valdation MAE =  1.0394716493275675\nEpochs  404 / 500  :\nTraining cost =  7.937563966937508e-07  | validation cost =  9.682805760642453e-05\nTraining MAE =  1.0053548601246727  | Valdation MAE =  1.0395049563646428\nEpochs  405 / 500  :\nTraining cost =  7.780978408565343e-07  | validation cost =  9.668740020742145e-05\nTraining MAE =  1.0053867691035197  | Valdation MAE =  1.039537932916741\nEpochs  406 / 500  :\nTraining cost =  7.627510524440703e-07  | validation cost =  9.654824521907349e-05\nTraining MAE =  1.0054183618425594  | Valdation MAE =  1.0395705822915275\nEpochs  407 / 500  :\nTraining cost =  7.477098223739949e-07  | validation cost =  9.641057561500761e-05\nTraining MAE =  1.0054496415067848  | Valdation MAE =  1.0396029077635622\nEpochs  408 / 500  :\nTraining cost =  7.329680652236774e-07  | validation cost =  9.62743745789217e-05\nTraining MAE =  1.00548061122951  | Valdation MAE =  1.039634912574629\nEpochs  409 / 500  :\nTraining cost =  7.185198167674363e-07  | validation cost =  9.61396255016933e-05\nTraining MAE =  1.005511274112689  | Valdation MAE =  1.0396665999340684\nEpochs  410 / 500  :\nTraining cost =  7.043592315627712e-07  | validation cost =  9.60063119785305e-05\nTraining MAE =  1.0055416332272302  | Valdation MAE =  1.0396979730190978\nEpochs  411 / 500  :\nTraining cost =  6.904805805846898e-07  | validation cost =  9.587441780617038e-05\nTraining MAE =  1.005571691613305  | Valdation MAE =  1.0397290349751347\nEpochs  412 / 500  :\nTraining cost =  6.768782489071334e-07  | validation cost =  9.574392698011739e-05\nTraining MAE =  1.0056014522806567  | Valdation MAE =  1.0397597889161145\nEpochs  413 / 500  :\nTraining cost =  6.635467334305873e-07  | validation cost =  9.561482369192544e-05\nTraining MAE =  1.0056309182089054  | Valdation MAE =  1.039790237924807\nEpochs  414 / 500  :\nTraining cost =  6.504806406549481e-07  | validation cost =  9.548709232652269e-05\nTraining MAE =  1.0056600923478476  | Valdation MAE =  1.0398203850531271\nEpochs  415 / 500  :\nTraining cost =  6.376746844968023e-07  | validation cost =  9.536071745957596e-05\nTraining MAE =  1.0056889776177578  | Valdation MAE =  1.0398502333224438\nEpochs  416 / 500  :\nTraining cost =  6.251236841499799e-07  | validation cost =  9.523568385489482e-05\nTraining MAE =  1.005717576909681  | Valdation MAE =  1.039879785723885\nEpochs  417 / 500  :\nTraining cost =  6.128225619890159e-07  | validation cost =  9.51119764618777e-05\nTraining MAE =  1.0057458930857264  | Valdation MAE =  1.0399090452186417\nEpochs  418 / 500  :\nTraining cost =  6.00766341514103e-07  | validation cost =  9.498958041299479e-05\nTraining MAE =  1.0057739289793575  | Valdation MAE =  1.039938014738267\nEpochs  419 / 500  :\nTraining cost =  5.889501453371353e-07  | validation cost =  9.486848102131031e-05\nTraining MAE =  1.0058016873956777  | Valdation MAE =  1.039966697184973\nEpochs  420 / 500  :\nTraining cost =  5.773691932077803e-07  | validation cost =  9.474866377804274e-05\nTraining MAE =  1.0058291711117155  | Valdation MAE =  1.0399950954319237\nEpochs  421 / 500  :\nTraining cost =  5.660188000788749e-07  | validation cost =  9.463011435015975e-05\nTraining MAE =  1.0058563828767042  | Valdation MAE =  1.040023212323527\nEpochs  422 / 500  :\nTraining cost =  5.548943742103765e-07  | validation cost =  9.451281857801308e-05\nTraining MAE =  1.0058833254123607  | Valdation MAE =  1.0400510506757195\nEpochs  423 / 500  :\nTraining cost =  5.439914153110296e-07  | validation cost =  9.439676247300637e-05\nTraining MAE =  1.0059100014131601  | Valdation MAE =  1.0400786132762556\nEpochs  424 / 500  :\nTraining cost =  5.333055127171957e-07  | validation cost =  9.428193221530007e-05\nTraining MAE =  1.0059364135466105  | Valdation MAE =  1.0401059028849875\nEpochs  425 / 500  :\nTraining cost =  5.228323436076735e-07  | validation cost =  9.416831415154989e-05\nTraining MAE =  1.0059625644535202  | Valdation MAE =  1.040132922234144\nEpochs  426 / 500  :\nTraining cost =  5.125676712543273e-07  | validation cost =  9.405589479267797e-05\nTraining MAE =  1.0059884567482662  | Valdation MAE =  1.0401596740286072\nEpochs  427 / 500  :\nTraining cost =  5.025073433074576e-07  | validation cost =  9.394466081168129e-05\nTraining MAE =  1.0060140930190593  | Valdation MAE =  1.040186160946187\nEpochs  428 / 500  :\nTraining cost =  4.92647290115267e-07  | validation cost =  9.383459904146943e-05\nTraining MAE =  1.006039475828205  | Valdation MAE =  1.0402123856378918\nEpochs  429 / 500  :\nTraining cost =  4.829835230768962e-07  | validation cost =  9.372569647273631e-05\nTraining MAE =  1.0060646077123632  | Valdation MAE =  1.0402383507281956\nEpochs  430 / 500  :\nTraining cost =  4.7351213302825735e-07  | validation cost =  9.361794025186363e-05\nTraining MAE =  1.0060894911828042  | Valdation MAE =  1.0402640588153047\nEpochs  431 / 500  :\nTraining cost =  4.64229288659895e-07  | validation cost =  9.351131767885473e-05\nTraining MAE =  1.0061141287256645  | Valdation MAE =  1.040289512471421\nEpochs  432 / 500  :\nTraining cost =  4.551312349664624e-07  | validation cost =  9.340581620530087e-05\nTraining MAE =  1.0061385228021962  | Valdation MAE =  1.0403147142430007\nEpochs  433 / 500  :\nTraining cost =  4.462142917270731e-07  | validation cost =  9.330142343237531e-05\nTraining MAE =  1.0061626758490172  | Valdation MAE =  1.0403396666510134\nEpochs 434 / 500  :\nTraining cost =  4.374748520159023e-07  | validation cost =  9.319812710886018e-05\nTraining MAE =  1.0061865902783582  | Valdation MAE =  1.040364372191196\nEpochs  435 / 500  :\nTraining cost =  4.289093807424311e-07  | validation cost =  9.309591512920068e-05\nTraining MAE =  1.006210268478306  | Valdation MAE =  1.0403888333343065\nEpochs  436 / 500  :\nTraining cost =  4.2051441322072214e-07  | validation cost =  9.299477553158704e-05\nTraining MAE =  1.0062337128130447  | Valdation MAE =  1.0404130525263735\nEpochs  437 / 500  :\nTraining cost =  4.122865537673125e-07  | validation cost =  9.28946964960688e-05\nTraining MAE =  1.0062569256230967  | Valdation MAE =  1.040437032188943\nEpochs  438 / 500  :\nTraining cost =  4.042224743270101e-07  | validation cost =  9.279566634269206e-05\nTraining MAE =  1.0062799092255572  | Valdation MAE =  1.0404607747193237\nEpochs  439 / 500  :\nTraining cost =  3.9631891312588346e-07  | validation cost =  9.269767352966714e-05\nTraining MAE =  1.0063026659143306  | Valdation MAE =  1.0404842824908307\nEpochs  440 / 500  :\nTraining cost =  3.8857267335128664e-07  | validation cost =  9.260070665156269e-05\nTraining MAE =  1.0063251979603614  | Valdation MAE =  1.0405075578530247\nEpochs  441 / 500  :\nTraining cost =  3.809806218580995e-07  | validation cost =  9.250475443752643e-05\nTraining MAE =  1.006347507611865  | Valdation MAE =  1.040530603131949\nEpochs  442 / 500  :\nTraining cost =  3.7353968790072517e-07  | validation cost =  9.240980574953054e-05\nTraining MAE =  1.0063695970945539  | Valdation MAE =  1.0405534206303668\nEpochs  443 / 500  :\nTraining cost =  3.6624686189028185e-07  | validation cost =  9.231584958064386e-05\nTraining MAE =  1.0063914686118638  | Valdation MAE =  1.0405760126279922\nEpochs  444 / 500  :\nTraining cost =  3.590991941766456e-07  | validation cost =  9.222287505333119e-05\nTraining MAE =  1.006413124345177  | Valdation MAE =  1.0405983813817221\nEpochs  445 / 500  :\nTraining cost =  3.5209379385477395e-07  | validation cost =  9.213087141777325e-05\nTraining MAE =  1.0064345664540417  | Valdation MAE =  1.0406205291258641\nEpochs  446 / 500  :\nTraining cost =  3.452278275946739e-07  | validation cost =  9.203982805021362e-05\nTraining MAE =  1.0064557970763914  | Valdation MAE =  1.0406424580723634\nEpochs  447 / 500  :\nTraining cost =  3.3849851849475554e-07  | validation cost =  9.194973445132922e-05\nTraining MAE =  1.0064768183287618  | Valdation MAE =  1.0406641704110247\nEpochs  448 / 500  :\nTraining cost =  3.3190314495796776e-07  | validation cost =  9.186058024462517e-05\nTraining MAE =  1.0064976323065038  | Valdation MAE =  1.0406856683097363\nEpochs  449 / 500  :\nTraining cost =  3.2543903959042166e-07  | validation cost =  9.1772355174853e-05\nTraining MAE =  1.0065182410839957  | Valdation MAE =  1.0407069539146874\nEpochs  450 / 500  :\nTraining cost =  3.191035881218334e-07  | validation cost =  9.168504910644906e-05\nTraining MAE =  1.0065386467148538  | Valdation MAE =  1.040728029350586\nEpochs  451 / 500  :\nTraining cost =  3.128942283476121e-07  | validation cost =  9.159865202199788e-05\nTraining MAE =  1.0065588512321402  | Valdation MAE =  1.0407488967208742\nEpochs  452 / 500  :\nTraining cost =  3.0680844909177e-07  | validation cost =  9.151315402071787e-05\nTraining MAE =  1.0065788566485672  | Valdation MAE =  1.0407695581079408\nEpochs  453 / 500  :\nTraining cost =  3.00843789190703e-07  | validation cost =  9.142854531696775e-05\nTraining MAE =  1.006598664956703  | Valdation MAE =  1.0407900155733314\nEpochs  454 / 500  :\nTraining cost =  2.949978364972553e-07  | validation cost =  9.134481623877409e-05\nTraining MAE =  1.0066182781291706  | Valdation MAE =  1.0408102711579588\nEpochs  455 / 500  :\nTraining cost =  2.8926822690431325e-07  | validation cost =  9.12619572263815e-05\nTraining MAE =  1.006637698118851  | Valdation MAE =  1.040830326882307\nEpochs  456 / 500  :\nTraining cost =  2.8365264338819444e-07  | validation cost =  9.117995883082229e-05\nTraining MAE =  1.0066569268590773  | Valdation MAE =  1.040850184746637\nEpochs  457 / 500  :\nTraining cost =  2.781488150708917e-07  | validation cost =  9.10988117125068e-05\nTraining MAE =  1.0066759662638323  | Valdation MAE =  1.0408698467311899\nEpochs  458 / 500  :\nTraining cost =  2.7275451630099546e-07  | validation cost =  9.10185066398339e-05\nTraining MAE =  1.0066948182279414  | Valdation MAE =  1.040889314796386\nEpochs  459 / 500  :\nTraining cost =  2.67467565753016e-07  | validation cost =  9.093903448782112e-05\nTraining MAE =  1.0067134846272658  | Valdation MAE =  1.0409085908830242\nEpochs  460 / 500  :\nTraining cost =  2.6228582554458686e-07  | validation cost =  9.086038623675535e-05\nTraining MAE =  1.0067319673188897  | Valdation MAE =  1.040927676912477\nEpochs  461 / 500  :\nTraining cost =  2.572072003712163e-07  | validation cost =  9.078255297086033e-05\nTraining MAE =  1.0067502681413105  | Valdation MAE =  1.040946574786886\nEpochs  462 / 500  :\nTraining cost =  2.522296366583355e-07  | validation cost =  9.070552587698523e-05\nTraining MAE =  1.0067683889146235  | Valdation MAE =  1.0409652863893548\nEpochs  463 / 500  :\nTraining cost =  2.473511217302077e-07  | validation cost =  9.062929624331147e-05\nTraining MAE =  1.006786331440707  | Valdation MAE =  1.0409838135841378\nEpochs  464 / 500  :\nTraining cost =  2.4256968299541575e-07  | validation cost =  9.055385545807665e-05\nTraining MAE =  1.0068040975034036  | Valdation MAE =  1.0410021582168312\nEpochs  465 / 500  :\nTraining cost =  2.378833871484876e-07  | validation cost =  9.047919500831665e-05\nTraining MAE =  1.0068216888687023  | Valdation MAE =  1.0410203221145569\nEpochs  466 / 500  :\nTraining cost =  2.3329033938747684e-07  | validation cost =  9.040530647862628e-05\nTraining MAE =  1.0068391072849148  | Valdation MAE =  1.0410383070861504\nEpochs  467 / 500  :\nTraining cost =  2.2878868264718832e-07  | validation cost =  9.033218154993715e-05\nTraining MAE =  1.0068563544828548  | Valdation MAE =  1.0410561149223414\nEpochs  468 / 500  :\nTraining cost =  2.2437659684758208e-07  | validation cost =  9.025981199831213e-05\nTraining MAE =  1.006873432176012  | Valdation MAE =  1.0410737473959366\nEpochs  469 / 500  :\nTraining cost =  2.200522981571728e-07  | validation cost =  9.018818969375738e-05\nTraining MAE =  1.0068903420607251  | Valdation MAE =  1.041091206261998\nEpochs  470 / 500  :\nTraining cost =  2.1581403827110767e-07  | validation cost =  9.011730659904953e-05\nTraining MAE =  1.0069070858163545  | Valdation MAE =  1.0411084932580215\nEpochs  471 / 500  :\nTraining cost =  2.1166010370364235e-07  | validation cost =  9.004715476858063e-05\nTraining MAE =  1.0069236651054512  | Valdation MAE =  1.0411256101041115\nEpochs  472 / 500  :\nTraining cost =  2.0758881509462622e-07  | validation cost =  8.997772634722025e-05\nTraining MAE =  1.0069400815739262  | Valdation MAE =  1.0411425585031562\nEpochs  473 / 500  :\nTraining cost =  2.0359852652993023e-07  | validation cost =  8.990901356918992e-05\nTraining MAE =  1.0069563368512155  | Valdation MAE =  1.0411593401409984\nEpochs  474 / 500  :\nTraining cost =  1.9968762487532233e-07  | validation cost =  8.984100875695539e-05\nTraining MAE =  1.0069724325504466  | Valdation MAE =  1.0411759566866088\nEpochs  475 / 500  :\nTraining cost =  1.9585452912357553e-07  | validation cost =  8.977370432013535e-05\nTraining MAE =  1.0069883702686  | Valdation MAE =  1.041192409792251\nEpochs  476 / 500  :\nTraining cost =  1.920976897546597e-07  | validation cost =  8.970709275442349e-05\nTraining MAE =  1.0070041515866737  | Valdation MAE =  1.0412087010936524\nEpochs  477 / 500  :\nTraining cost =  1.884155881086523e-07  | validation cost =  8.964116664052442e-05\nTraining MAE =  1.0070197780698382  | Valdation MAE =  1.041224832210167\nEpochs  478 / 500  :\nTraining cost =  1.848067357711522e-07  | validation cost =  8.957591864310715e-05\nTraining MAE =  1.0070352512676006  | Valdation MAE =  1.0412408047449409\nEpochs  479 / 500  :\nTraining cost =  1.8126967397084713e-07  | validation cost =  8.951134150977172e-05\nTraining MAE =  1.0070505727139574  | Valdation MAE =  1.041256620285074\nEpochs  480 / 500  :\nTraining cost =  1.778029729891913e-07  | validation cost =  8.94474280700281e-05\nTraining MAE =  1.0070657439275514  | Valdation MAE =  1.0412722804017807\nEpochs  481 / 500  :\nTraining cost =  1.7440523158177568e-07  | validation cost =  8.93841712342924e-05\nTraining MAE =  1.007080766411825  | Valdation MAE =  1.0412877866505477\nEpochs  482 / 500  :\nTraining cost =  1.710750764112419e-07  | validation cost =  8.932156399289422e-05\nTraining MAE =  1.0070956416551724  | Valdation MAE =  1.0413031405712943\nEpochs  483 / 500  :\nTraining cost =  1.6781116149148835e-07  | validation cost =  8.92595994150997e-05\nTraining MAE =  1.0071103711310898  | Valdation MAE =  1.041318343688525\nEpochs  484 / 500  :\nTraining cost =  1.646121676429093e-07  | validation cost =  8.919827064814557e-05\nTraining MAE =  1.0071249562983249  | Valdation MAE =  1.0413333975114853\nEpochs  485 / 500  :\nTraining cost =  1.614768019586059e-07  | validation cost =  8.913757091628685e-05\nTraining MAE =  1.0071393986010244  | Valdation MAE =  1.0413483035343147\nEpochs  486 / 500  :\nTraining cost =  1.5840379728105858e-07  | validation cost =  8.907749351986022e-05\nTraining MAE =  1.0071536994688812  | Valdation MAE =  1.0413630632361972\nEpochs  487 / 500  :\nTraining cost =  1.553919116893111e-07  | validation cost =  8.901803183435669e-05\nTraining MAE =  1.0071678603172762  | Valdation MAE =  1.0413776780815116\nEpochs  488 / 500  :\nTraining cost =  1.5243992799639859e-07  | validation cost =  8.895917930950881e-05\nTraining MAE =  1.007181882547425  | Valdation MAE =  1.0413921495199787\nEpochs  489 / 500  :\nTraining cost =  1.495466532567174e-07  | validation cost =  8.890092946838898e-05\nTraining MAE =  1.0071957675465173  | Valdation MAE =  1.041406478986809\nEpochs  490 / 500  :\nTraining cost =  1.4671091828326504e-07  | validation cost =  8.884327590651976e-05\nTraining MAE =  1.007209516687858  | Valdation MAE =  1.0414206679028473\nEpochs  491 / 500  :\nTraining cost =  1.4393157717442314e-07  | validation cost =  8.878621229099948e-05\nTraining MAE =  1.0072231313310063  | Valdation MAE =  1.041434717674717\nEpochs  492 / 500  :\nTraining cost =  1.4120750685023617e-07  | validation cost =  8.872973235963493e-05\nTraining MAE =  1.007236612821913  | Valdation MAE =  1.0414486296949623\nEpochs  493 / 500  :\nTraining cost =  1.3853760659788786e-07  | validation cost =  8.867382992008803e-05\nTraining MAE =  1.0072499624930578  | Valdation MAE =  1.0414624053421881\nEpochs  494 / 500  :\nTraining cost =  1.3592079762622103e-07  | validation cost =  8.861849884903422e-05\nTraining MAE =  1.007263181663582  | Valdation MAE =  1.0414760459812016\nEpochs  495 / 500  :\nTraining cost =  1.3335602262920029e-07  | validation cost =  8.856373309133187e-05\nTraining MAE =  1.007276271639423  | Valdation MAE =  1.0414895529631483\nEpochs  496 / 500  :\nTraining cost =  1.308422453579489e-07  | validation cost =  8.850952665920257e-05\nTraining MAE =  1.007289233713448  | Valdation MAE =  1.0415029276256493\nEpochs  497 / 500  :\nTraining cost =  1.283784502014203e-07  | validation cost =  8.84558736314214e-05\nTraining MAE =  1.0073020691655825  | Valdation MAE =  1.0415161712929382\nEpochs  498 / 500  :\nTraining cost =  1.2596364177536496e-07  | validation cost =  8.84027681525201e-05\nTraining MAE =  1.0073147792629407  | Valdation MAE =  1.0415292852759925\nEpochs  499 / 500  :\nTraining cost =  1.2359684451948404e-07  | validation cost =  8.835020443199884e-05\nTraining MAE =  1.0073273652599544  | Valdation MAE =  1.041542270872669\nEpochs  500 / 500  :\nTraining cost =  1.2127710230263117e-07  | validation cost =  8.829817674354963e-05\nTraining MAE =  1.0073398283984987  | Valdation MAE =  1.0415551293678322\n"
    },
    {
     "output_type": "display_data",
     "data": {
      "text/plain": "<Figure size 432x288 with 1 Axes>",
      "image/svg+xml": "<?xml version=\"1.0\" encoding=\"utf-8\" standalone=\"no\"?>\r\n<!DOCTYPE svg PUBLIC \"-//W3C//DTD SVG 1.1//EN\"\r\n  \"http://www.w3.org/Graphics/SVG/1.1/DTD/svg11.dtd\">\r\n<!-- Created with matplotlib (https://matplotlib.org/) -->\r\n<svg height=\"248.518125pt\" version=\"1.1\" viewBox=\"0 0 384.828125 248.518125\" width=\"384.828125pt\" xmlns=\"http://www.w3.org/2000/svg\" xmlns:xlink=\"http://www.w3.org/1999/xlink\">\r\n <defs>\r\n  <style type=\"text/css\">\r\n*{stroke-linecap:butt;stroke-linejoin:round;}\r\n  </style>\r\n </defs>\r\n <g id=\"figure_1\">\r\n  <g id=\"patch_1\">\r\n   <path d=\"M 0 248.518125 \r\nL 384.828125 248.518125 \r\nL 384.828125 0 \r\nL 0 0 \r\nz\r\n\" style=\"fill:none;\"/>\r\n  </g>\r\n  <g id=\"axes_1\">\r\n   <g id=\"patch_2\">\r\n    <path d=\"M 42.828125 224.64 \r\nL 377.628125 224.64 \r\nL 377.628125 7.2 \r\nL 42.828125 7.2 \r\nz\r\n\" style=\"fill:#ffffff;\"/>\r\n   </g>\r\n   <g id=\"matplotlib.axis_1\">\r\n    <g id=\"xtick_1\">\r\n     <g id=\"line2d_1\">\r\n      <defs>\r\n       <path d=\"M 0 0 \r\nL 0 3.5 \r\n\" id=\"m10484ec033\" style=\"stroke:#000000;stroke-width:0.8;\"/>\r\n      </defs>\r\n      <g>\r\n       <use style=\"stroke:#000000;stroke-width:0.8;\" x=\"58.046307\" xlink:href=\"#m10484ec033\" y=\"224.64\"/>\r\n      </g>\r\n     </g>\r\n     <g id=\"text_1\">\r\n      <!-- 0 -->\r\n      <defs>\r\n       <path d=\"M 31.78125 66.40625 \r\nQ 24.171875 66.40625 20.328125 58.90625 \r\nQ 16.5 51.421875 16.5 36.375 \r\nQ 16.5 21.390625 20.328125 13.890625 \r\nQ 24.171875 6.390625 31.78125 6.390625 \r\nQ 39.453125 6.390625 43.28125 13.890625 \r\nQ 47.125 21.390625 47.125 36.375 \r\nQ 47.125 51.421875 43.28125 58.90625 \r\nQ 39.453125 66.40625 31.78125 66.40625 \r\nz\r\nM 31.78125 74.21875 \r\nQ 44.046875 74.21875 50.515625 64.515625 \r\nQ 56.984375 54.828125 56.984375 36.375 \r\nQ 56.984375 17.96875 50.515625 8.265625 \r\nQ 44.046875 -1.421875 31.78125 -1.421875 \r\nQ 19.53125 -1.421875 13.0625 8.265625 \r\nQ 6.59375 17.96875 6.59375 36.375 \r\nQ 6.59375 54.828125 13.0625 64.515625 \r\nQ 19.53125 74.21875 31.78125 74.21875 \r\nz\r\n\" id=\"DejaVuSans-48\"/>\r\n      </defs>\r\n      <g transform=\"translate(54.865057 239.238438)scale(0.1 -0.1)\">\r\n       <use xlink:href=\"#DejaVuSans-48\"/>\r\n      </g>\r\n     </g>\r\n    </g>\r\n    <g id=\"xtick_2\">\r\n     <g id=\"line2d_2\">\r\n      <g>\r\n       <use style=\"stroke:#000000;stroke-width:0.8;\" x=\"120.161335\" xlink:href=\"#m10484ec033\" y=\"224.64\"/>\r\n      </g>\r\n     </g>\r\n     <g id=\"text_2\">\r\n      <!-- 10 -->\r\n      <defs>\r\n       <path d=\"M 12.40625 8.296875 \r\nL 28.515625 8.296875 \r\nL 28.515625 63.921875 \r\nL 10.984375 60.40625 \r\nL 10.984375 69.390625 \r\nL 28.421875 72.90625 \r\nL 38.28125 72.90625 \r\nL 38.28125 8.296875 \r\nL 54.390625 8.296875 \r\nL 54.390625 0 \r\nL 12.40625 0 \r\nz\r\n\" id=\"DejaVuSans-49\"/>\r\n      </defs>\r\n      <g transform=\"translate(113.798835 239.238438)scale(0.1 -0.1)\">\r\n       <use xlink:href=\"#DejaVuSans-49\"/>\r\n       <use x=\"63.623047\" xlink:href=\"#DejaVuSans-48\"/>\r\n      </g>\r\n     </g>\r\n    </g>\r\n    <g id=\"xtick_3\">\r\n     <g id=\"line2d_3\">\r\n      <g>\r\n       <use style=\"stroke:#000000;stroke-width:0.8;\" x=\"182.276362\" xlink:href=\"#m10484ec033\" y=\"224.64\"/>\r\n      </g>\r\n     </g>\r\n     <g id=\"text_3\">\r\n      <!-- 20 -->\r\n      <defs>\r\n       <path d=\"M 19.1875 8.296875 \r\nL 53.609375 8.296875 \r\nL 53.609375 0 \r\nL 7.328125 0 \r\nL 7.328125 8.296875 \r\nQ 12.9375 14.109375 22.625 23.890625 \r\nQ 32.328125 33.6875 34.8125 36.53125 \r\nQ 39.546875 41.84375 41.421875 45.53125 \r\nQ 43.3125 49.21875 43.3125 52.78125 \r\nQ 43.3125 58.59375 39.234375 62.25 \r\nQ 35.15625 65.921875 28.609375 65.921875 \r\nQ 23.96875 65.921875 18.8125 64.3125 \r\nQ 13.671875 62.703125 7.8125 59.421875 \r\nL 7.8125 69.390625 \r\nQ 13.765625 71.78125 18.9375 73 \r\nQ 24.125 74.21875 28.421875 74.21875 \r\nQ 39.75 74.21875 46.484375 68.546875 \r\nQ 53.21875 62.890625 53.21875 53.421875 \r\nQ 53.21875 48.921875 51.53125 44.890625 \r\nQ 49.859375 40.875 45.40625 35.40625 \r\nQ 44.1875 33.984375 37.640625 27.21875 \r\nQ 31.109375 20.453125 19.1875 8.296875 \r\nz\r\n\" id=\"DejaVuSans-50\"/>\r\n      </defs>\r\n      <g transform=\"translate(175.913862 239.238438)scale(0.1 -0.1)\">\r\n       <use xlink:href=\"#DejaVuSans-50\"/>\r\n       <use x=\"63.623047\" xlink:href=\"#DejaVuSans-48\"/>\r\n      </g>\r\n     </g>\r\n    </g>\r\n    <g id=\"xtick_4\">\r\n     <g id=\"line2d_4\">\r\n      <g>\r\n       <use style=\"stroke:#000000;stroke-width:0.8;\" x=\"244.39139\" xlink:href=\"#m10484ec033\" y=\"224.64\"/>\r\n      </g>\r\n     </g>\r\n     <g id=\"text_4\">\r\n      <!-- 30 -->\r\n      <defs>\r\n       <path d=\"M 40.578125 39.3125 \r\nQ 47.65625 37.796875 51.625 33 \r\nQ 55.609375 28.21875 55.609375 21.1875 \r\nQ 55.609375 10.40625 48.1875 4.484375 \r\nQ 40.765625 -1.421875 27.09375 -1.421875 \r\nQ 22.515625 -1.421875 17.65625 -0.515625 \r\nQ 12.796875 0.390625 7.625 2.203125 \r\nL 7.625 11.71875 \r\nQ 11.71875 9.328125 16.59375 8.109375 \r\nQ 21.484375 6.890625 26.8125 6.890625 \r\nQ 36.078125 6.890625 40.9375 10.546875 \r\nQ 45.796875 14.203125 45.796875 21.1875 \r\nQ 45.796875 27.640625 41.28125 31.265625 \r\nQ 36.765625 34.90625 28.71875 34.90625 \r\nL 20.21875 34.90625 \r\nL 20.21875 43.015625 \r\nL 29.109375 43.015625 \r\nQ 36.375 43.015625 40.234375 45.921875 \r\nQ 44.09375 48.828125 44.09375 54.296875 \r\nQ 44.09375 59.90625 40.109375 62.90625 \r\nQ 36.140625 65.921875 28.71875 65.921875 \r\nQ 24.65625 65.921875 20.015625 65.03125 \r\nQ 15.375 64.15625 9.8125 62.3125 \r\nL 9.8125 71.09375 \r\nQ 15.4375 72.65625 20.34375 73.4375 \r\nQ 25.25 74.21875 29.59375 74.21875 \r\nQ 40.828125 74.21875 47.359375 69.109375 \r\nQ 53.90625 64.015625 53.90625 55.328125 \r\nQ 53.90625 49.265625 50.4375 45.09375 \r\nQ 46.96875 40.921875 40.578125 39.3125 \r\nz\r\n\" id=\"DejaVuSans-51\"/>\r\n      </defs>\r\n      <g transform=\"translate(238.02889 239.238438)scale(0.1 -0.1)\">\r\n       <use xlink:href=\"#DejaVuSans-51\"/>\r\n       <use x=\"63.623047\" xlink:href=\"#DejaVuSans-48\"/>\r\n      </g>\r\n     </g>\r\n    </g>\r\n    <g id=\"xtick_5\">\r\n     <g id=\"line2d_5\">\r\n      <g>\r\n       <use style=\"stroke:#000000;stroke-width:0.8;\" x=\"306.506418\" xlink:href=\"#m10484ec033\" y=\"224.64\"/>\r\n      </g>\r\n     </g>\r\n     <g id=\"text_5\">\r\n      <!-- 40 -->\r\n      <defs>\r\n       <path d=\"M 37.796875 64.3125 \r\nL 12.890625 25.390625 \r\nL 37.796875 25.390625 \r\nz\r\nM 35.203125 72.90625 \r\nL 47.609375 72.90625 \r\nL 47.609375 25.390625 \r\nL 58.015625 25.390625 \r\nL 58.015625 17.1875 \r\nL 47.609375 17.1875 \r\nL 47.609375 0 \r\nL 37.796875 0 \r\nL 37.796875 17.1875 \r\nL 4.890625 17.1875 \r\nL 4.890625 26.703125 \r\nz\r\n\" id=\"DejaVuSans-52\"/>\r\n      </defs>\r\n      <g transform=\"translate(300.143918 239.238438)scale(0.1 -0.1)\">\r\n       <use xlink:href=\"#DejaVuSans-52\"/>\r\n       <use x=\"63.623047\" xlink:href=\"#DejaVuSans-48\"/>\r\n      </g>\r\n     </g>\r\n    </g>\r\n    <g id=\"xtick_6\">\r\n     <g id=\"line2d_6\">\r\n      <g>\r\n       <use style=\"stroke:#000000;stroke-width:0.8;\" x=\"368.621446\" xlink:href=\"#m10484ec033\" y=\"224.64\"/>\r\n      </g>\r\n     </g>\r\n     <g id=\"text_6\">\r\n      <!-- 50 -->\r\n      <defs>\r\n       <path d=\"M 10.796875 72.90625 \r\nL 49.515625 72.90625 \r\nL 49.515625 64.59375 \r\nL 19.828125 64.59375 \r\nL 19.828125 46.734375 \r\nQ 21.96875 47.46875 24.109375 47.828125 \r\nQ 26.265625 48.1875 28.421875 48.1875 \r\nQ 40.625 48.1875 47.75 41.5 \r\nQ 54.890625 34.8125 54.890625 23.390625 \r\nQ 54.890625 11.625 47.5625 5.09375 \r\nQ 40.234375 -1.421875 26.90625 -1.421875 \r\nQ 22.3125 -1.421875 17.546875 -0.640625 \r\nQ 12.796875 0.140625 7.71875 1.703125 \r\nL 7.71875 11.625 \r\nQ 12.109375 9.234375 16.796875 8.0625 \r\nQ 21.484375 6.890625 26.703125 6.890625 \r\nQ 35.15625 6.890625 40.078125 11.328125 \r\nQ 45.015625 15.765625 45.015625 23.390625 \r\nQ 45.015625 31 40.078125 35.4375 \r\nQ 35.15625 39.890625 26.703125 39.890625 \r\nQ 22.75 39.890625 18.8125 39.015625 \r\nQ 14.890625 38.140625 10.796875 36.28125 \r\nz\r\n\" id=\"DejaVuSans-53\"/>\r\n      </defs>\r\n      <g transform=\"translate(362.258946 239.238438)scale(0.1 -0.1)\">\r\n       <use xlink:href=\"#DejaVuSans-53\"/>\r\n       <use x=\"63.623047\" xlink:href=\"#DejaVuSans-48\"/>\r\n      </g>\r\n     </g>\r\n    </g>\r\n   </g>\r\n   <g id=\"matplotlib.axis_2\">\r\n    <g id=\"ytick_1\">\r\n     <g id=\"line2d_7\">\r\n      <defs>\r\n       <path d=\"M 0 0 \r\nL -3.5 0 \r\n\" id=\"med8ce6401d\" style=\"stroke:#000000;stroke-width:0.8;\"/>\r\n      </defs>\r\n      <g>\r\n       <use style=\"stroke:#000000;stroke-width:0.8;\" x=\"42.828125\" xlink:href=\"#med8ce6401d\" y=\"214.757905\"/>\r\n      </g>\r\n     </g>\r\n     <g id=\"text_7\">\r\n      <!-- 0.000 -->\r\n      <defs>\r\n       <path d=\"M 10.6875 12.40625 \r\nL 21 12.40625 \r\nL 21 0 \r\nL 10.6875 0 \r\nz\r\n\" id=\"DejaVuSans-46\"/>\r\n      </defs>\r\n      <g transform=\"translate(7.2 218.557123)scale(0.1 -0.1)\">\r\n       <use xlink:href=\"#DejaVuSans-48\"/>\r\n       <use x=\"63.623047\" xlink:href=\"#DejaVuSans-46\"/>\r\n       <use x=\"95.410156\" xlink:href=\"#DejaVuSans-48\"/>\r\n       <use x=\"159.033203\" xlink:href=\"#DejaVuSans-48\"/>\r\n       <use x=\"222.65625\" xlink:href=\"#DejaVuSans-48\"/>\r\n      </g>\r\n     </g>\r\n    </g>\r\n    <g id=\"ytick_2\">\r\n     <g id=\"line2d_8\">\r\n      <g>\r\n       <use style=\"stroke:#000000;stroke-width:0.8;\" x=\"42.828125\" xlink:href=\"#med8ce6401d\" y=\"189.345502\"/>\r\n      </g>\r\n     </g>\r\n     <g id=\"text_8\">\r\n      <!-- 0.002 -->\r\n      <g transform=\"translate(7.2 193.14472)scale(0.1 -0.1)\">\r\n       <use xlink:href=\"#DejaVuSans-48\"/>\r\n       <use x=\"63.623047\" xlink:href=\"#DejaVuSans-46\"/>\r\n       <use x=\"95.410156\" xlink:href=\"#DejaVuSans-48\"/>\r\n       <use x=\"159.033203\" xlink:href=\"#DejaVuSans-48\"/>\r\n       <use x=\"222.65625\" xlink:href=\"#DejaVuSans-50\"/>\r\n      </g>\r\n     </g>\r\n    </g>\r\n    <g id=\"ytick_3\">\r\n     <g id=\"line2d_9\">\r\n      <g>\r\n       <use style=\"stroke:#000000;stroke-width:0.8;\" x=\"42.828125\" xlink:href=\"#med8ce6401d\" y=\"163.933099\"/>\r\n      </g>\r\n     </g>\r\n     <g id=\"text_9\">\r\n      <!-- 0.004 -->\r\n      <g transform=\"translate(7.2 167.732317)scale(0.1 -0.1)\">\r\n       <use xlink:href=\"#DejaVuSans-48\"/>\r\n       <use x=\"63.623047\" xlink:href=\"#DejaVuSans-46\"/>\r\n       <use x=\"95.410156\" xlink:href=\"#DejaVuSans-48\"/>\r\n       <use x=\"159.033203\" xlink:href=\"#DejaVuSans-48\"/>\r\n       <use x=\"222.65625\" xlink:href=\"#DejaVuSans-52\"/>\r\n      </g>\r\n     </g>\r\n    </g>\r\n    <g id=\"ytick_4\">\r\n     <g id=\"line2d_10\">\r\n      <g>\r\n       <use style=\"stroke:#000000;stroke-width:0.8;\" x=\"42.828125\" xlink:href=\"#med8ce6401d\" y=\"138.520696\"/>\r\n      </g>\r\n     </g>\r\n     <g id=\"text_10\">\r\n      <!-- 0.006 -->\r\n      <defs>\r\n       <path d=\"M 33.015625 40.375 \r\nQ 26.375 40.375 22.484375 35.828125 \r\nQ 18.609375 31.296875 18.609375 23.390625 \r\nQ 18.609375 15.53125 22.484375 10.953125 \r\nQ 26.375 6.390625 33.015625 6.390625 \r\nQ 39.65625 6.390625 43.53125 10.953125 \r\nQ 47.40625 15.53125 47.40625 23.390625 \r\nQ 47.40625 31.296875 43.53125 35.828125 \r\nQ 39.65625 40.375 33.015625 40.375 \r\nz\r\nM 52.59375 71.296875 \r\nL 52.59375 62.3125 \r\nQ 48.875 64.0625 45.09375 64.984375 \r\nQ 41.3125 65.921875 37.59375 65.921875 \r\nQ 27.828125 65.921875 22.671875 59.328125 \r\nQ 17.53125 52.734375 16.796875 39.40625 \r\nQ 19.671875 43.65625 24.015625 45.921875 \r\nQ 28.375 48.1875 33.59375 48.1875 \r\nQ 44.578125 48.1875 50.953125 41.515625 \r\nQ 57.328125 34.859375 57.328125 23.390625 \r\nQ 57.328125 12.15625 50.6875 5.359375 \r\nQ 44.046875 -1.421875 33.015625 -1.421875 \r\nQ 20.359375 -1.421875 13.671875 8.265625 \r\nQ 6.984375 17.96875 6.984375 36.375 \r\nQ 6.984375 53.65625 15.1875 63.9375 \r\nQ 23.390625 74.21875 37.203125 74.21875 \r\nQ 40.921875 74.21875 44.703125 73.484375 \r\nQ 48.484375 72.75 52.59375 71.296875 \r\nz\r\n\" id=\"DejaVuSans-54\"/>\r\n      </defs>\r\n      <g transform=\"translate(7.2 142.319915)scale(0.1 -0.1)\">\r\n       <use xlink:href=\"#DejaVuSans-48\"/>\r\n       <use x=\"63.623047\" xlink:href=\"#DejaVuSans-46\"/>\r\n       <use x=\"95.410156\" xlink:href=\"#DejaVuSans-48\"/>\r\n       <use x=\"159.033203\" xlink:href=\"#DejaVuSans-48\"/>\r\n       <use x=\"222.65625\" xlink:href=\"#DejaVuSans-54\"/>\r\n      </g>\r\n     </g>\r\n    </g>\r\n    <g id=\"ytick_5\">\r\n     <g id=\"line2d_11\">\r\n      <g>\r\n       <use style=\"stroke:#000000;stroke-width:0.8;\" x=\"42.828125\" xlink:href=\"#med8ce6401d\" y=\"113.108293\"/>\r\n      </g>\r\n     </g>\r\n     <g id=\"text_11\">\r\n      <!-- 0.008 -->\r\n      <defs>\r\n       <path d=\"M 31.78125 34.625 \r\nQ 24.75 34.625 20.71875 30.859375 \r\nQ 16.703125 27.09375 16.703125 20.515625 \r\nQ 16.703125 13.921875 20.71875 10.15625 \r\nQ 24.75 6.390625 31.78125 6.390625 \r\nQ 38.8125 6.390625 42.859375 10.171875 \r\nQ 46.921875 13.96875 46.921875 20.515625 \r\nQ 46.921875 27.09375 42.890625 30.859375 \r\nQ 38.875 34.625 31.78125 34.625 \r\nz\r\nM 21.921875 38.8125 \r\nQ 15.578125 40.375 12.03125 44.71875 \r\nQ 8.5 49.078125 8.5 55.328125 \r\nQ 8.5 64.0625 14.71875 69.140625 \r\nQ 20.953125 74.21875 31.78125 74.21875 \r\nQ 42.671875 74.21875 48.875 69.140625 \r\nQ 55.078125 64.0625 55.078125 55.328125 \r\nQ 55.078125 49.078125 51.53125 44.71875 \r\nQ 48 40.375 41.703125 38.8125 \r\nQ 48.828125 37.15625 52.796875 32.3125 \r\nQ 56.78125 27.484375 56.78125 20.515625 \r\nQ 56.78125 9.90625 50.3125 4.234375 \r\nQ 43.84375 -1.421875 31.78125 -1.421875 \r\nQ 19.734375 -1.421875 13.25 4.234375 \r\nQ 6.78125 9.90625 6.78125 20.515625 \r\nQ 6.78125 27.484375 10.78125 32.3125 \r\nQ 14.796875 37.15625 21.921875 38.8125 \r\nz\r\nM 18.3125 54.390625 \r\nQ 18.3125 48.734375 21.84375 45.5625 \r\nQ 25.390625 42.390625 31.78125 42.390625 \r\nQ 38.140625 42.390625 41.71875 45.5625 \r\nQ 45.3125 48.734375 45.3125 54.390625 \r\nQ 45.3125 60.0625 41.71875 63.234375 \r\nQ 38.140625 66.40625 31.78125 66.40625 \r\nQ 25.390625 66.40625 21.84375 63.234375 \r\nQ 18.3125 60.0625 18.3125 54.390625 \r\nz\r\n\" id=\"DejaVuSans-56\"/>\r\n      </defs>\r\n      <g transform=\"translate(7.2 116.907512)scale(0.1 -0.1)\">\r\n       <use xlink:href=\"#DejaVuSans-48\"/>\r\n       <use x=\"63.623047\" xlink:href=\"#DejaVuSans-46\"/>\r\n       <use x=\"95.410156\" xlink:href=\"#DejaVuSans-48\"/>\r\n       <use x=\"159.033203\" xlink:href=\"#DejaVuSans-48\"/>\r\n       <use x=\"222.65625\" xlink:href=\"#DejaVuSans-56\"/>\r\n      </g>\r\n     </g>\r\n    </g>\r\n    <g id=\"ytick_6\">\r\n     <g id=\"line2d_12\">\r\n      <g>\r\n       <use style=\"stroke:#000000;stroke-width:0.8;\" x=\"42.828125\" xlink:href=\"#med8ce6401d\" y=\"87.69589\"/>\r\n      </g>\r\n     </g>\r\n     <g id=\"text_12\">\r\n      <!-- 0.010 -->\r\n      <g transform=\"translate(7.2 91.495109)scale(0.1 -0.1)\">\r\n       <use xlink:href=\"#DejaVuSans-48\"/>\r\n       <use x=\"63.623047\" xlink:href=\"#DejaVuSans-46\"/>\r\n       <use x=\"95.410156\" xlink:href=\"#DejaVuSans-48\"/>\r\n       <use x=\"159.033203\" xlink:href=\"#DejaVuSans-49\"/>\r\n       <use x=\"222.65625\" xlink:href=\"#DejaVuSans-48\"/>\r\n      </g>\r\n     </g>\r\n    </g>\r\n    <g id=\"ytick_7\">\r\n     <g id=\"line2d_13\">\r\n      <g>\r\n       <use style=\"stroke:#000000;stroke-width:0.8;\" x=\"42.828125\" xlink:href=\"#med8ce6401d\" y=\"62.283487\"/>\r\n      </g>\r\n     </g>\r\n     <g id=\"text_13\">\r\n      <!-- 0.012 -->\r\n      <g transform=\"translate(7.2 66.082706)scale(0.1 -0.1)\">\r\n       <use xlink:href=\"#DejaVuSans-48\"/>\r\n       <use x=\"63.623047\" xlink:href=\"#DejaVuSans-46\"/>\r\n       <use x=\"95.410156\" xlink:href=\"#DejaVuSans-48\"/>\r\n       <use x=\"159.033203\" xlink:href=\"#DejaVuSans-49\"/>\r\n       <use x=\"222.65625\" xlink:href=\"#DejaVuSans-50\"/>\r\n      </g>\r\n     </g>\r\n    </g>\r\n    <g id=\"ytick_8\">\r\n     <g id=\"line2d_14\">\r\n      <g>\r\n       <use style=\"stroke:#000000;stroke-width:0.8;\" x=\"42.828125\" xlink:href=\"#med8ce6401d\" y=\"36.871084\"/>\r\n      </g>\r\n     </g>\r\n     <g id=\"text_14\">\r\n      <!-- 0.014 -->\r\n      <g transform=\"translate(7.2 40.670303)scale(0.1 -0.1)\">\r\n       <use xlink:href=\"#DejaVuSans-48\"/>\r\n       <use x=\"63.623047\" xlink:href=\"#DejaVuSans-46\"/>\r\n       <use x=\"95.410156\" xlink:href=\"#DejaVuSans-48\"/>\r\n       <use x=\"159.033203\" xlink:href=\"#DejaVuSans-49\"/>\r\n       <use x=\"222.65625\" xlink:href=\"#DejaVuSans-52\"/>\r\n      </g>\r\n     </g>\r\n    </g>\r\n    <g id=\"ytick_9\">\r\n     <g id=\"line2d_15\">\r\n      <g>\r\n       <use style=\"stroke:#000000;stroke-width:0.8;\" x=\"42.828125\" xlink:href=\"#med8ce6401d\" y=\"11.458681\"/>\r\n      </g>\r\n     </g>\r\n     <g id=\"text_15\">\r\n      <!-- 0.016 -->\r\n      <g transform=\"translate(7.2 15.2579)scale(0.1 -0.1)\">\r\n       <use xlink:href=\"#DejaVuSans-48\"/>\r\n       <use x=\"63.623047\" xlink:href=\"#DejaVuSans-46\"/>\r\n       <use x=\"95.410156\" xlink:href=\"#DejaVuSans-48\"/>\r\n       <use x=\"159.033203\" xlink:href=\"#DejaVuSans-49\"/>\r\n       <use x=\"222.65625\" xlink:href=\"#DejaVuSans-54\"/>\r\n      </g>\r\n     </g>\r\n    </g>\r\n   </g>\r\n   <g id=\"line2d_16\">\r\n    <path clip-path=\"url(#p1dfaacbf52)\" d=\"M 58.046307 17.083636 \r\nL 64.25781 146.062651 \r\nL 70.469312 179.330544 \r\nL 76.680815 192.972379 \r\nL 82.892318 200.151626 \r\nL 89.103821 204.010154 \r\nL 95.315324 206.348234 \r\nL 101.526826 207.984483 \r\nL 107.738329 209.227375 \r\nL 113.949832 210.235162 \r\nL 120.161335 211.059303 \r\nL 126.372837 211.733264 \r\nL 132.58434 212.284413 \r\nL 138.795843 212.735127 \r\nL 145.007346 213.10371 \r\nL 151.218849 213.405127 \r\nL 157.430351 213.651619 \r\nL 163.641854 213.853193 \r\nL 169.853357 214.018035 \r\nL 176.06486 214.152839 \r\nL 182.276362 214.263078 \r\nL 188.487865 214.353229 \r\nL 194.699368 214.426952 \r\nL 200.910871 214.487241 \r\nL 207.122374 214.536544 \r\nL 213.333876 214.576863 \r\nL 219.545379 214.609834 \r\nL 225.756882 214.636798 \r\nL 231.968385 214.658848 \r\nL 238.179888 214.67688 \r\nL 244.39139 214.691626 \r\nL 250.602893 214.703686 \r\nL 256.814396 214.713548 \r\nL 263.025899 214.721612 \r\nL 269.237401 214.728208 \r\nL 275.448904 214.733601 \r\nL 281.660407 214.738012 \r\nL 287.87191 214.741619 \r\nL 294.083413 214.744569 \r\nL 300.294915 214.746982 \r\nL 306.506418 214.748955 \r\nL 312.717921 214.750568 \r\nL 318.929424 214.751888 \r\nL 325.140926 214.752967 \r\nL 331.352429 214.75385 \r\nL 337.563932 214.754572 \r\nL 343.775435 214.755162 \r\nL 349.986938 214.755645 \r\nL 356.19844 214.75604 \r\nL 362.409943 214.756364 \r\n\" style=\"fill:none;stroke:#1f77b4;stroke-linecap:square;stroke-width:1.5;\"/>\r\n   </g>\r\n   <g id=\"patch_3\">\r\n    <path d=\"M 42.828125 224.64 \r\nL 42.828125 7.2 \r\n\" style=\"fill:none;stroke:#000000;stroke-linecap:square;stroke-linejoin:miter;stroke-width:0.8;\"/>\r\n   </g>\r\n   <g id=\"patch_4\">\r\n    <path d=\"M 377.628125 224.64 \r\nL 377.628125 7.2 \r\n\" style=\"fill:none;stroke:#000000;stroke-linecap:square;stroke-linejoin:miter;stroke-width:0.8;\"/>\r\n   </g>\r\n   <g id=\"patch_5\">\r\n    <path d=\"M 42.828125 224.64 \r\nL 377.628125 224.64 \r\n\" style=\"fill:none;stroke:#000000;stroke-linecap:square;stroke-linejoin:miter;stroke-width:0.8;\"/>\r\n   </g>\r\n   <g id=\"patch_6\">\r\n    <path d=\"M 42.828125 7.2 \r\nL 377.628125 7.2 \r\n\" style=\"fill:none;stroke:#000000;stroke-linecap:square;stroke-linejoin:miter;stroke-width:0.8;\"/>\r\n   </g>\r\n  </g>\r\n </g>\r\n <defs>\r\n  <clipPath id=\"p1dfaacbf52\">\r\n   <rect height=\"217.44\" width=\"334.8\" x=\"42.828125\" y=\"7.2\"/>\r\n  </clipPath>\r\n </defs>\r\n</svg>\r\n",
      "image/png": "[encoded data removed]"
     },
     "metadata": {
      "needs_background": "light"
     }
    }
   ],
   "source": [
    "linear_regression_model(x_train, y_train, x_val, y_val, 0.4, 500)"
   ]
  },
  {
   "cell_type": "markdown",
   "metadata": {},
   "source": [
    "# Compare our model with sklearn linear regression"
   ]
  },
  {
   "cell_type": "code",
   "execution_count": 73,
   "metadata": {},
   "outputs": [],
   "source": [
    "from sklearn import linear_model"
   ]
  },
  {
   "cell_type": "code",
   "execution_count": 74,
   "metadata": {},
   "outputs": [],
   "source": [
    "linear_regression = linear_model.LinearRegression()\n",
    "model = linear_regression.fit(x_train.T, y_train.T)\n",
    "predictions = linear_regression.predict(x_val.T)"
   ]
  },
  {
   "cell_type": "code",
   "execution_count": 75,
   "metadata": {},
   "outputs": [
    {
     "output_type": "execute_result",
     "data": {
      "text/plain": "(167, 1)"
     },
     "metadata": {},
     "execution_count": 75
    }
   ],
   "source": [
    "predictions.shape"
   ]
  },
  {
   "cell_type": "code",
   "execution_count": 76,
   "metadata": {},
   "outputs": [],
   "source": [
    "MAE_val_with_sklearn = (1/y_val.shape[1])*np.sum(np.abs(predictions-y_val.T))"
   ]
  },
  {
   "cell_type": "code",
   "execution_count": 77,
   "metadata": {},
   "outputs": [
    {
     "output_type": "execute_result",
     "data": {
      "text/plain": "0.001183122279249755"
     },
     "metadata": {},
     "execution_count": 77
    }
   ],
   "source": [
    "MAE_val_with_sklearn"
   ]
  },
  {
   "cell_type": "code",
   "execution_count": null,
   "metadata": {},
   "outputs": [],
   "source": []
  }
 ],
 "metadata": {
  "language_info": {
   "codemirror_mode": {
    "name": "ipython",
    "version": 3
   },
   "file_extension": ".py",
   "mimetype": "text/x-python",
   "name": "python",
   "nbconvert_exporter": "python",
   "pygments_lexer": "ipython3",
   "version": "3.8.3-final"
  },
  "orig_nbformat": 2,
  "kernelspec": {
   "name": "python38332bitc91f7d4947b947cea9b7b17642510d2c",
   "display_name": "Python 3.8.3 32-bit"
  }
 },
 "nbformat": 4,
 "nbformat_minor": 2
}